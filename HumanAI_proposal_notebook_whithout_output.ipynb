{
  "cells": [
    {
      "cell_type": "markdown",
      "metadata": {
        "id": "e8efssZ48D04"
      },
      "source": [
        "Hi\n",
        "I am Ahmet. I am a student studying computer engineering at Mugla University. For my test, I developed a transformers model based on encoder-decoder architecture similar to trocr, which is known for its high accuracy in various OCR metrics. Due to the high computational requirements of training a transformer model from scratch, I trained it on a small dataset and observed good performance. To meet the requirement of 80% accuracy, I fine-tune a pre-trained version of trocr."
      ]
    },
    {
      "cell_type": "markdown",
      "metadata": {
        "id": "0kblYI66RoF7"
      },
      "source": [
        "* # Sections\n",
        "## Section 1: Prepare Dataset\n",
        "## Section 2: Train\n",
        "### Section 2.1: Create Vision Encoder Decoder Model from scratch\n",
        "### Section 2.2: Using Pre Trained OCR\n",
        "## Section 3: Evaluation and Result\n",
        "\n",
        "\n",
        "\n"
      ]
    },
    {
      "cell_type": "markdown",
      "metadata": {
        "id": "Bh0g23Ck8a2Q"
      },
      "source": [
        "# What Value I Can Add to the Project\n",
        "### Create LoRA modules for each font\n",
        "In the paper titled \"**Combining OCR Models for Reading Early Modern Printed Books\" by Seuret, Mathias et al.**, it is noted that **OCR performance is significantly affected by font style**. The authors found that **selecting fine-tuned models with font group recognition greatly improves the results**.\n",
        "\n",
        "LoRA (Low-Rank Adaptation of Large Language Models) is a PEFT (Parameter-Efficient Fine-Tuning) technique that allows for the fine-tuning of modules on transformer models without changing the base model parameters. This technique can also be applied to vision transformers. **By using LoRA, modules can fine-tune for each font while utilizing base model adaptation with minimal computational power**. As part of the team responsible for creating the vision transformers course for **Hugging Face**, I have developed a course on using LoRA to fine-tune vision transformer models. While it is not officially released, you can access it here: [johko/notebooks/Unit 3 - Vision Transformers/LoRA-Image-Classification](https://github.com/johko/computer-vision-course/blob/main/notebooks/Unit%203%20-%20Vision%20Transformers/LoRA-Image-Classification.ipynb).\n",
        "\n",
        "\n",
        "### Postprocessing with NLP techniques\n",
        "NLP techniques can use for postprocessing. After applying OCR to a document, NLP models like BERT can be used to correct errors in the OCR output **by predicting the correct words within the context of the surrounding text**. BERT could use at understanding the context of a word in a sentence. It can provide replacements for words that might have been misrecognized by the OCR system [1](https://medium.com/doma/using-nlp-bert-to-improve-ocr-accuracy-385c98ae174c) [2](https://www.plugger.ai/blog/how-does-nlp-help-with-text-recognition). I have taken the CENG 3526 Natural Language Processing course and can develop a system that utilizes such techniques."
      ]
    },
    {
      "cell_type": "markdown",
      "metadata": {
        "id": "bRnsRlUm9ODH"
      },
      "source": [
        "## Set-up environment"
      ]
    },
    {
      "cell_type": "code",
      "execution_count": null,
      "metadata": {
        "id": "zYo4sOocpJxX"
      },
      "outputs": [],
      "source": [
        "! pip install -U -q accelerate\n",
        "! pip install -U -q transformers\n",
        "! pip install -q datasets jiwer"
      ]
    },
    {
      "cell_type": "markdown",
      "metadata": {
        "id": "TBa4NjRC9eax"
      },
      "source": [
        "Import necessery librarys"
      ]
    },
    {
      "cell_type": "code",
      "execution_count": 2,
      "metadata": {
        "colab": {
          "base_uri": "https://localhost:8080/"
        },
        "id": "846DpUUQgwOe",
        "outputId": "64c4564f-06ad-4f2b-cb7f-617093e62875"
      },
      "outputs": [
        {
          "output_type": "stream",
          "name": "stdout",
          "text": [
            "Mounted at /content/drive\n"
          ]
        }
      ],
      "source": [
        "import os\n",
        "import pandas as pd\n",
        "from sklearn.model_selection import train_test_split\n",
        "import torch\n",
        "from torch.utils.data import Dataset\n",
        "from PIL import Image\n",
        "from transformers import TrOCRProcessor\n",
        "from transformers import VisionEncoderDecoderModel\n",
        "from transformers import Seq2SeqTrainer, Seq2SeqTrainingArguments\n",
        "\n",
        "\n",
        "\n",
        "from google.colab import drive\n",
        "drive.mount('/content/drive')"
      ]
    },
    {
      "cell_type": "markdown",
      "metadata": {
        "id": "KSG6myhVTnq7"
      },
      "source": [
        "# Section 1 Prepare Dataset"
      ]
    },
    {
      "cell_type": "markdown",
      "metadata": {
        "id": "1jh0cgw_9oiE"
      },
      "source": [
        "To prepare the data for training, I utilize a synthetic data generator designed for printed documants. The library i use for this task is TextRecognitionDataGenerator which is the same library used to pretrain trocr on synthetic text. For additional dataset i found [Spanish Redonda (Round Script) 16th-17th Century](https://readcoop.eu/model/spanish-redonda-round-script-16th-17th-century/). Although this datasets isn't publicly available, I contacted the author and they agreed to share if it is for research purposes, not for commercial use."
      ]
    },
    {
      "cell_type": "markdown",
      "metadata": {
        "id": "Af7iBTnx9rGc"
      },
      "source": [
        "### Font\n",
        "Given the limited computational power, it is necessary to fine-tune TROCR using fonts that are similar. I use online font identification websites such as [myfonts](https://www.myfonts.com/) and [whatfontisthis](https://www.whatfontis.com/) to find the most similar fonts. Once identified, I download these fonts from [OnlineWebFonts](https://www.onlinewebfonts.com).\n",
        "\n",
        "Also disturtion, random_skew and random_blur added for preparing model to diffent edge cases"
      ]
    },
    {
      "cell_type": "markdown",
      "metadata": {
        "id": "1DQp_CzJ_A8W"
      },
      "source": [
        "Example image to identify fonts\n",
        "\n",
        "![Ekran görüntüsü 2024-03-13 133828.png](data:image/png;base64,iVBORw0KGgoAAAANSUhEUgAAAkoAAACGCAYAAAAilqV/AAAAAXNSR0IArs4c6QAAAARnQU1BAACxjwv8YQUAAAAJcEhZcwAAEnQAABJ0Ad5mH3gAADe1SURBVHhe7Z15nF1Vne3rTjWPSVWSqiQkkDmYMIQMjGGQOYgoKFFBcMCn4oDarW2/19ptt6+f7dPXDv1obcCWQUUIgs1gQsJMAkgIkAGSkAAhc81Vt4Z7b1W9HM7vfXb2Xuu2973+s9eXP2pxPnc4Z09n556110707H1prOwo8vm8KUehgMdGR0dN/TuMeR/9LslkwpQjnU6bcpSXl5tyVFT4x8oz+BoGO9exMTw2OuIfGyXnT983yl6Hx8rK8NpDCiMjphyj5FgimTTlSAXlmMlkTDnSaTzG6pxd5/DwsKmYxsYmU449e94x5WhpmWDKMTAwZMqRzxdMxVRVVZpyZDIpU458PmfKwdpsdXWVqZiq6mpTjjFSl7RPjPjnGjES1FMygXWUSGAbyA3j5+dyeCyZ9Os3ncb2nyblk0jgNQ0OZk05+vv7TMVMmjTRlKO9vd2Uo7LSL9eIiooKU459+w6YimlubjHlSCbx/CsqsB0cOnTQlGNCi/95w8ODphz5AraVUdLWE2Wk/wblSKqS1u+RVmV/HYUCtp9wnCplDHwX8pVs/Ekm/LJlZT02hh/GjrHiCQ+y8ZO9L5XC8T+TYcf8a0+m8PxzQ/4YFTE4hGPNGLknpMv9k0uSMZaVGa9zPAb3F3IObFxn58G+cYxXigdrF2ysZ68Lz5e9JkHu73QcJK9LkNcBf/oSS4bVGy3rIy9LdL79R++r2U2BHRsdJTf0oCCT5ERYZVZW4kBYVYWDbzgxSqdLa7SlVHpE2JAZtJ5Y47O/RwOfj6daVlNTY+ooyI0oH9zUIvr6/GOV5AZTQco6VVdnytG9b58px/bt203FrN+wwZSjs7PLlKMQTIAi2OSytbXNVMwJJ5xgyrH84gtNHcUQ3hAHs/2mHKzOQ0od9EoZcFinGyFtjJUFa4tjwXmw/pUpZ5Nj7CfhpDcil/ePDWRxMrVly1ZTji1btphyvP3226Yc/f3+551++ummHAsWLDTlWPCeBaYcBw74k66IhsYGUzFZ0gZyObzu8nK8KdfUYj8MJ5e9vT2mHFXBZDyioaHelIP94yccZ0fIZJy1uwyZUJWTfySFb2XtLpnAskiSiUwp/wgo9R+QrJ+kyCQonKSw97EJKDtGTqOsHOf2AJ0c/H+OGewfZeS0OOQ8wokpnwDhMT4m/en7+3+kLumEMChHPmnBY+w+mmAHA2i9Ffks8q1CCCGEECJCEyUhhBBCiCJooiSEEEIIUYTEoV0bvAeNeWKCHaHPfdkzTP8YeYRZxh4LMl9OTU2tKUfotWAeDfbskz2vZAbO8Jk6e4bJvpNBLh0Osme8IyU8G44oxQxaX4/eiNDwHdHTjV6Lxx5/zJTj2WefNRXTFniKIpqbm005mJ/k4EE044Zm6HHjxplyXHfddaYcTU1oKmdtKht4bkJPVwQzwDNjcniuEaxPhLA6Z8ZVtsAh9Kywcygn58oWPTDf4cCA7/V65ZVXTDmYH4l5ddjnv/DCC6Zi6og37tJLV5hyfPCDHzDlYKbysJ76iI9veBiNveXE11Vbi+NP6D9lfZX5wcoriF+IvDccewcGBkw5hogxmfk5q6uw/eeDMYN5BzMZbD8V5ehrZItCQg8R9d6RY3RELWGcZeMz9abQ1yHpTODBsb9HU7pHCQmvnY3r1C9E+jm/f/nH2PtYm2XjCDs3rDssC+ZH4n4zUieB/4i/j9zfafmzzzfx/4w8SkIIIYQQRdFESQghhBCiCJooCSGEEEIUQRMlIYQQQogiJA7sfMZzZOWICbNAjjFTWFmQ4Nrb22vKUd/gh8JFMONtHTNTQioqMdaVbObG94ZGvRQLxWLhWfb3TxF+JzPMscRYZtxjpsIQFjjJgsR27dptyrFx40ZTjvb2w6Zirrn2WlOOcZNaTTl6Dx8y5WAG79///vemYtatW2fKcfnl7zflOPvss005mBE8TP5m7bOmBtO6q0mCd/hZEaHRdv/+/aYczARbW4ufz0IKw+bI0sHZIogUSRPOZjGk8+GHHzEVwwzlbW2TTTlmzDjOlIOZ+n93/+9MxbxE2tiyZUtNOS666CJTjtCYHBH2Q2Z87ulB4zkz67/zzh5TjjBEs57U0YwZx5pyNDbhmHekJ9pfBxjNSRcPQ0cj2PjGhoewzY6QxQeVxBjO2hQzeIcLIViiNzMrl0o45pVqrC7V9I1B9/j57DtLPRYu9ig1HJMtEmH3iTDMmYVLsjZVMkE5llzWeKgkSv18Xv4m/h1KPa/oO/WLkhBCCCFEETRREkIIIYQogiZKQgghhBBF0ERJCCGEEKIIiX07nvZsT2xX8Xw+Z8rBDFSh2XrfPjSzhjvER1QTAy1L7Q13rGZ+rVJ2tY4ozcyNJli+EzIxndnfo4HkVGKsLrCUVHKMGW3Dc2Ppp7kcGvPffBPN3Pv27TPlWPCe95iKmThxkilHgSS7Hz7sm8AjJhMD8LqHHjIV873v/YMpx5KlaPb9yMqPmnKw9hmWDzP7MhM4M3jv3v2mKUd4bP9+NKwz43PTuEZTjubxmDaezvhte3QUjZ91dWgcHh7GOjl4AOvku9/9e1MxK1ZgSvbKlStNOViyNTNNh0nZ/SQ5u5rsvs/GApZGDQZd0u872jtMObq7u005fvWrX5lyPPPMM6ZiZs+ebcpxxRWXm3LMnYevSySxfWaD8qgmi1yqKrEtDg3h+MzM+pCWTgZQ9p11dWhar6rE8i+H7fex/NkCFnYe5BDsts/6OBt4aVo3AdZZJPDzqXGYXNMIORaWf56MxSzRnpq5yXmEzZ2aock9gd3nWAJ2uJCJ3WsZzFTO7n1hmdGyJsf4oih8HVBiW4kWiJV2pUIIIYQQ/wnRREkIIYQQogiaKAkhhBBCFEETJSGEEEKIIiT2bn/Kcz1BOuwRcjk0eLOE6tAd1dnZZcpRVYVmxFqSwl1fj6bU0MCcIGay8nKIV43cWCYcoyQhNjRSU8Oc/T2aZAo/n6Z6B8eYoS2XQ2MmM/hlmJk7HZiVB9HQ2deHBtqdO3aYcjCD3KJFi0zFMLMgM/4zY29z83hTjq1bt5qK+dGPfmzKMX48Jj7feOONphz1xNRcUembTQdJ+bC2WF2NBtdDhzBtPDTA9/RgWTePx+uurSMG5nrsJ/39fjmmWLsjyd+HDrabcjzz9AZTjscee9JUzPXXXW/KcfElF5tyMLNmRwd+Z0OQyl9ZhYnYA9msKcfA4IApRyVJ0y4PjrFg4nSQHh3x1ptozL/ttl+Ycjz//POmYubMKc3MfdyMaaaOIoF9v7fXr1/W7qqrsX2yBOxC7k+Pb9TMTVLo2c4JqRSOP+F4jDspROMntlm+sAbPHz6/RLMyu09QEv44y8ZntrCG3hQII8F7mUmbHWP3Kjb2huMBW8zD3keKn977wvpkC5vCdPAIanYnuwqEOw2w5HhmkmfXxMzoIdS4XaRNldiChBBCCCH+86GJkhBCCCFEETRREkIIIYQogiZKQgghhBBFSOwLzNyDQ2hwHc6hwTtDTJGJhG/uGhzE97FjNSWauSsqKk3FsHMoD14TwYxdhQKawkLTNDOTMZMh+/zQWB2RBvMbGt9YMnqOGOwjK1pIOvjOGpJyzAx4j6551JSjs6vTlOOC8883FcPSwVlKc5YYdA8fRjP0wcAg/Ztf/8aUY3gYzeI33fQVU462tsmmHJVB22AmYWZcZQbXbD9eUzeY1kszGWaCxO0I4skue2fvW6ZiqogZOpdDk+SrL/sm+Yhf//oeU46aaj8B+5Of+pQpx9y5c005mDGfGWEHBvwyC83LEex9rM2mSNurrPTrN0faypSpU005Dh3EtvjkU76xPaK7y0/wnjV7linH9On4+T292JfyeTLODvvHKkn6dVUVppSXZ7AdJBOkAYXtEZvnkTGWmOQhcTuqJxy7RoIxlRm+qQGYfBYzeIfvxfH0yHWzY6TPkUsvK4z45Z8nuwywxSp0UQU5jxDiS6ZlwczWpdxf2CIjRiFPjNUFPBaauZlZn93TRlkyNzNzB+XNFjaxnSvofSiDi7rAqM1M4NTMrWRuIYQQQoiiaKIkhBBCCFEETZSEEEIIIYqQOLhrvfdQsTCCz2XDIKiIgwcOmnKEYW7s2TY7xkLgMuQZY2WwczYLr+zr7zflaGrEHeHZs87wGTvzC7HnrSxcMpNhgWz+80/2vkHim2GBXSxMLPQXhJ6liDx57rtt2zZTjn4STLlkyWJTMXQncEJPD+7O3t6Ou9f39fl1d8stt5pysGfnX//6X5hyTJmCXpEwpLCL7Bo/ceIEU44wKC6iowN9J6GHjj0nZ+aIoSH0OyWS+J17971tKqahAb195Rn06P3rL+8y5XjisadNOebMmW8q5rOf/ZwpRx3xEw4RD11nJ+7S39TUaCqmsQl9iKR4aOBtGC75LoE9Yoj038ZG/xwimN9s//79phxh/TJvSk0tnldfHwbv5gtYZsM53yMzOICvSSaxTdXU4O7+kyaiRy8dGN+4z5TUAPHIkENHDvrvzRPvC/ULkUBI/jrWOgLoueJBNnaNjPpjL/NDMr8uG8eZb6aUwEbm+2G7+/P3+udBq5IYnpjfjB2Dt+JL6P3xyFH76+BhmCaMARIIPDSE5c/acehHjQjDSFl7YmUdlSvWsBBCCCGEeBdNlIQQQgghiqCJkhBCCCFEETRREkIIIYQoQuLQ7g2eJYsFTrKQrTAcMGLy5CmmYpgJlnjEqHEsQUxVdXW+abGhAY2Z+/ahCbOlZaIpBzPqhQa/0PwYwXYtpwZ4YjoODdLVVWg4Y2Y7FuLIzHChqbAy2C0/op+Y3R9+6EFTjjWr15hynLzoZFMxx5DwvmOPPdaUgxpos3gehw/7O87ffPPNphwVFRjCx3a5Z2bfsH67iZl7yZIlphxhkGHEnj3vmHLU1/vtky1IKCfGw6EcMfCPYfvs6vYN8HV1GI5ZWYnH/vqv/86U481deP6nnLLUVMwnP4mBkyOkXdc3YAgic3qGgZNssUFVFdZvNnhfBDP7hsF5zKwZhceFUAMnMcuOa/IXhezevcvUUSRwzCtLYJnlcnhNubxvVE2lsK1UVaKZvr8fTevV5HXV1X7bqCXG/GFinB8mBtp0Gtt22N5ZYCDbCT9Tzj4Lrz2X88dZHv6I9caM1Qw0c2NZDJH7Iw/exWsK2ywzbrMxI0PuQ+w6SzK7k37JzPRHjtpfx+iI/152fx8hC7+YwbuigtW5X44sqJgdYwunKsiYHfZzeg8ldRm9j5WQEEIIIYQ4giZKQgghhBBF0ERJCCGEEKIImigJIYQQQhQhsfPlRz2H1ubNW0w53nkHjZ/jxuOO4bNm+btpv7ELzY573t5jylFJErbHNzebcsyc6X/+tGnTTDmYCbyTpCj3wE7vmOTb2Ynv2759u6mjQYMcSzBettQ3yza34DVOmYyJuizFumUiGtSHAoP0o48+asrxysubTDkGBtBMPEIM6qGp+RAx9M+ZPceUY9myU005WMLqli3+Lve//tWvTTnqGzCFuLW1zZSD1Xk2uM7Jk/F9K1euNOU47TQ8/7EghTgiNIezttLdje3upJMXmnIkiAG4otI3GrZ3YPm/tm2HKcfvH3jIlGNwAOv3rLPONRWzYsUKU44cSeFuGodm/a4uLP/QKMz616433jDlqKlBgzoz6y8/6yxTMQ1kEUF7sGAgIkN232f1NDzsl9mbb75pylFRgePP+GZMIE+lccwYHPL7b38/9su3du815di9209sj7j+OjTihwtF9u3bZ8rRTVL0h8huARMnTjLlmBiMSTNmzDTlYOMuS8nu7e015ejo8NPew8UBEU1NTaYc1aT9sOTmVDo0i2MfZOMWO9d8HvtXfbAYqa4OF0HUBQtCIurrsf3kiNF8cNA/t5oavAexXTAGyfg/PISfH5rWmeGeReuHiywiWKp9aEYfIO2O7VzBPOw0uTz4TvYabqZP6xclIYQQQohiaKIkhBBCCFEETZSEEEIIIYqgiZIQQgghRBESm55+wHP4rV37mCnH+vXPmXKEKdkRjU2+eZKZkHuDdOqIxkY04E2Z4qd8RywNzNDz5s0z5ZhC0qLXrVtnyvHmW2jEDE1573//5aYck4nZeutW34Qc8eKLfzTlCI2qCxeiifd9l73PlIOlnbJU4+ef9+vpjy+8YMpRRdLAFwWJ2xELFy4w5Th48KCpmNWrV5tysLTf00493ZRjaAhTddev32Aq5uGHHjblmDFjhinHzJl4rL4BDZDhooQJEyaYcpx44gmmHOEihYiuri5Tjoce8k3ToTk9oq4eDZyf+Qwab/N5TACeMrXVVMymTS+Zctx9972mHPv3YT/s6sJ+eOIJi0zFXHD+e005JrXiIoJp07HP7duLC0DuuOMOUzGtbdiXxjXhIhFmOt62bZspxwUXXGAq5qyzzjTlqCAm3qoqNPtu2IB955mn15uK2boVz+HEE7HfnLkcFwNUVWECcFe3bzRPp9BYuno1jmUb1uNYM2XKdFOOlmCBzOHDfn+OONyOCwS6u7GtT52K43O4uIaV/15Sl5FZNoTtILBz505TMYfJ/eW0U7Gsly5dZsoxbTouBMrl/PGf7d6Qy+FYHCaeR9SQY6ERvK8PTeBjZGFQBUn5Zr9xpFJ+OTY04H21qhKT79linsFBHH+qqv2+U01S9FkaezaLnz9CEtrDxQajY5j8PTbKdvsgafikHEPzNjO2l7PdFMor9IuSEEIIIUQxNFESQgghhCiCJkpCCCGEEEXQREkIIYQQogiJP9x7i+d62rRpsynHGmIgDHxX77JsWZg8jcbM9g5Mxu0gxxoaMFX3tNNPMxWzYAEaJwsFTES97bZbTTneIWbTT3/aN9XOnz/flKO8HA1gm1/FMnv++edNOR5+xDcnt07yzbkRf/mX3zTlYMZJlgr84x/9yFTMsceiofOqq6405WhtxZTdTDUa9cpGfNPcHmKI7+lGgyJLPk4msRy3bPbNz6vuW2XKcfzxWCfXXnutKUdlJX5naDTMkLocKaBZs4qYFnftxtT5X9z2C1Mxe/dhivL8eXj+N3zmk6YcI6PYjjMZ34z4xz9iG3vk4TWmHJ2dmIbc042pxrNnzTUVczIx+R8zDQ3YUyZjO96+E1PJb//l7aZiLr30MlOOpUvQjDs6ioPNE088Ycoxe7Zvul+w4D2mHBlijH37Laynn/0zjhkH9vvmYbYg4cqrrjDlWLIUyzGbRYP04XbfXD02ipHDq1Y9YMrx+muYZn7KKf5YHHHySSeaikmQfyZ3deFY/OZbu005du3C7wwTkk84AcdnlkZdT9Kom8ahEXnjxhdNxTz+OLaBqWQR0JVX4pj33vfiQoUDh/yE82QSC4h4icsqKnBniQP70Si/eYt/n0iUoaGZjdm5PKZktx/2U8ojerp9A3x9Hd5DzzhzuSnHlCnYp4eH0MwdtpcxYqJ+/TXs9+1kl4Saalz00zRunKmYPLluNi5WBybziKoqHP/DJHFm5q4ox88qPzJm6BclIYQQQogiaKIkhBBCCFEETZSEEEIIIYqQeOXZRzwDwOFD6Ge4777fm3J0tOMz0uuu870iy8/GwDEWaMaC8wrEKxIGmo1vRg/Unj24k/Y//uMPTTlmzsKQwspgR/K+fgzl6yG7a4e7NkckyZbGB4Pd9pcvx+fFX/zCF0w5qqvxGfirr75qyvG3f/s3pmLOP/98U46rr/6wKQfbybm/H71G4TP7ZBKvMbAxvctAluw43+iH30Xs2uV7nr71rW+ZcoShZxHf//73TDnyBfSPtLX6XhrmQQh3KI+orcPn6WzH7QcfetBUzOHDGIi3ePEpphynnYa+nK5ufK6fTPheHRa4t2YN+gmffw4DCRNl+Hz+jDP83ffnzMGgzbbJ6GcjeYFl6x5ba8rxq7t+bSrmppu+Zsrx3vP80MgI5mdjY0ZzMB6MG4cejTCUL2L7dvSb/eB/+n6/iO4u3wPCAiG/+mc3mXLMm4e76L/1th+eGHHo0H5TMcPDOAbeddfdphx9PdgWL7zwElOOFSsuNRXT2obhodks9vttr20x5finn/7ElOONXf41nXPu2aYc1157jSkHG9/a2tD3tmPHDlMx9913nynHpk2bTDnOOOMMU46PfexjphwHDr5lKqaaBJGS21LZO3swRPMPf3jUlGP/ft8Ldy4pnxWXXWzK0duL9+RtW1835Xg58Bdv3vyaKcepyzD898orP2jKccxxGMhZNuZf/AHiwbzzzrtMOdi5Mt/qMcf439nWhmPN1GPQT9Xcgn62unqsu6pK/96RoeGSeH9JpzP6RUkIIYQQohiaKAkhhBBCFEETJSGEEEKIImiiJIQQQghRhETXnq2eQ/T1bRgu9vOf+0F6Ed3EbHrjjZ81FXPqaUtMObIDaBZkuyiHO/1GRKaqowl3Y454JAh1jHj8cTS4fvDKD5hyhLvQR0FTIQMDGMQ1PEyCscjuyIeC3ffHj0dDcxiqGVEZmNAi7r3nHlOOO++601TMl7/8JVOOxYsXm3JU1ZGdromZuzDim/nYrt9jYzj37utFs2k+jyGCYaDft7+NZu6mcQ2mHH//99815Uhi8ylraWkxFZPPo+F7iOyanUrjh7E2+9TTT5mKeebpp005rl55tSkHC9EcCco6Ipv1zcRswcOWzbij/b333m/K0dGOixI+9CHf6D9+PJokx41Hg/TkyWgKfurpJ005fvbPPzcVs2QJtvUPXHGVKccxxxxrylFZiX0zEZjdswO4GIO9b2wM6/ee3/7OlOORh32DelUl9ptv/MWfmXK0tGCZ7TuAi056ev0xtZIEGf4LGYv7enEcvOpKXLRx3nvPMxWTSuFijFwO2392AHfyv/XWfzHleHGjv2jgkkvQUB4u+Ilgi0IKBVwVcjhYDPPyKy+bctx5pz8GRjQ2YvkzM3fLBD8Mc2QEx6heYpxftxbb+ob1GAYbBjte/wksi9POxD5x5Ezsr6PzMAaWbt3sm6bvuuu3phys3194IS76uehiPNY0zg8GfeklPwA04pZbbjPlGBzAcZb1ndZWv3ymTcfw0Lp67BONjbjYZtZsXKxVU+N/Z3k5GsrZYo/o9yT9oiSEEEIIUQRNlIQQQgghiqCJkhBCCCFEETRREkIIIYQoQmL3q+v/pJn79tv9RN2IoSE0+H3u8zeYijnxRDSpjpWhAZWEWJcNkOTjRLB98fAwmsRuvvl/m3L09GCy6cc/jka66dP9ZNCWlgmmHL29aBBl59/UhKnhiSAJepTEWCfJjsYjedwx+X/9ENPGXwx21/7Od/yk7oh6snt3C9n9vSyJRsZsl282TZALTybw/AsFfN3ePbi79oEDvpn7e9/7H6Yck6fguX7jG2igrapC025NrW/mGyI7ZNfUoFlwlGwZztJyX3n1FVMxt912iynHF0jy+qxZmIBdVVVlyhF+Z0UFvqb9MC6y+PGP/8mUY/vrmAz9hS980VQMMz5XVmH9LjzheFOOrVv9lOCIH//op6Zislnsvxe8Fw3A71ng73ofsXw5pi2PjPim5kOHMTG5qhoNnLW1uEDgySeeNeUI07qnT0PD6J9//aumHIkkjnkDg7gYYHg4aypmIIuLRL7znf9uypFOYTv42le/bsqxbNkyUzEHDmL5RCN0SHMzmvpvvfVWU457V91rKubSS7Eur7kGTdQNDVj+bPwPF+/09+M96JZbsM/lctjOPvrRj5pyjG/xy7H9MBqf39lzwJTjoQdXm3LkhnExzyWXXGgq5qoPXWHKkc/jmNTRiQn8VZU4jueH/br73X3+TgERTz6J7XrRopNMOT796etNOapr/PFg1X24oOiB+//NlOP4408w5Zg9a54px9y5/nyhtg7H4p07cbFKdgDH4jlzMQ0/NHNXV6MJPHHkv5BoXZZ+URJCCCGEKIImSkIIIYQQRdBESQghhBCiCJooCSGEEEIUIXFg5ybPAfbGjj2mHD/8wY9NOZiB6ktf8pO5T1mywJQjnUGzIKOnB82OucC83d+Hhr/vf//7phzlFWhKveiii0w5LoUkWTR2sZTsVAY/v7MDTbVh2vjgICbq1tf56acRCZJce8cdd5hyvLTpJVMxf/VX/82UY9KM2aYcI30dphwseX186yRTMQPdmA5LwqLL0ik05e3fiwbFDRv8ZN877rjdlGPefDz/b37zz005MuX4b4DaOt+819+HxvyKCjQrDw1jPWWz+N6XX95kKubOO/H8L7zQN3RGnHvuuaYcYQp9RCY4li+gYZT1iR/+8B9NOXbvesuU44YbPmMqZtq0qaYc+QKaTSdP8dtFRC6HZfb4435S+V13YnJwsgzN1lOmTDfl+MhHPmTKMe9431xdW4v9shAYviOYKf7N3XtNOf7yL/2k+PHjcLHHN77xNVOOVAbraXQUjdqJYAHFzp24sOanP/lnU47RArb1G2+8yZRjyRJ/pwRWR7kcnte48eNMOW6//ZemHA888ICpmNA8HnHDDf6Cn4iKCqzzTAYTksMdEN5+G9PNb70Vk6FZgv0nPoFm5bYpfoI321Fg4x9fNeW45x7/uiPGN2HbuOG/fMpUzKJFC005Rkaw/MPE9oh0Cu9DNdW+6X7dWtwZ4Be34pg0ZWqbKceXvvQ5U45Jrf5OEtu2YVnccgsmx7O+NHmyv3Aq4qIL/fsvWyTS14/3nKFhnCvU1mGfDu/d1VWYDp5K45iRSqb1i5IQQgghRDE0URJCCCGEKIImSkIIIYQQRdBESQghhBCiCImDgZl79y5Ma/3u32FCcl8/Gsxu/MKnTcWcfuYpphxV1b6hOSJPDIQdHZiKOjjgv66/30+yjfjB/8TE6upqNBO3tmLC8zXX+GndCwLzY0T/4XZTjkOH0Jh83FxMHs0FSbLd3WiInzCBpIET0/G992Aq6sOPPGwq5qqrrjTlOPc8NA4XRjD5e2IbGnS7OvzrrChH41tHO15Tfb1vAozo6Uaj5G/vXmUq5tFH15hyMIPfV7/2ZVOOAjFFNjb6Rvk8SezNlKOJmhlcBwYwFfj55zeYinnwQUypnTb9GFOOj3/8OlOOMfT/lrU0+22joxP7SE8PtpWfkGTuA/sPmXJ8+MMfNhVz2uloxu3vx+9Moe+2bM5cTBt/fdsbpmJ27XrHlOP2X/7GlOPgfuxfZ551qinHRZf4bfvkRe8x5ejPkgUIeUxe7+tD0/o3vv5fTcVkMmhCZinxtfVovE0m8TsrKv2CfPbZ50w5VhHjcF8fmrI//KGPmHKccbqfZt40DhO3s1ls12wxzJ133GnKsWaN31/nzp1ryvHFL37J1L8PGwcHB/06efZZTJn+zW+w/ZSTcepzn0Oz8uSpvpl7aBBN4OvWPmXKcfdvfmfKMeNYXHTyZ3/up7aPG4/p2qk0dvy+PuxzBRyyyya2+IsvXnwBzdY//CEuzGpqwgVEX77pRlOOKVMnmorJZPB3lvtJMvc9v8XyeetNnGfMn+8v/jrjDBx/midgintrG95f6urRzB0uGkgT4zZb2FFRXqlflIQQQgghiqGJkhBCCCFEETRREkIIIYQoQqL/wHbPo/TcBj+0MOKX/4rPowsj+Ax/5Uc+aCpmMQmcLCtDXwgj24+fPzLiB7J1dxE/xk/8Hcojekl45egoBl9eccUHTMWccQbuUD5pEnqbampxF+KyNBo3Xnr+BVMxefKguakJfQOzTsBgsmfXrjXleOCB+03FjI7hNdYGO+hHTJuOwYKnnorPh6ur/ee3h9vRO5LtRz9PWyuGi6WS6O9Yda/vv7jnXgwknDZtsinHZe/DXcpXfsT320S0H/Z9Of1Z9LiNH4fheuF1RxxuR4/P6tV/MBVz3+98z1XEzBm44/zKlegnYYGTTU3+uWXIM/a330bfz803Y0jhO3swBO79V/i7mV92GZbrcA69ZWzHc+Z/GQksH53t2H+z/Tg+/OAH/q79EUND6KW59rqVpmIuvOgcU45cHs+feY3e3I3l+K2/+o6pGOZn+Ju/8UMpI9omt5hydHQeNOUYK/N9S/v27jfleO65F005Hvy3R0w5rr/ODzeMWLx4sani1Nejb4aNGSzYcdUqv72fd955phxf+Yrv04no78d2UEeCd0PWEA/jb36NHqXxzeNNOS65GNv2kmW+/zE3jD6yza9uN+X46U9+ZspRV+P7nSK+8lXfSzlnLo4F1Q3YpsoK2CcKORzbx0b9e85j654x5biNBE42NOD967L3XWzKMXeevyP/dHLf2LHd9yFGPPEEesnWrX3SlOPgQd//O2Mm3jeOm4Eez8WLTzDlOI68t6bGb8eJBPqly8vRT5hOZfSLkhBCCCFEMTRREkIIIYQogiZKQgghhBBF0ERJCCGEEKIIiVeefchzhT38MJqEX3jO39U9IplCM9m5551uKuas5RgKV0fC1yoq8FhuGMO+kgnf4NrXi2bc229H4/nWLdtMOVhI5JIlS03FnHYqnv8yYnJm4Whbtmwx5Vi79lFTMS0T0OS5YsUKU45xU9DAvGfH66Yc69auMxWzdp3/fREvvYRm/cYmNB5OnTrFlGPefD9A7uBBNKTOOA6D1s45+3xTjgktuGP16tV+2/vVr+4y5cjlMVyPGbxnzjzOlGN01A9zO/HEE005TjkFQ1LbjsPP2r8bd3a/d5UfAvrEE0+Ycpx55pmmHFe83zdRR9TVoak2m/WNyGmyYOC555435bjzTuwTb72FO6+H5tuVK3GH/uoaND6zQDxm9J85Y46pmMltaLjc9cYeU441ax4z5bjrLjSlXnf9x0zFrLjsIlOORBID/SrLMZD22WexHH/y45tNxdTWYvjdt7/th1JGzJw93ZTjwAE0i4dG+UIex8CXX8YQwccfxxDEaccca8px1VVXmYphxu1xZDFDVzeGdP78Zz835bh31b2mYq7+8NWmHJ//PAYZspDLFEkxTaV98+2D/4bhhnf/FheANNSjMfxTn0Kz+7z5fnvctw8XbOzc8aYpxy9uw/6VTmE/+cQn/WDZc87BsSBBgki7ujpMOepqccweGvTb9i3/8ktTjvuCBTMRZ59zlinHVVe935SjtdW/z1VV4zUyg3RPN9bv5lfxnrxx4yZTMTt24j1uaBiN/+dfgIs2LroY7zkNDX5/JWudjrQ7XESTKEvpFyUhhBBCiGJooiSEEEIIUQRNlIQQQgghiqCJkhBCCCFEERK3/fSvPUvTk49jiuaOHZi22diIRsClS082FXPOuWhWmzUbTYbl5WgKY6mo+ZxvVquqxMTY9etxx+2XN6EB8umnMbW0u8vf+Z7tfn3iSWgAZsmym7fgdyaTCVMxS5ctMeX4/OdxV+vhYTQwj4Qxx0cYCl7HzMTr16835WC7g4+R7evDhN4FCzExfO6c+aYcsxf47eJdcli/zzzp18n9QdJ4xPbtaAIcGMDyH9+MptRjj/Xb3jln+7vNRyxYgNcUJmJHrFuHix5C0/TOndhvFizAHe0vvxyNkyeffJIpRyZI6x478l/I3Xffbcqxfj326cpKTACef/w8UzHLl2MyfTqN/7bauxeN4ax8Vq68xlTMKafgYon9xED7y3+9w5TjhT/6KfcR11/vf/455yw35RgaxhTxMBE44imSJvzYOt80zYyrl67ARGOWwNzWhgs5ckHC+VNPoUl7AxnfmDF/9mzfOB9x5ZVXmoqZOxdfU1mJC2s2vrTRlIO1s61btpqKWX722aYcl7/vclOOhWTngbJqHNsPv+UvoLjnHt88HvHsMziu5/KYbH3ZistMOc4+11+oMziAuwyw3SAefggTwl/etNmUY86cWaZi3n8FnsOiRXh/SbE+twdT21/a6N9zVq36vSnH/n24AOe8c9EMveIybMdTj/EXzYyMYLmWZ7D99JNdNvbuPWDKsesNv34fexzHkO07/DYWcfIiTOb+7OduMOUIk7nDnT4iMhm8FyaTaf2iJIQQQghRDE2UhBBCCCGKoImSEEIIIUQRNFESQgghhChCYvXvfuY5mpiZsqsTk3cbmzCVtjUwKE6ZPMmUo7VtoikHM0WOjfrG54j+Pj+5dnLbMaYc77yzz5Tj9dd2mHJsIWnd27a9Zirm0CEsi6Eh/xwikimcb06Y0GzKceppvllwyZLFphwsUTqdwfLp7Ow05Whp8b+zvR0TXTs68diUKZjC3U3SeMPU3lwub8rBTMKJMkzZHRxCI+BwcIyZ2LNZNFOycx0mpt3JU6aaipnchoneNFm2xzf5R4QpshEvvviiqZjXXvPbU0RXF57rBRdcYMpxxRWY1j1xop+MOzCAibff/e53TTk2b8aFBVVVaLrMF/z6vPjiC005Fi9ZZMrR2YFm6J/+9CemHEuXnmYqJkOMn2wRxxMkefr49xxvyvGVr9xkKoaly2/egibbx9bhoofQuB0xOOC3z/JyPP8mMi5OP9ZvdxFXr/SN1RHNzU2mYlYFSdcRGzeisXrv3r2mHGEKfcSSpf7ikaVLcDEJM3Ov34ALQJjRvFDwF5g0NfnXEzHjODS2f+waP1E9orkZx8+1a31z7/3342KP4SEcM1Ip7NND5HWf+7yf1n3MMZio3tKM97TXtm035fjt3Vh3/cHY9cEPYh8/h6Rkj45in3h0jb8LQ8Sa1f6xsL1GLF+OC1gWLlxgyjFrFt6HMuX+OL558yumHI2NWOe1NbjwawQvqay31y+fhx7G5PUXXsC22EbmGX/xza+bcoRte2QE+whbWJZOZ/SLkhBCCCFEMTRREkIIIYQogiZKQgghhBBF0ERJCCGEEKIIid1b13pmbmaiLhvDY/X1taYcVdW+EapQQDMZS5ROJHC+lk5hQubgoJ+UWltTb8rR1YXG8/bDaGCO0jZDQnPXgQOYHtreftiUgxljJ05C0/qMGX4y9ITAnBuRJMbD/j40Ew8Moqm8saHRVEw+MFdG5ElKbXV1tSlHb2+vKQczeob09KDZupMsBkiR8q+v942wVVXEGE6aZ2EETeWjxC1YXu63qUQS291IAQ1+uTx+fj6H5Ria2zuIyZktEBg/frwpBzPYVwQJ6n0kEf62224z5djzNiY3s1Tvgwf99s5SxD/0oatMOZiB+Q+rV5tyhItC3giSeCNyJLF9/jw0bs+fj8eWL/eNsKR6qcH+6afRILrxRTTrp9N++dfW4vjDxoLWNuznZ5+Nuxa0tfmm1N27d5lysEUcXd3YvwYGcHxoa201FTNtGi6GYR1szx5sPwPZrClHXb1fHsxkPpDF8zorqLeIY6biue18Y6epmG3bcEEOGR7KUmkca1g7uPbaq03FTJ+Ou0gQj3xZdyeOz888s8GU44Fgp4F0Gs+2tRWNyTU1OD4PDZJ7a8Hv083NeA86ZREuIGI7UNTXowF7336/Pv+JLNhoaMCx4KyzMKG9PmgrEVu2+qnba9di4vmhQ3hPXngCjlM33OAb8yPqG/zvTJDfidIkmTuan+gXJSGEEEKIImiiJIQQQghRBE2UhBBCCCGKkNi9dbX3YDOZwOe5zMuRIM+yw5eVZ/zdziPKy/FYKkW+k/iWQg9RGFAYMUSOhUFoESwYMfTEjI2ij2OEhH/xskCvUegxyZCyGCHemgLzyJBrCl9XQTxFFRUYqDU8jLtk54gHZ2zML/8xLJ4j5Y+fxeokn2deNb8cW1pwh3Xm58lmMXiRhUQmk/7nZ0j7TJF6C98XMcouPjhWHtR3RCaDbZ2VdX8/ekB6enwvSnc3XuPWrVtMOdh1Tprk+1UiBgf9kE7mTTnppJNMOWbNmmnKMTyM1xRe58AAhv7V1KD3MTeM7b+uDj0UYf9ifSkM1YwYCryPESyQsJD32/9o0B/ehbSLBGk/GRIiG46NbKxh18TKoq4Wj4W+NPZZY8SEw8+fjeP+NXWTcNVyMv6wcMw08RWFn8/GXdaXWF0y309Hh7+z/qSJ6Bfatw937a+qxM8qr8Cxd8cOP5gySc5//34MTA77ZcRxx2Jw58yZs00ZxFvMxueJE9HLlCHlP5zz3/v9f/gHUw7m/ZozZ44pR00t9vMN632v4FAO623xKSebciw8AQMzjz9+vilHUxCYzDy3bC4yemQeoF+UhBBCCCGKoImSEEIIIUQRNFESQgghhCiCJkpCCCGEEEVIvP36o57Dj+2eGwb1RTAjXZhhR19DDpHsO2qWDc1vzNA8OIDGN2ZWrqmpMeUIjaTMBMg/C41pzGAZXvwo2b14hBgbIzNZCDV9B+XBjNvsWJ6YxQuFP/35zMyaIyZeVmYDpJ5Cs37zeNxBnO0qTg26pO5CU3Yqhf9OCA3rEewYM7iGDXloiLVFPC9mXGWLGTo7/LDB9g4MUu0iBtoKsss9bZ9B/0om0HA8Z05gGD0C87W3t2PYZnhNFWSsYeGAYb+JYItCxoITYfWWJAtT2O7sbGfxcDhj182DSEvrE+HHMbMpHYtJ+bD2GQbLVpNAVzbusrFmYAAXG4QhtTNmoOG4txcXILD6ZbeO0EAe7eoewuqSLeZhfa6z0w8TZqGI/X24cKRUM3o43jc2+gHBEcy4zcbndAqvPQPlgYXIxnUW7Jsk409VECb56osvmnKsXbvWlCMMso1oaMRgyjAMubkZF+4sWIjG7eYWfB0Lfq2q8ts/60vMzB2BpSGEEEIIId5FEyUhhBBCiCJooiSEEEIIUQRNlIQQQgghipB4Y/NDnnuvsrI0AzBLng7NmsyQytJCmRmXGtjS/neyxOS+PtxRvZ8kN7NU1PA6WXpoTTUeY6ZOZppD0zqWDzOTsbJmBsLQgBqWVwQ1y5LzD42xEaGps0BMntRkTuoyNH5GhEbG+no0/DU1NZk6GqxLVj6hAThN0pFHRvBcc0EibUQ+X8oxUrB4qrQtMjNxZ7D7flcX7hrPvoCZXtmijerA7FgZ/H8EGkb5Z7FjYepzYQRNtrkclv8IeR0jNGozsyY1gZdhWXMjuF+2CVK/g2QRQTaLBl22mCFMIGeGYGa8ratD03EtGbvSwdgSJnVHlJrSz8be0GzNTNRNTWhgLtXsHkIXCxHY69j4Njzs1wkbP1li9cDggCnH4AAeC++HdPcGsvCC3X9TJeyWwe5L7CC7T7Nj4eIOls4eGrIjBgbR+M9M9+ElZcmCgWwWj9XU4sIstlillPKhC2uO1BOWhhBCCCGEeBdNlIQQQgghiqCJkhBCCCFEETRREkIIIYQoQmLri/d5lqYwvTWiqhoNhMwgGprTWLLvka+0vw5m9s0RU1hoACs1hZUdYwbR0NxYVYnXHaZ7RjDj2xgxrUP5EDMfNXOTcizpOomJkSWuMmMmNeIHMEMkqzeezI1mx1zwOmamZ8ZVlkzMzi2T8cs2nSb1Roy9rK0w03chOMbfh22WwczcoQG+vw+NjaxfZjIkgTaJ7aw8MI1WVWJbZ+2TGbeZKXUk6K8FsoiDtWtmOmap9mGdl2rm5k0dv7MsMHiH1xMxPIRtnRm8Bwfxdfmcf+2pFPb7igqWOEzGKZLqnQADMF4ja5/sGEs4D83PrK2wxUJsfODJ+v53MjNxqQZvNj6MjvrlHy4+eBfy8TSBn5x/eL6sfCoyWD60/5JdBdCszNqw/T0KlsaeIL+hhIsB2I4UzMzd148Ld/IFfF14H2ILZli7yJB+XspuB6ytsMVO0X0aS0MIIYQQQryLJkpCCCGEEEXQREkIIYQQogiaKAkhhBBCFCHx0vq7PSdXTQ2mXNaS5EtmMAvNXqkUM9vh3IwZOFkacmiaYyZAZuJiCcy5YWI6Dr6z1BRimmJKjNrhe5nZlL3vyDfYXwdLLs8HqcYsnZqRJKZRZiQN65eZ4QaJsZGl1LI09tA8WUEMqZXEYF9GjZl4LDRApoiZmxvbTRwFM32HiwuYmZsZmHmaOR4LTcGsDadYmyV9lZlxE8GigbC+I9Lks9gCh0piOg77OUtkZmZZ1s5GSPJ9WP7M2J4ODP0RLBn9yKfZX0do1qd9kPZLbAd5Ur/YDvC8mImXJTezsSU097IFA6z9l2LcjgjHjFLN1sygOzRMTLtBfZZX4DWyhR2lkkj45cP6arjgJIIZk1n7DMsxRcZ6Vj5sMU9pdY5jIDWo0zLDY6H5nC0MYuN6Lod1yRb9FIJypGMlOX92z2f3Lzj/El4TEdUTXqkQQgghhHgXTZSEEEIIIYqgiZIQQgghRBESrzznB07W1KDfgO3Oy/w74TM/Fmr3H/EohbvLM48SsxuwZ+z0+a39/b+wZ7Ds/FmwF3tduDs7C/IsG8MLYM9lmf9oLPDljJId0Nm50uskZRY+92XP0wfIjs8sXJI9FU8G/gteb/hO9tydhqgFb6V+APKV7HVlgZ8hIizbMRJIyOqSnj85FnpKWF0yDxHzKNFgNWgHtJbsr6PYc30AypHVEX4nOwvaJ4Ly4fWL58+ql51b6DnLk3FrhBwrEL8K8weFdZ7P42exdsFCHCuJvy+EtR/qTSzBjxQRHmPeEQbztRTItScC/xTbQZ+BV8lJBL40VpcsULFAvIijxHcIxU1OjNUJe12a+L/KA/8db+usf5Fj5J6AHiV838AgjvWD5Bjz2oWeUfa+oRLDSZubm00dRXC+zPuVJGNZ1I5La2lCCCGEEP8J0URJCCGEEKIImigJIYQQQhRBEyUhhBBCiCIkXnvpIc8qxnairq5Gg3cpu/OWZujkwVKlBEKy19AgQ2KQ4zuL+8fY+7jJtgTj3hFqg93wWbgn2xWdmUZ5MFxQ3uQkyGmVDBr88NOyWTRzM1Meaz/hzu7MzMrMlMwYS+suMLePEbM7luoR6EEEXkbex43DeLAUIzIrQ7bIgu2uzV4XmjVZWy8U2DFs/yzwM/zODNvJn5QP60vsYGjgDxc3RLDzOvJK+3s07PP9aw8DLiNGSPnw8eFPnxvblZ6FdDLjNhtbYMwghZ1mJm3SztjrYDEGWyRC65eVNSufsPyxrFm7wCNFGPXHG7YYhpm02XmwthH2E2YWZ22FfT4r29BMnyIm/HSJIZelmLlZXfb19ZlyZLP9phxs0Vh1rX+st6fHlKOffFZ3d7cpx4wZM0w5wv41RsZdtjAlnS7XL0pCCCGEEMXQREkIIYQQogiaKAkhhBBCUMrK/g9uOJIJTldxKwAAAABJRU5ErkJggg==)"
      ]
    },
    {
      "cell_type": "code",
      "execution_count": null,
      "metadata": {
        "colab": {
          "base_uri": "https://localhost:8080/"
        },
        "id": "v6dXHzwijmdx",
        "outputId": "292a84a9-ca66-4fc9-ac2f-f652d38e7ed6"
      },
      "outputs": [
        {
          "output_type": "stream",
          "name": "stdout",
          "text": [
            "\u001b[2K     \u001b[90m━━━━━━━━━━━━━━━━━━━━━━━━━━━━━━━━━━━━━━━━\u001b[0m \u001b[32m98.6/98.6 MB\u001b[0m \u001b[31m7.7 MB/s\u001b[0m eta \u001b[36m0:00:00\u001b[0m\n",
            "\u001b[?25h  Preparing metadata (setup.py) ... \u001b[?25l\u001b[?25hdone\n",
            "  Preparing metadata (setup.py) ... \u001b[?25l\u001b[?25hdone\n",
            "\u001b[33mWARNING: The candidate selected for download or install is a yanked version: 'arabic-reshaper' candidate (version 2.1.3 at https://files.pythonhosted.org/packages/47/27/7b9b824f5342d8ee180027333f2e15842ea36f5bc2d3d24a4e6bb31fb596/arabic_reshaper-2.1.3-py3-none-any.whl (from https://pypi.org/simple/arabic-reshaper/))\n",
            "Reason for being yanked: Doesn't work with Python 2\u001b[0m\u001b[33m\n",
            "\u001b[0m  Building wheel for diffimg (setup.py) ... \u001b[?25l\u001b[?25hdone\n",
            "  Building wheel for wikipedia (setup.py) ... \u001b[?25l\u001b[?25hdone\n"
          ]
        }
      ],
      "source": [
        "!pip install -q trdg"
      ]
    },
    {
      "cell_type": "code",
      "execution_count": null,
      "metadata": {
        "colab": {
          "base_uri": "https://localhost:8080/"
        },
        "id": "fAXykdwpoR8G",
        "outputId": "e5a4e893-cd25-4122-f4fc-a820dd75711d"
      },
      "outputs": [
        {
          "output_type": "stream",
          "name": "stdout",
          "text": [
            "2024-03-24 12:59:38.963521: E external/local_xla/xla/stream_executor/cuda/cuda_dnn.cc:9261] Unable to register cuDNN factory: Attempting to register factory for plugin cuDNN when one has already been registered\n",
            "2024-03-24 12:59:38.963577: E external/local_xla/xla/stream_executor/cuda/cuda_fft.cc:607] Unable to register cuFFT factory: Attempting to register factory for plugin cuFFT when one has already been registered\n",
            "2024-03-24 12:59:38.965277: E external/local_xla/xla/stream_executor/cuda/cuda_blas.cc:1515] Unable to register cuBLAS factory: Attempting to register factory for plugin cuBLAS when one has already been registered\n",
            "2024-03-24 12:59:40.104396: W tensorflow/compiler/tf2tensorrt/utils/py_utils.cc:38] TF-TRT Warning: Could not find TensorRT\n",
            "100% 9000/9000 [03:35<00:00, 41.67it/s]\n",
            "2024-03-24 13:03:21.902078: E external/local_xla/xla/stream_executor/cuda/cuda_dnn.cc:9261] Unable to register cuDNN factory: Attempting to register factory for plugin cuDNN when one has already been registered\n",
            "2024-03-24 13:03:21.902141: E external/local_xla/xla/stream_executor/cuda/cuda_fft.cc:607] Unable to register cuFFT factory: Attempting to register factory for plugin cuFFT when one has already been registered\n",
            "2024-03-24 13:03:21.904802: E external/local_xla/xla/stream_executor/cuda/cuda_blas.cc:1515] Unable to register cuBLAS factory: Attempting to register factory for plugin cuBLAS when one has already been registered\n",
            "2024-03-24 13:03:23.490270: W tensorflow/compiler/tf2tensorrt/utils/py_utils.cc:38] TF-TRT Warning: Could not find TensorRT\n",
            "100% 4000/4000 [01:27<00:00, 45.52it/s]\n"
          ]
        }
      ],
      "source": [
        "!trdg -c 9000 -d 3 -w 1 -f 64 -l es --random_skew --random_blur -fd /content/drive/MyDrive/ocr/fonts -dt /content/drive/MyDrive/ocr/dictionary/ep_es.txt --output_dir /content/drive/MyDrive/ocr/13k_es_mixed_lib\n",
        "\n",
        "!trdg -c 4000 -d 3 -w 1 -f 64 -l es --random_skew --random_blur -fd /content/drive/MyDrive/ocr/fonts -dt /content/drive/MyDrive/ocr/dictionary/ep_es.txt --output_dir /content/drive/MyDrive/ocr/13k_es_mixed_lib"
      ]
    },
    {
      "cell_type": "code",
      "execution_count": 2,
      "metadata": {
        "id": "wqg0MfNrUtsv",
        "colab": {
          "base_uri": "https://localhost:8080/",
          "height": 0
        },
        "outputId": "ee568d1d-6875-4cf7-ac0a-e62e8a61551f"
      },
      "outputs": [
        {
          "output_type": "execute_result",
          "data": {
            "text/plain": [
              "12999"
            ]
          },
          "metadata": {},
          "execution_count": 2
        }
      ],
      "source": [
        "dataset_directory =\"/content/drive/MyDrive/ocr/13k_es_mixed_lib\"\n",
        "model_save_folder = \"/content/drive/MyDrive/trocr_es13k_finetune\"\n",
        "len(os.listdir(\"/content/drive/MyDrive/ocr/13k_es_mixed_lib\"))"
      ]
    },
    {
      "cell_type": "markdown",
      "metadata": {
        "id": "lsTaPrDR7My2"
      },
      "source": [
        "## Prepare data for training"
      ]
    },
    {
      "cell_type": "code",
      "execution_count": 3,
      "metadata": {
        "id": "ZhCLvMK8iYYd",
        "colab": {
          "base_uri": "https://localhost:8080/",
          "height": 423
        },
        "outputId": "76db4167-0612-425a-856d-bf892f4a721d"
      },
      "outputs": [
        {
          "output_type": "execute_result",
          "data": {
            "text/plain": [
              "                 file_name        text\n",
              "0        parecido_3000.jpg    parecido\n",
              "1      christiana_3001.jpg  christiana\n",
              "2          alguna_3002.jpg      alguna\n",
              "3       aviendose_3003.jpg   aviendose\n",
              "4        buscando_3004.jpg    buscando\n",
              "...                    ...         ...\n",
              "12994       mismas_994.jpg      mismas\n",
              "12995          van_995.jpg         van\n",
              "12996       mismas_996.jpg      mismas\n",
              "12997     possible_997.jpg    possible\n",
              "12998      ocultó_998.jpg     ocultó\n",
              "\n",
              "[12999 rows x 2 columns]"
            ],
            "text/html": [
              "\n",
              "  <div id=\"df-c5e344c9-9a48-47be-b639-bbf36a0f0827\" class=\"colab-df-container\">\n",
              "    <div>\n",
              "<style scoped>\n",
              "    .dataframe tbody tr th:only-of-type {\n",
              "        vertical-align: middle;\n",
              "    }\n",
              "\n",
              "    .dataframe tbody tr th {\n",
              "        vertical-align: top;\n",
              "    }\n",
              "\n",
              "    .dataframe thead th {\n",
              "        text-align: right;\n",
              "    }\n",
              "</style>\n",
              "<table border=\"1\" class=\"dataframe\">\n",
              "  <thead>\n",
              "    <tr style=\"text-align: right;\">\n",
              "      <th></th>\n",
              "      <th>file_name</th>\n",
              "      <th>text</th>\n",
              "    </tr>\n",
              "  </thead>\n",
              "  <tbody>\n",
              "    <tr>\n",
              "      <th>0</th>\n",
              "      <td>parecido_3000.jpg</td>\n",
              "      <td>parecido</td>\n",
              "    </tr>\n",
              "    <tr>\n",
              "      <th>1</th>\n",
              "      <td>christiana_3001.jpg</td>\n",
              "      <td>christiana</td>\n",
              "    </tr>\n",
              "    <tr>\n",
              "      <th>2</th>\n",
              "      <td>alguna_3002.jpg</td>\n",
              "      <td>alguna</td>\n",
              "    </tr>\n",
              "    <tr>\n",
              "      <th>3</th>\n",
              "      <td>aviendose_3003.jpg</td>\n",
              "      <td>aviendose</td>\n",
              "    </tr>\n",
              "    <tr>\n",
              "      <th>4</th>\n",
              "      <td>buscando_3004.jpg</td>\n",
              "      <td>buscando</td>\n",
              "    </tr>\n",
              "    <tr>\n",
              "      <th>...</th>\n",
              "      <td>...</td>\n",
              "      <td>...</td>\n",
              "    </tr>\n",
              "    <tr>\n",
              "      <th>12994</th>\n",
              "      <td>mismas_994.jpg</td>\n",
              "      <td>mismas</td>\n",
              "    </tr>\n",
              "    <tr>\n",
              "      <th>12995</th>\n",
              "      <td>van_995.jpg</td>\n",
              "      <td>van</td>\n",
              "    </tr>\n",
              "    <tr>\n",
              "      <th>12996</th>\n",
              "      <td>mismas_996.jpg</td>\n",
              "      <td>mismas</td>\n",
              "    </tr>\n",
              "    <tr>\n",
              "      <th>12997</th>\n",
              "      <td>possible_997.jpg</td>\n",
              "      <td>possible</td>\n",
              "    </tr>\n",
              "    <tr>\n",
              "      <th>12998</th>\n",
              "      <td>ocultó_998.jpg</td>\n",
              "      <td>ocultó</td>\n",
              "    </tr>\n",
              "  </tbody>\n",
              "</table>\n",
              "<p>12999 rows × 2 columns</p>\n",
              "</div>\n",
              "    <div class=\"colab-df-buttons\">\n",
              "\n",
              "  <div class=\"colab-df-container\">\n",
              "    <button class=\"colab-df-convert\" onclick=\"convertToInteractive('df-c5e344c9-9a48-47be-b639-bbf36a0f0827')\"\n",
              "            title=\"Convert this dataframe to an interactive table.\"\n",
              "            style=\"display:none;\">\n",
              "\n",
              "  <svg xmlns=\"http://www.w3.org/2000/svg\" height=\"24px\" viewBox=\"0 -960 960 960\">\n",
              "    <path d=\"M120-120v-720h720v720H120Zm60-500h600v-160H180v160Zm220 220h160v-160H400v160Zm0 220h160v-160H400v160ZM180-400h160v-160H180v160Zm440 0h160v-160H620v160ZM180-180h160v-160H180v160Zm440 0h160v-160H620v160Z\"/>\n",
              "  </svg>\n",
              "    </button>\n",
              "\n",
              "  <style>\n",
              "    .colab-df-container {\n",
              "      display:flex;\n",
              "      gap: 12px;\n",
              "    }\n",
              "\n",
              "    .colab-df-convert {\n",
              "      background-color: #E8F0FE;\n",
              "      border: none;\n",
              "      border-radius: 50%;\n",
              "      cursor: pointer;\n",
              "      display: none;\n",
              "      fill: #1967D2;\n",
              "      height: 32px;\n",
              "      padding: 0 0 0 0;\n",
              "      width: 32px;\n",
              "    }\n",
              "\n",
              "    .colab-df-convert:hover {\n",
              "      background-color: #E2EBFA;\n",
              "      box-shadow: 0px 1px 2px rgba(60, 64, 67, 0.3), 0px 1px 3px 1px rgba(60, 64, 67, 0.15);\n",
              "      fill: #174EA6;\n",
              "    }\n",
              "\n",
              "    .colab-df-buttons div {\n",
              "      margin-bottom: 4px;\n",
              "    }\n",
              "\n",
              "    [theme=dark] .colab-df-convert {\n",
              "      background-color: #3B4455;\n",
              "      fill: #D2E3FC;\n",
              "    }\n",
              "\n",
              "    [theme=dark] .colab-df-convert:hover {\n",
              "      background-color: #434B5C;\n",
              "      box-shadow: 0px 1px 3px 1px rgba(0, 0, 0, 0.15);\n",
              "      filter: drop-shadow(0px 1px 2px rgba(0, 0, 0, 0.3));\n",
              "      fill: #FFFFFF;\n",
              "    }\n",
              "  </style>\n",
              "\n",
              "    <script>\n",
              "      const buttonEl =\n",
              "        document.querySelector('#df-c5e344c9-9a48-47be-b639-bbf36a0f0827 button.colab-df-convert');\n",
              "      buttonEl.style.display =\n",
              "        google.colab.kernel.accessAllowed ? 'block' : 'none';\n",
              "\n",
              "      async function convertToInteractive(key) {\n",
              "        const element = document.querySelector('#df-c5e344c9-9a48-47be-b639-bbf36a0f0827');\n",
              "        const dataTable =\n",
              "          await google.colab.kernel.invokeFunction('convertToInteractive',\n",
              "                                                    [key], {});\n",
              "        if (!dataTable) return;\n",
              "\n",
              "        const docLinkHtml = 'Like what you see? Visit the ' +\n",
              "          '<a target=\"_blank\" href=https://colab.research.google.com/notebooks/data_table.ipynb>data table notebook</a>'\n",
              "          + ' to learn more about interactive tables.';\n",
              "        element.innerHTML = '';\n",
              "        dataTable['output_type'] = 'display_data';\n",
              "        await google.colab.output.renderOutput(dataTable, element);\n",
              "        const docLink = document.createElement('div');\n",
              "        docLink.innerHTML = docLinkHtml;\n",
              "        element.appendChild(docLink);\n",
              "      }\n",
              "    </script>\n",
              "  </div>\n",
              "\n",
              "\n",
              "<div id=\"df-36afc0c6-cbff-4fae-a244-54562f07dd34\">\n",
              "  <button class=\"colab-df-quickchart\" onclick=\"quickchart('df-36afc0c6-cbff-4fae-a244-54562f07dd34')\"\n",
              "            title=\"Suggest charts\"\n",
              "            style=\"display:none;\">\n",
              "\n",
              "<svg xmlns=\"http://www.w3.org/2000/svg\" height=\"24px\"viewBox=\"0 0 24 24\"\n",
              "     width=\"24px\">\n",
              "    <g>\n",
              "        <path d=\"M19 3H5c-1.1 0-2 .9-2 2v14c0 1.1.9 2 2 2h14c1.1 0 2-.9 2-2V5c0-1.1-.9-2-2-2zM9 17H7v-7h2v7zm4 0h-2V7h2v10zm4 0h-2v-4h2v4z\"/>\n",
              "    </g>\n",
              "</svg>\n",
              "  </button>\n",
              "\n",
              "<style>\n",
              "  .colab-df-quickchart {\n",
              "      --bg-color: #E8F0FE;\n",
              "      --fill-color: #1967D2;\n",
              "      --hover-bg-color: #E2EBFA;\n",
              "      --hover-fill-color: #174EA6;\n",
              "      --disabled-fill-color: #AAA;\n",
              "      --disabled-bg-color: #DDD;\n",
              "  }\n",
              "\n",
              "  [theme=dark] .colab-df-quickchart {\n",
              "      --bg-color: #3B4455;\n",
              "      --fill-color: #D2E3FC;\n",
              "      --hover-bg-color: #434B5C;\n",
              "      --hover-fill-color: #FFFFFF;\n",
              "      --disabled-bg-color: #3B4455;\n",
              "      --disabled-fill-color: #666;\n",
              "  }\n",
              "\n",
              "  .colab-df-quickchart {\n",
              "    background-color: var(--bg-color);\n",
              "    border: none;\n",
              "    border-radius: 50%;\n",
              "    cursor: pointer;\n",
              "    display: none;\n",
              "    fill: var(--fill-color);\n",
              "    height: 32px;\n",
              "    padding: 0;\n",
              "    width: 32px;\n",
              "  }\n",
              "\n",
              "  .colab-df-quickchart:hover {\n",
              "    background-color: var(--hover-bg-color);\n",
              "    box-shadow: 0 1px 2px rgba(60, 64, 67, 0.3), 0 1px 3px 1px rgba(60, 64, 67, 0.15);\n",
              "    fill: var(--button-hover-fill-color);\n",
              "  }\n",
              "\n",
              "  .colab-df-quickchart-complete:disabled,\n",
              "  .colab-df-quickchart-complete:disabled:hover {\n",
              "    background-color: var(--disabled-bg-color);\n",
              "    fill: var(--disabled-fill-color);\n",
              "    box-shadow: none;\n",
              "  }\n",
              "\n",
              "  .colab-df-spinner {\n",
              "    border: 2px solid var(--fill-color);\n",
              "    border-color: transparent;\n",
              "    border-bottom-color: var(--fill-color);\n",
              "    animation:\n",
              "      spin 1s steps(1) infinite;\n",
              "  }\n",
              "\n",
              "  @keyframes spin {\n",
              "    0% {\n",
              "      border-color: transparent;\n",
              "      border-bottom-color: var(--fill-color);\n",
              "      border-left-color: var(--fill-color);\n",
              "    }\n",
              "    20% {\n",
              "      border-color: transparent;\n",
              "      border-left-color: var(--fill-color);\n",
              "      border-top-color: var(--fill-color);\n",
              "    }\n",
              "    30% {\n",
              "      border-color: transparent;\n",
              "      border-left-color: var(--fill-color);\n",
              "      border-top-color: var(--fill-color);\n",
              "      border-right-color: var(--fill-color);\n",
              "    }\n",
              "    40% {\n",
              "      border-color: transparent;\n",
              "      border-right-color: var(--fill-color);\n",
              "      border-top-color: var(--fill-color);\n",
              "    }\n",
              "    60% {\n",
              "      border-color: transparent;\n",
              "      border-right-color: var(--fill-color);\n",
              "    }\n",
              "    80% {\n",
              "      border-color: transparent;\n",
              "      border-right-color: var(--fill-color);\n",
              "      border-bottom-color: var(--fill-color);\n",
              "    }\n",
              "    90% {\n",
              "      border-color: transparent;\n",
              "      border-bottom-color: var(--fill-color);\n",
              "    }\n",
              "  }\n",
              "</style>\n",
              "\n",
              "  <script>\n",
              "    async function quickchart(key) {\n",
              "      const quickchartButtonEl =\n",
              "        document.querySelector('#' + key + ' button');\n",
              "      quickchartButtonEl.disabled = true;  // To prevent multiple clicks.\n",
              "      quickchartButtonEl.classList.add('colab-df-spinner');\n",
              "      try {\n",
              "        const charts = await google.colab.kernel.invokeFunction(\n",
              "            'suggestCharts', [key], {});\n",
              "      } catch (error) {\n",
              "        console.error('Error during call to suggestCharts:', error);\n",
              "      }\n",
              "      quickchartButtonEl.classList.remove('colab-df-spinner');\n",
              "      quickchartButtonEl.classList.add('colab-df-quickchart-complete');\n",
              "    }\n",
              "    (() => {\n",
              "      let quickchartButtonEl =\n",
              "        document.querySelector('#df-36afc0c6-cbff-4fae-a244-54562f07dd34 button');\n",
              "      quickchartButtonEl.style.display =\n",
              "        google.colab.kernel.accessAllowed ? 'block' : 'none';\n",
              "    })();\n",
              "  </script>\n",
              "</div>\n",
              "\n",
              "  <div id=\"id_91785c07-2bd0-4679-b916-ea0850f1114e\">\n",
              "    <style>\n",
              "      .colab-df-generate {\n",
              "        background-color: #E8F0FE;\n",
              "        border: none;\n",
              "        border-radius: 50%;\n",
              "        cursor: pointer;\n",
              "        display: none;\n",
              "        fill: #1967D2;\n",
              "        height: 32px;\n",
              "        padding: 0 0 0 0;\n",
              "        width: 32px;\n",
              "      }\n",
              "\n",
              "      .colab-df-generate:hover {\n",
              "        background-color: #E2EBFA;\n",
              "        box-shadow: 0px 1px 2px rgba(60, 64, 67, 0.3), 0px 1px 3px 1px rgba(60, 64, 67, 0.15);\n",
              "        fill: #174EA6;\n",
              "      }\n",
              "\n",
              "      [theme=dark] .colab-df-generate {\n",
              "        background-color: #3B4455;\n",
              "        fill: #D2E3FC;\n",
              "      }\n",
              "\n",
              "      [theme=dark] .colab-df-generate:hover {\n",
              "        background-color: #434B5C;\n",
              "        box-shadow: 0px 1px 3px 1px rgba(0, 0, 0, 0.15);\n",
              "        filter: drop-shadow(0px 1px 2px rgba(0, 0, 0, 0.3));\n",
              "        fill: #FFFFFF;\n",
              "      }\n",
              "    </style>\n",
              "    <button class=\"colab-df-generate\" onclick=\"generateWithVariable('df')\"\n",
              "            title=\"Generate code using this dataframe.\"\n",
              "            style=\"display:none;\">\n",
              "\n",
              "  <svg xmlns=\"http://www.w3.org/2000/svg\" height=\"24px\"viewBox=\"0 0 24 24\"\n",
              "       width=\"24px\">\n",
              "    <path d=\"M7,19H8.4L18.45,9,17,7.55,7,17.6ZM5,21V16.75L18.45,3.32a2,2,0,0,1,2.83,0l1.4,1.43a1.91,1.91,0,0,1,.58,1.4,1.91,1.91,0,0,1-.58,1.4L9.25,21ZM18.45,9,17,7.55Zm-12,3A5.31,5.31,0,0,0,4.9,8.1,5.31,5.31,0,0,0,1,6.5,5.31,5.31,0,0,0,4.9,4.9,5.31,5.31,0,0,0,6.5,1,5.31,5.31,0,0,0,8.1,4.9,5.31,5.31,0,0,0,12,6.5,5.46,5.46,0,0,0,6.5,12Z\"/>\n",
              "  </svg>\n",
              "    </button>\n",
              "    <script>\n",
              "      (() => {\n",
              "      const buttonEl =\n",
              "        document.querySelector('#id_91785c07-2bd0-4679-b916-ea0850f1114e button.colab-df-generate');\n",
              "      buttonEl.style.display =\n",
              "        google.colab.kernel.accessAllowed ? 'block' : 'none';\n",
              "\n",
              "      buttonEl.onclick = () => {\n",
              "        google.colab.notebook.generateWithVariable('df');\n",
              "      }\n",
              "      })();\n",
              "    </script>\n",
              "  </div>\n",
              "\n",
              "    </div>\n",
              "  </div>\n"
            ],
            "application/vnd.google.colaboratory.intrinsic+json": {
              "type": "dataframe",
              "variable_name": "df",
              "summary": "{\n  \"name\": \"df\",\n  \"rows\": 12999,\n  \"fields\": [\n    {\n      \"column\": \"file_name\",\n      \"properties\": {\n        \"dtype\": \"string\",\n        \"num_unique_values\": 12999,\n        \"samples\": [\n          \"concedera_5921.jpg\",\n          \"rad_7372.jpg\",\n          \"por_1387.jpg\"\n        ],\n        \"semantic_type\": \"\",\n        \"description\": \"\"\n      }\n    },\n    {\n      \"column\": \"text\",\n      \"properties\": {\n        \"dtype\": \"category\",\n        \"num_unique_values\": 1330,\n        \"samples\": [\n          \"theologales\",\n          \"funda\",\n          \"pie\"\n        ],\n        \"semantic_type\": \"\",\n        \"description\": \"\"\n      }\n    }\n  ]\n}"
            }
          },
          "metadata": {},
          "execution_count": 3
        }
      ],
      "source": [
        "file_names = []\n",
        "texts = []\n",
        "\n",
        "for file_name in os.listdir(dataset_directory):\n",
        "    text = file_name.split('_')[0].replace('-', ' ')\n",
        "    with open(os.path.join(dataset_directory, file_name), 'r') as file:\n",
        "        file_names.append(file_name)\n",
        "        texts.append(file_name.split('_')[0])\n",
        "\n",
        "# Create a DataFrame from the lists\n",
        "df = pd.DataFrame({'file_name': file_names, 'text': texts})\n",
        "\n",
        "df"
      ]
    },
    {
      "cell_type": "code",
      "execution_count": null,
      "metadata": {
        "id": "Ns1bO79dZ31_"
      },
      "outputs": [],
      "source": [
        "sub_df = df.iloc[:500]"
      ]
    },
    {
      "cell_type": "code",
      "execution_count": null,
      "metadata": {
        "id": "6qLVT1TPN8Nt"
      },
      "outputs": [],
      "source": [
        "train_df, test_df = train_test_split(sub_df, test_size=0.2)\n",
        "train_df.reset_index(drop=True, inplace=True)\n",
        "test_df.reset_index(drop=True, inplace=True)"
      ]
    },
    {
      "cell_type": "markdown",
      "metadata": {
        "id": "Q8n-47ByUGyH"
      },
      "source": [
        "# Section 2 Train Models"
      ]
    },
    {
      "cell_type": "markdown",
      "source": [
        "### Section 2.1 Create Transformers Based Model From Scratch"
      ],
      "metadata": {
        "id": "z4DVJl6CRSVE"
      }
    },
    {
      "cell_type": "markdown",
      "metadata": {
        "id": "duZv6gUvtQke"
      },
      "source": [
        "I will follow the same architecture with Trocr which is stated \"**To effectively train the TrOCR model, the encoder can be initialized with pre-trained ViT-style models (Dosovitskiy et al. 2021; Touvron et al. 2021; Bao, Dong, and Wei 2021) while the decoder can be initialized with pre-trained BERT-style models (Devlin et al. 2019; Liu et al. 2019; Dong et al. 2019; Wang et al. 2020b), respectively** in paper.\"\n",
        "\n",
        "I'll use vit-base-patch16-224-in21k for processing images and bert-base-uncased for breaking down text into tokens. Transformers are more precise than CNN-based OCR. The top 5 OCRs in the IAM dataset utilize transformers. However, transformers typically require more training data. TrOCR, for instance, was trained on a dataset with 684 million lines of text. Since I don't have the computational power for that, I've developed a Proof of Concept model trained and evaluated on a smaller dataset."
      ]
    },
    {
      "cell_type": "code",
      "execution_count": null,
      "metadata": {
        "id": "FyPsOnTYHMHc"
      },
      "outputs": [],
      "source": [
        "from transformers import ViTImageProcessor, BertTokenizer, VisionEncoderDecoderModel\n",
        "from datasets import load_dataset\n",
        "\n",
        "from transformers import BertConfig, ViTConfig, VisionEncoderDecoderConfig, VisionEncoderDecoderModel\n",
        "\n",
        "config_encoder = ViTConfig()\n",
        "config_decoder = BertConfig()\n",
        "config = VisionEncoderDecoderConfig.from_encoder_decoder_configs(config_encoder, config_decoder)\n",
        "\n",
        "model = VisionEncoderDecoderModel(config=config)\n",
        "image_processor = ViTImageProcessor.from_pretrained(\"google/vit-base-patch16-224-in21k\")\n",
        "tokenizer = BertTokenizer.from_pretrained(\"bert-base-uncased\")\n",
        "\n",
        "# set special tokens used for creating the decoder_input_ids from the labels\n",
        "model.config.decoder_start_token_id = tokenizer.cls_token_id\n",
        "model.config.pad_token_id = tokenizer.pad_token_id\n",
        "# make sure vocab size is set correctly\n",
        "model.config.vocab_size = model.config.decoder.vocab_size\n",
        "\n",
        "# set beam search parameters\n",
        "model.config.eos_token_id = tokenizer.sep_token_id\n",
        "model.config.max_length = 64\n",
        "model.config.early_stopping = True\n",
        "# model.config.no_repeat_ngram_size = 3\n",
        "# model.config.length_penalty = 2.0\n",
        "model.config.num_beams = 2"
      ]
    },
    {
      "cell_type": "code",
      "execution_count": null,
      "metadata": {
        "id": "Cb-wmglGBA39"
      },
      "outputs": [],
      "source": [
        "class test_sp(Dataset):\n",
        "    def __init__(self, root_dir, df,processor, image_processor, max_target_length=128):\n",
        "        self.root_dir = root_dir\n",
        "        self.df = df\n",
        "        self.processor = processor\n",
        "        self.image_processor = image_processor\n",
        "        self.max_target_length = max_target_length\n",
        "\n",
        "    def __len__(self):\n",
        "        return len(self.df)\n",
        "\n",
        "    def __getitem__(self, idx):\n",
        "        # get file name + text\n",
        "        file_name = self.df['file_name'][idx]\n",
        "        text = self.df['text'][idx]\n",
        "        # prepare image (i.e. resize + normalize)\n",
        "        image = Image.open(self.root_dir + file_name).convert(\"RGB\")\n",
        "        pixel_values = self.image_processor(image, return_tensors=\"pt\").pixel_values\n",
        "        # add labels (input_ids) by encoding the text\n",
        "        labels = self.processor(text,\n",
        "                                          padding=\"max_length\",\n",
        "                                          max_length=self.max_target_length).input_ids\n",
        "        # important: make sure that PAD tokens are ignored by the loss function\n",
        "        labels = [label if label != self.processor.pad_token_id else -100 for label in labels]\n",
        "\n",
        "        encoding = {\"pixel_values\": pixel_values.squeeze(), \"labels\": torch.tensor(labels)}\n",
        "        return encoding"
      ]
    },
    {
      "cell_type": "code",
      "execution_count": null,
      "metadata": {
        "id": "3EMk19-0pEzU"
      },
      "outputs": [],
      "source": [
        "train_dataset = test_sp(root_dir=dataset_directory + \"/\",\n",
        "                           df=train_df,\n",
        "                           processor=tokenizer, image_processor=image_processor)\n",
        "eval_dataset = test_sp(root_dir=dataset_directory + \"/\",\n",
        "                           df=test_df,\n",
        "                           processor=tokenizer, image_processor=image_processor)"
      ]
    },
    {
      "cell_type": "code",
      "execution_count": null,
      "metadata": {
        "colab": {
          "base_uri": "https://localhost:8080/",
          "height": 600
        },
        "id": "QensIHHAVtm6",
        "outputId": "b963537c-c758-4632-d835-bb8455347086"
      },
      "outputs": [
        {
          "output_type": "stream",
          "name": "stderr",
          "text": [
            "/usr/local/lib/python3.10/dist-packages/accelerate/accelerator.py:432: FutureWarning: Passing the following arguments to `Accelerator` is deprecated and will be removed in version 1.0 of Accelerate: dict_keys(['dispatch_batches', 'split_batches', 'even_batches', 'use_seedable_sampler']). Please pass an `accelerate.DataLoaderConfiguration` instead: \n",
            "dataloader_config = DataLoaderConfiguration(dispatch_batches=None, split_batches=False, even_batches=True, use_seedable_sampler=True)\n",
            "  warnings.warn(\n",
            "We strongly recommend passing in an `attention_mask` since your input_ids may be padded. See https://huggingface.co/docs/transformers/troubleshooting#incorrect-output-when-padding-tokens-arent-masked.\n"
          ]
        },
        {
          "output_type": "display_data",
          "data": {
            "text/plain": [
              "<IPython.core.display.HTML object>"
            ],
            "text/html": [
              "\n",
              "    <div>\n",
              "      \n",
              "      <progress value='1200' max='1200' style='width:300px; height:20px; vertical-align: middle;'></progress>\n",
              "      [1200/1200 30:51, Epoch 60/60]\n",
              "    </div>\n",
              "    <table border=\"1\" class=\"dataframe\">\n",
              "  <thead>\n",
              " <tr style=\"text-align: left;\">\n",
              "      <th>Step</th>\n",
              "      <th>Training Loss</th>\n",
              "    </tr>\n",
              "  </thead>\n",
              "  <tbody>\n",
              "    <tr>\n",
              "      <td>150</td>\n",
              "      <td>4.393500</td>\n",
              "    </tr>\n",
              "    <tr>\n",
              "      <td>300</td>\n",
              "      <td>2.491000</td>\n",
              "    </tr>\n",
              "    <tr>\n",
              "      <td>450</td>\n",
              "      <td>1.667000</td>\n",
              "    </tr>\n",
              "    <tr>\n",
              "      <td>600</td>\n",
              "      <td>1.369800</td>\n",
              "    </tr>\n",
              "    <tr>\n",
              "      <td>750</td>\n",
              "      <td>1.188600</td>\n",
              "    </tr>\n",
              "    <tr>\n",
              "      <td>900</td>\n",
              "      <td>0.960500</td>\n",
              "    </tr>\n",
              "    <tr>\n",
              "      <td>1050</td>\n",
              "      <td>0.610800</td>\n",
              "    </tr>\n",
              "    <tr>\n",
              "      <td>1200</td>\n",
              "      <td>0.324000</td>\n",
              "    </tr>\n",
              "  </tbody>\n",
              "</table><p>"
            ]
          },
          "metadata": {}
        },
        {
          "output_type": "stream",
          "name": "stderr",
          "text": [
            "Some non-default generation parameters are set in the model config. These should go into a GenerationConfig file (https://huggingface.co/docs/transformers/generation_strategies#save-a-custom-decoding-strategy-with-your-model) instead. This warning will be raised to an exception in v4.41.\n",
            "Non-default generation parameters: {'max_length': 64, 'early_stopping': True, 'num_beams': 2}\n",
            "Your generation config was originally created from the model config, but the model config has changed since then. Unless you pass the `generation_config` argument to this model's `generate` calls, they will revert to the legacy behavior where the base `generate` parameterization is loaded from the model config instead. To avoid this behavior and this warning, we recommend you to overwrite the generation config model attribute before calling the model's `save_pretrained`, preferably also removing any generation kwargs from the model config. This warning will be raised to an exception in v4.41.\n",
            "Removed shared tensor {'decoder.cls.predictions.decoder.weight', 'decoder.cls.predictions.decoder.bias'} while saving. This should be OK, but check by verifying that you don't receive any warning while reloading\n",
            "Some non-default generation parameters are set in the model config. These should go into a GenerationConfig file (https://huggingface.co/docs/transformers/generation_strategies#save-a-custom-decoding-strategy-with-your-model) instead. This warning will be raised to an exception in v4.41.\n",
            "Non-default generation parameters: {'max_length': 64, 'early_stopping': True, 'num_beams': 2}\n",
            "Your generation config was originally created from the model config, but the model config has changed since then. Unless you pass the `generation_config` argument to this model's `generate` calls, they will revert to the legacy behavior where the base `generate` parameterization is loaded from the model config instead. To avoid this behavior and this warning, we recommend you to overwrite the generation config model attribute before calling the model's `save_pretrained`, preferably also removing any generation kwargs from the model config. This warning will be raised to an exception in v4.41.\n",
            "Some non-default generation parameters are set in the model config. These should go into a GenerationConfig file (https://huggingface.co/docs/transformers/generation_strategies#save-a-custom-decoding-strategy-with-your-model) instead. This warning will be raised to an exception in v4.41.\n",
            "Non-default generation parameters: {'max_length': 64, 'early_stopping': True, 'num_beams': 2}\n",
            "Your generation config was originally created from the model config, but the model config has changed since then. Unless you pass the `generation_config` argument to this model's `generate` calls, they will revert to the legacy behavior where the base `generate` parameterization is loaded from the model config instead. To avoid this behavior and this warning, we recommend you to overwrite the generation config model attribute before calling the model's `save_pretrained`, preferably also removing any generation kwargs from the model config. This warning will be raised to an exception in v4.41.\n"
          ]
        }
      ],
      "source": [
        "from transformers import Trainer, TrainingArguments\n",
        "device = torch.device('cuda') if torch.cuda.is_available() else torch.device('cpu')\n",
        "\n",
        "model=model.to(device)\n",
        "model.train()\n",
        "training_args = TrainingArguments(\n",
        "    output_dir='./results',\n",
        "    num_train_epochs=60,\n",
        "    per_device_train_batch_size=20,\n",
        "    per_device_eval_batch_size=32,\n",
        "    # warmup_steps=50,\n",
        "    # weight_decay=0.01,\n",
        "    logging_dir='./logs',\n",
        "    logging_steps=150,\n",
        "    # eval_steps=25\n",
        ")\n",
        "\n",
        "\n",
        "trainer = Trainer(\n",
        "    model=model,\n",
        "    args=training_args,\n",
        "    train_dataset=train_dataset,\n",
        "    eval_dataset=eval_dataset\n",
        ")\n",
        "trainer.train()\n",
        "\n",
        "save_folder = \"/content/drive/MyDrive/generated_vision_encoder_decoder_20-5\"\n",
        "trainer.save_model(save_folder)"
      ]
    },
    {
      "cell_type": "code",
      "execution_count": null,
      "metadata": {
        "id": "cOjToD8CLNQ7"
      },
      "outputs": [],
      "source": [
        "model = VisionEncoderDecoderModel.from_pretrained(save_folder)"
      ]
    },
    {
      "cell_type": "code",
      "execution_count": null,
      "metadata": {
        "colab": {
          "base_uri": "https://localhost:8080/",
          "height": 155
        },
        "id": "2NqUvpqyK8J-",
        "outputId": "2dc5a9c6-8cf6-4689-8a28-4dc53fba7f74"
      },
      "outputs": [
        {
          "output_type": "display_data",
          "data": {
            "text/plain": [
              "<PIL.Image.Image image mode=RGB size=65x64>"
            ],
            "image/png": "[encoded data removed]"
          },
          "metadata": {}
        },
        {
          "output_type": "stream",
          "name": "stderr",
          "text": [
            "/usr/local/lib/python3.10/dist-packages/transformers/generation/utils.py:1197: UserWarning: You have modified the pretrained model configuration to control generation. This is a deprecated strategy to control generation and will be removed soon, in a future version. Please use and modify the model generation configuration (see https://huggingface.co/docs/transformers/generation_strategies#default-text-generation-configuration )\n",
            "  warnings.warn(\n"
          ]
        },
        {
          "output_type": "stream",
          "name": "stdout",
          "text": [
            "actual text: sus, predicted text: sus\n"
          ]
        }
      ],
      "source": [
        "def test_model(directory):\n",
        "    test_image = dataset_directory + \"/\" + directory\n",
        "    image = Image.open(test_image).convert(\"RGB\")\n",
        "    display(image)\n",
        "    pixel_values = image_processor(image, return_tensors=\"pt\").pixel_values\n",
        "    generated_ids = model.generate(pixel_values)\n",
        "    generated_text = tokenizer.batch_decode(generated_ids, skip_special_tokens=True)[0]\n",
        "    print(\"actual text: \" + directory.split(\"_\")[0] + \", predicted text: \" + generated_text)\n",
        "\n",
        "test_model(sub_df.iloc[1][\"file_name\"])"
      ]
    },
    {
      "cell_type": "code",
      "execution_count": null,
      "metadata": {
        "colab": {
          "base_uri": "https://localhost:8080/",
          "height": 99
        },
        "id": "Q1t8GtUa74Cf",
        "outputId": "714647cf-7e46-46c4-8a6d-f62ab957fcf9"
      },
      "outputs": [
        {
          "output_type": "display_data",
          "data": {
            "text/plain": [
              "<PIL.Image.Image image mode=RGB size=134x64>"
            ],
            "image/png": "[encoded data removed]"
          },
          "metadata": {}
        },
        {
          "output_type": "stream",
          "name": "stdout",
          "text": [
            "actual text: rodillas, predicted text: rodillas\n"
          ]
        }
      ],
      "source": [
        "test_model(sub_df.iloc[0][\"file_name\"])"
      ]
    },
    {
      "cell_type": "code",
      "execution_count": null,
      "metadata": {
        "colab": {
          "base_uri": "https://localhost:8080/",
          "height": 99
        },
        "id": "BsNVP7MT76kQ",
        "outputId": "d04d76c2-15bd-4a35-e387-23761ff39a2d"
      },
      "outputs": [
        {
          "output_type": "display_data",
          "data": {
            "text/plain": [
              "<PIL.Image.Image image mode=RGB size=87x64>"
            ],
            "image/png": "[encoded data removed]"
          },
          "metadata": {}
        },
        {
          "output_type": "stream",
          "name": "stdout",
          "text": [
            "actual text: oyd, predicted text: civil\n"
          ]
        }
      ],
      "source": [
        "test_model(sub_df.iloc[2][\"file_name\"])"
      ]
    },
    {
      "cell_type": "markdown",
      "metadata": {
        "id": "x42BRu1SUs_a"
      },
      "source": [
        "# Section 2.2 Fine Tune Transformers base TrOCR Model"
      ]
    },
    {
      "cell_type": "code",
      "execution_count": 8,
      "metadata": {
        "id": "qO5Q8WYp7DLx"
      },
      "outputs": [],
      "source": [
        "class SpanishPrintedDataset(Dataset):\n",
        "    def __init__(self, root_dir, df, processor, max_target_length=128):\n",
        "        self.root_dir = root_dir\n",
        "        self.df = df\n",
        "        self.processor = processor\n",
        "        self.max_target_length = max_target_length\n",
        "\n",
        "    def __len__(self):\n",
        "        return len(self.df)\n",
        "\n",
        "    def __getitem__(self, idx):\n",
        "        # get file name + text\n",
        "        file_name = self.df['file_name'][idx]\n",
        "        text = self.df['text'][idx]\n",
        "        # prepare image (i.e. resize + normalize)\n",
        "        image = Image.open(self.root_dir + file_name).convert(\"RGB\")\n",
        "        pixel_values = self.processor(image, return_tensors=\"pt\").pixel_values\n",
        "        # add labels (input_ids) by encoding the text\n",
        "        labels = self.processor.tokenizer(text,\n",
        "                                          padding=\"max_length\",\n",
        "                                          max_length=self.max_target_length).input_ids\n",
        "        # important: make sure that PAD tokens are ignored by the loss function\n",
        "        labels = [label if label != self.processor.tokenizer.pad_token_id else -100 for label in labels]\n",
        "\n",
        "        encoding = {\"pixel_values\": pixel_values.squeeze(), \"labels\": torch.tensor(labels)}\n",
        "        return encoding"
      ]
    },
    {
      "cell_type": "code",
      "execution_count": 5,
      "metadata": {
        "id": "kEOhuKsw8usS"
      },
      "outputs": [],
      "source": [
        "train_df, test_df = train_test_split(df, test_size=0.2)\n",
        "train_df.reset_index(drop=True, inplace=True)\n",
        "test_df.reset_index(drop=True, inplace=True)"
      ]
    },
    {
      "cell_type": "markdown",
      "metadata": {
        "id": "yzL7C60c-v-B"
      },
      "source": [
        "Initializing the training and evaluation datasets"
      ]
    },
    {
      "cell_type": "code",
      "execution_count": null,
      "metadata": {
        "id": "KIa78c2W8uT9",
        "colab": {
          "base_uri": "https://localhost:8080/",
          "height": 397,
          "referenced_widgets": [
            "e0918a3d1c5c4659baca9f780eb28260",
            "d262cb7e0ea3421bbd35866bd09f35fc",
            "d37f02d703da4d7bbef3a8c1d8c7b6a8",
            "4d98968bf95a4e6ebe21f834f6ccd525",
            "2e5131a35a7743fda995c574b6aca361",
            "16f276b55b8045a098d51484387b9321",
            "c8bf14d53a654152916bfff5b4cefcaf",
            "d06e64e0e2514fa3a134c7bf4a164218",
            "e407872e1ec949ec85e0d7448ceab633",
            "eed98ea0e5284bbea6bbb09833abffa4",
            "d0a3e661c11a42e3b2ee81f59310c235",
            "fc6bf312a91c446ca86152fbbb858ed0",
            "f191bf1ba51446d7b60da11c38176edc",
            "6a41dca766cf40229e86405d44f2a8b4",
            "e67b713127ef4870a96cd664fa8ee419",
            "a6d7c31cd2af4f08a702a477fab2a828",
            "547548b86f344f3bb32bdfd452e6740b",
            "ad305e791b0c469898cab6983d0c980d",
            "371f2531f8584b2190f746c6b9cabf29",
            "118ab88c3dff40d5afa0279b99638a17",
            "cf3fff3b176d4f439b846202e9c4c8de",
            "b324aedd389a4f2181f94f89ebd677e4",
            "648e790d62d34b14b92086c87558bb7e",
            "c827f81173a84a249ee4db70f8e73b5e",
            "b77ca96cacb34b3482d238718b1b202c",
            "e5e8b9a6ab614663a15382bb7ed39449",
            "fcaaf6058e93485a8fc473ca50a5adbd",
            "cf347ed0d73e4c24857b181aa9cd4a9b",
            "bc90b873d3dd4c0bb1ff179323604f98",
            "d1ce95814b974119a569f90858c6cf36",
            "9b6eab95c8f74376a0f8c96ba21bcf14",
            "82a64136440b4923b35359eadc9dab01",
            "ee320174ec27456aadf8ddd71e8ccfa0",
            "9854aa8bbf8547389d7ee5f071c779c4",
            "8e23f305ba0e41ad86b8381cf5d3bcfa",
            "790f1d43159543a19e115d79fa2b5a38",
            "ac8ced60ccde49e79433e4ba66f035ab",
            "fb74adce282b4a89b1fb627940c1b4e9",
            "8ff9147bed1f42499d1d8d8636771f3a",
            "af893cb8ec9f4be190c2fb94e3c20ef7",
            "d63be479f28b44649c3cd30f26524082",
            "b77639a45b054eccb1bbab66b4b32223",
            "f803654b458447099071bc9cf205f859",
            "84533ed16fa442b1b436078c9b590ce8",
            "15904dccc5c24ad381b1a3ede6b8a746",
            "daf7424daeaa44d98e7763e37651f091",
            "37dbd621fdde4c9789649eb6f98f4e1e",
            "a503476ed5004675a4c300fd4d6478f4",
            "1fd5e2781b104d14b56208e30f2ed3b8",
            "bebac33ab6f446a3a2db339e314c7b6a",
            "963dae0d69984270ae95fe2cbd8c10c9",
            "d42e2a0fe96e4d51a60613eab45d4325",
            "f12d8c6edc7e419eb28d9456c2057a55",
            "d82b240e14cf4da9b14e48946a3a6b0d",
            "74348ed2d95f4a46b9a4279a8c0f0862"
          ]
        },
        "outputId": "cd13c3f7-5c91-46fd-a815-83ee4f54cf12"
      },
      "outputs": [
        {
          "output_type": "stream",
          "name": "stderr",
          "text": [
            "/usr/local/lib/python3.10/dist-packages/huggingface_hub/utils/_token.py:88: UserWarning: \n",
            "The secret `HF_TOKEN` does not exist in your Colab secrets.\n",
            "To authenticate with the Hugging Face Hub, create a token in your settings tab (https://huggingface.co/settings/tokens), set it as secret in your Google Colab and restart your session.\n",
            "You will be able to reuse this secret in all of your notebooks.\n",
            "Please note that authentication is recommended but still optional to access public models or datasets.\n",
            "  warnings.warn(\n"
          ]
        },
        {
          "output_type": "display_data",
          "data": {
            "text/plain": [
              "preprocessor_config.json:   0%|          | 0.00/228 [00:00<?, ?B/s]"
            ],
            "application/vnd.jupyter.widget-view+json": {
              "version_major": 2,
              "version_minor": 0,
              "model_id": "e0918a3d1c5c4659baca9f780eb28260"
            }
          },
          "metadata": {}
        },
        {
          "output_type": "stream",
          "name": "stderr",
          "text": [
            "Could not find image processor class in the image processor config or the model config. Loading based on pattern matching with the model's feature extractor configuration. Please open a PR/issue to update `preprocessor_config.json` to use `image_processor_type` instead of `feature_extractor_type`. This warning will be removed in v4.40.\n"
          ]
        },
        {
          "output_type": "display_data",
          "data": {
            "text/plain": [
              "tokenizer_config.json:   0%|          | 0.00/1.12k [00:00<?, ?B/s]"
            ],
            "application/vnd.jupyter.widget-view+json": {
              "version_major": 2,
              "version_minor": 0,
              "model_id": "fc6bf312a91c446ca86152fbbb858ed0"
            }
          },
          "metadata": {}
        },
        {
          "output_type": "display_data",
          "data": {
            "text/plain": [
              "vocab.json:   0%|          | 0.00/899k [00:00<?, ?B/s]"
            ],
            "application/vnd.jupyter.widget-view+json": {
              "version_major": 2,
              "version_minor": 0,
              "model_id": "648e790d62d34b14b92086c87558bb7e"
            }
          },
          "metadata": {}
        },
        {
          "output_type": "display_data",
          "data": {
            "text/plain": [
              "merges.txt:   0%|          | 0.00/456k [00:00<?, ?B/s]"
            ],
            "application/vnd.jupyter.widget-view+json": {
              "version_major": 2,
              "version_minor": 0,
              "model_id": "9854aa8bbf8547389d7ee5f071c779c4"
            }
          },
          "metadata": {}
        },
        {
          "output_type": "display_data",
          "data": {
            "text/plain": [
              "special_tokens_map.json:   0%|          | 0.00/772 [00:00<?, ?B/s]"
            ],
            "application/vnd.jupyter.widget-view+json": {
              "version_major": 2,
              "version_minor": 0,
              "model_id": "15904dccc5c24ad381b1a3ede6b8a746"
            }
          },
          "metadata": {}
        },
        {
          "output_type": "stream",
          "name": "stdout",
          "text": [
            "Number of training examples: 10399\n",
            "Number of validation examples: 2600\n",
            "pixel_values torch.Size([3, 384, 384])\n",
            "labels torch.Size([128])\n"
          ]
        }
      ],
      "source": [
        "processor = TrOCRProcessor.from_pretrained(\"microsoft/trocr-base-printed\")\n",
        "#processor = TrOCRProcessor.from_pretrained('microsoft/trocr-large-str')\n",
        "train_dataset = SpanishPrintedDataset(root_dir=dataset_directory + \"/\",\n",
        "                           df=train_df,\n",
        "                           processor=processor)\n",
        "eval_dataset = SpanishPrintedDataset(root_dir=dataset_directory + \"/\",\n",
        "                           df=test_df,\n",
        "                           processor=processor)\n",
        "\n",
        "print(\"Number of training examples:\", len(train_dataset))\n",
        "print(\"Number of validation examples:\", len(eval_dataset))\n",
        "\n",
        "encoding = train_dataset[0]\n",
        "for k,v in encoding.items():\n",
        "  print(k, v.shape)\n",
        "\n",
        "labels = encoding['labels']\n",
        "labels[labels == -100] = processor.tokenizer.pad_token_id\n",
        "label_str = processor.decode(labels, skip_special_tokens=True)"
      ]
    },
    {
      "cell_type": "code",
      "execution_count": 3,
      "metadata": {
        "id": "bRhvTRrGBIfy",
        "colab": {
          "base_uri": "https://localhost:8080/",
          "height": 278,
          "referenced_widgets": [
            "bb2c3be83ce5450a86ba3ca953961e67",
            "87781a847f0d4e848fa7f5fb911dd9b8",
            "ca0cf4f09d6b4ef6a5287fe2ef836c48",
            "435fb7cdeebb4c389cc71fa544632a35",
            "9f292e1d0ff44f3c90b9daad81a16356",
            "83b66aa58b9b49f0a86b0b09e618f3b1",
            "d56dda18efc145d9a241c9720e81c238",
            "db0963e45a894ecfb7bd2797981204c0",
            "a5900259ba784a6a81a0ef3be1007b3b",
            "8c3b475eb2ed45b3ac88f9318bce64ab",
            "05d4e51df52040f9ba401e33e43570aa",
            "1233c11997de4232a73d86b0d5846685",
            "ef573f92c2384c98a279cc8ac9530b0f",
            "d9d94d5ca79641b8ad9629c87a2c8a07",
            "cfce25085a624bf891d669cf8597a814",
            "efbd0b3a437b4f019a188f0e94999503",
            "8ccecd0a10e74747b931833a410812a6",
            "23ddaf1c60ec4db28d38639db537befe",
            "46189bfc3f054b87a542f9c356a90c5e",
            "b649ca4304e4435596920b8b9a7d7c73",
            "b0a65df984874a149b11dafcf2f6abcd",
            "b9d13a15ffa0468aaee1af6357f5284a",
            "676f0758ad8846b298b6d9e8c69cb3aa",
            "6baab95ea7264fea8c0573a4b8b54f7c",
            "55636a20d2544665b68e64acf1a2dfa8",
            "fa02d8c364ca4272921406deb638dcc4",
            "f71b8e52dbb8433f9e160fb6729430ae",
            "7be492d092d3400b9eeaa47ad2ef7f83",
            "668ea988844d47aeab7f8e2af52190f0",
            "6d02844b2970439e8c738635de4802be",
            "ea352bbc0a014d40ab796e4bc39285ed",
            "249e642f82d341ff923331ccd0f28d9c",
            "f87bb3ba2dcb458a9ba6641ed9c00347"
          ]
        },
        "outputId": "8ca415b6-628d-4418-db50-9250eb8b75d0"
      },
      "outputs": [
        {
          "output_type": "stream",
          "name": "stderr",
          "text": [
            "/usr/local/lib/python3.10/dist-packages/huggingface_hub/utils/_token.py:88: UserWarning: \n",
            "The secret `HF_TOKEN` does not exist in your Colab secrets.\n",
            "To authenticate with the Hugging Face Hub, create a token in your settings tab (https://huggingface.co/settings/tokens), set it as secret in your Google Colab and restart your session.\n",
            "You will be able to reuse this secret in all of your notebooks.\n",
            "Please note that authentication is recommended but still optional to access public models or datasets.\n",
            "  warnings.warn(\n"
          ]
        },
        {
          "output_type": "display_data",
          "data": {
            "text/plain": [
              "config.json:   0%|          | 0.00/4.13k [00:00<?, ?B/s]"
            ],
            "application/vnd.jupyter.widget-view+json": {
              "version_major": 2,
              "version_minor": 0,
              "model_id": "bb2c3be83ce5450a86ba3ca953961e67"
            }
          },
          "metadata": {}
        },
        {
          "output_type": "display_data",
          "data": {
            "text/plain": [
              "pytorch_model.bin:   0%|          | 0.00/1.33G [00:00<?, ?B/s]"
            ],
            "application/vnd.jupyter.widget-view+json": {
              "version_major": 2,
              "version_minor": 0,
              "model_id": "1233c11997de4232a73d86b0d5846685"
            }
          },
          "metadata": {}
        },
        {
          "output_type": "stream",
          "name": "stderr",
          "text": [
            "Some weights of VisionEncoderDecoderModel were not initialized from the model checkpoint at microsoft/trocr-base-printed and are newly initialized: ['encoder.pooler.dense.bias', 'encoder.pooler.dense.weight']\n",
            "You should probably TRAIN this model on a down-stream task to be able to use it for predictions and inference.\n"
          ]
        },
        {
          "output_type": "display_data",
          "data": {
            "text/plain": [
              "generation_config.json:   0%|          | 0.00/190 [00:00<?, ?B/s]"
            ],
            "application/vnd.jupyter.widget-view+json": {
              "version_major": 2,
              "version_minor": 0,
              "model_id": "676f0758ad8846b298b6d9e8c69cb3aa"
            }
          },
          "metadata": {}
        }
      ],
      "source": [
        "model = VisionEncoderDecoderModel.from_pretrained(\"microsoft/trocr-base-printed\")\n"
      ]
    },
    {
      "cell_type": "code",
      "execution_count": null,
      "metadata": {
        "id": "sNNT1XS_CMgl"
      },
      "outputs": [],
      "source": [
        "model.config.decoder_start_token_id = processor.tokenizer.cls_token_id\n",
        "model.config.pad_token_id = processor.tokenizer.pad_token_id\n",
        "model.config.vocab_size = model.config.decoder.vocab_size\n",
        "\n",
        "model.config.eos_token_id = processor.tokenizer.sep_token_id\n",
        "model.config.max_length = 64\n",
        "model.config.early_stopping = True\n",
        "model.config.no_repeat_ngram_size = 3\n",
        "model.config.length_penalty = 1.0\n",
        "model.config.num_beams = 2"
      ]
    },
    {
      "cell_type": "code",
      "execution_count": null,
      "metadata": {
        "id": "o1G_rkDBzwid"
      },
      "outputs": [],
      "source": [
        "training_args = Seq2SeqTrainingArguments(\n",
        "    predict_with_generate=True,\n",
        "    evaluation_strategy=\"steps\",\n",
        "    per_device_train_batch_size=12,\n",
        "    per_device_eval_batch_size=12,\n",
        "    fp16=True,\n",
        "    output_dir=\"./content/res\",\n",
        "    logging_steps=2,\n",
        "    save_steps=1000,\n",
        "    eval_steps=250,\n",
        "    num_train_epochs=3\n",
        "\n",
        "\n",
        ")"
      ]
    },
    {
      "cell_type": "markdown",
      "metadata": {
        "id": "nV6KY53xvOgC"
      },
      "source": [
        "I will evaluate the model on the Character Error Rate (CER)."
      ]
    },
    {
      "cell_type": "code",
      "execution_count": null,
      "metadata": {
        "id": "yoXD3_P10DD4",
        "colab": {
          "base_uri": "https://localhost:8080/",
          "height": 178,
          "referenced_widgets": [
            "7b73fd270a09406192c90668e37e95fe",
            "4f923af98bb04ffe84a80af6c69eb4c1",
            "e3b4326dd7614cca891042c5c810997b",
            "a6f8064c0af34c13a57ccd0401511865",
            "8bdc1c1946a547948eb1868ae46094b7",
            "2c1bb087638b4aedacc631dcb88bca3b",
            "56429fcc8b6a4d87aa61d121043ddbba",
            "218bc46ebf9d4ccf9600c9d7072a8748",
            "7c7203b570c8434da3c3588033d598b1",
            "fcfc1bc213c6449dac6bacb79eaac5b0",
            "8ffb8639955a45339786a740f45852b6"
          ]
        },
        "outputId": "6ece2a7c-2232-4f83-a4af-59dcd3294fb3"
      },
      "outputs": [
        {
          "output_type": "stream",
          "name": "stderr",
          "text": [
            "<ipython-input-12-c81d87c6f9c2>:3: FutureWarning: load_metric is deprecated and will be removed in the next major version of datasets. Use 'evaluate.load' instead, from the new library 🤗 Evaluate: https://huggingface.co/docs/evaluate\n",
            "  cer_metric = load_metric(\"cer\")\n",
            "/usr/local/lib/python3.10/dist-packages/datasets/load.py:756: FutureWarning: The repository for cer contains custom code which must be executed to correctly load the metric. You can inspect the repository content at https://raw.githubusercontent.com/huggingface/datasets/2.18.0/metrics/cer/cer.py\n",
            "You can avoid this message in future by passing the argument `trust_remote_code=True`.\n",
            "Passing `trust_remote_code=True` will be mandatory to load this metric from the next major release of `datasets`.\n",
            "  warnings.warn(\n"
          ]
        },
        {
          "output_type": "display_data",
          "data": {
            "text/plain": [
              "Downloading builder script:   0%|          | 0.00/2.16k [00:00<?, ?B/s]"
            ],
            "application/vnd.jupyter.widget-view+json": {
              "version_major": 2,
              "version_minor": 0,
              "model_id": "7b73fd270a09406192c90668e37e95fe"
            }
          },
          "metadata": {}
        }
      ],
      "source": [
        "from datasets import load_metric\n",
        "\n",
        "cer_metric = load_metric(\"cer\")"
      ]
    },
    {
      "cell_type": "code",
      "execution_count": null,
      "metadata": {
        "id": "Y36AcnvP0OZw"
      },
      "outputs": [],
      "source": [
        "def compute_metrics(pred):\n",
        "    labels_ids = pred.label_ids\n",
        "    pred_ids = pred.predictions\n",
        "\n",
        "    pred_str = processor.batch_decode(pred_ids, skip_special_tokens=True)\n",
        "    labels_ids[labels_ids == -100] = processor.tokenizer.pad_token_id\n",
        "    label_str = processor.batch_decode(labels_ids, skip_special_tokens=True)\n",
        "\n",
        "    cer = cer_metric.compute(predictions=pred_str, references=label_str)\n",
        "\n",
        "    return {\"cer\": cer}"
      ]
    },
    {
      "cell_type": "code",
      "execution_count": null,
      "metadata": {
        "colab": {
          "base_uri": "https://localhost:8080/",
          "height": 663
        },
        "id": "mcQMbxi10SDm",
        "outputId": "c0756bf9-0055-4daf-bf59-f8773305b1e3"
      },
      "outputs": [
        {
          "output_type": "stream",
          "name": "stderr",
          "text": [
            "/usr/local/lib/python3.10/dist-packages/transformers/models/trocr/processing_trocr.py:136: FutureWarning: `feature_extractor` is deprecated and will be removed in v5. Use `image_processor` instead.\n",
            "  warnings.warn(\n",
            "/usr/local/lib/python3.10/dist-packages/accelerate/accelerator.py:432: FutureWarning: Passing the following arguments to `Accelerator` is deprecated and will be removed in version 1.0 of Accelerate: dict_keys(['dispatch_batches', 'split_batches', 'even_batches', 'use_seedable_sampler']). Please pass an `accelerate.DataLoaderConfiguration` instead: \n",
            "dataloader_config = DataLoaderConfiguration(dispatch_batches=None, split_batches=False, even_batches=True, use_seedable_sampler=True)\n",
            "  warnings.warn(\n"
          ]
        },
        {
          "output_type": "display_data",
          "data": {
            "text/plain": [
              "<IPython.core.display.HTML object>"
            ],
            "text/html": [
              "\n",
              "    <div>\n",
              "      \n",
              "      <progress value='2601' max='2601' style='width:300px; height:20px; vertical-align: middle;'></progress>\n",
              "      [2601/2601 1:33:24, Epoch 3/3]\n",
              "    </div>\n",
              "    <table border=\"1\" class=\"dataframe\">\n",
              "  <thead>\n",
              " <tr style=\"text-align: left;\">\n",
              "      <th>Step</th>\n",
              "      <th>Training Loss</th>\n",
              "      <th>Validation Loss</th>\n",
              "      <th>Cer</th>\n",
              "    </tr>\n",
              "  </thead>\n",
              "  <tbody>\n",
              "    <tr>\n",
              "      <td>250</td>\n",
              "      <td>0.531900</td>\n",
              "      <td>0.418512</td>\n",
              "      <td>0.077621</td>\n",
              "    </tr>\n",
              "    <tr>\n",
              "      <td>500</td>\n",
              "      <td>0.141100</td>\n",
              "      <td>0.255717</td>\n",
              "      <td>0.062421</td>\n",
              "    </tr>\n",
              "    <tr>\n",
              "      <td>750</td>\n",
              "      <td>0.098900</td>\n",
              "      <td>0.109571</td>\n",
              "      <td>0.025894</td>\n",
              "    </tr>\n",
              "    <tr>\n",
              "      <td>1000</td>\n",
              "      <td>0.275700</td>\n",
              "      <td>0.106937</td>\n",
              "      <td>0.024332</td>\n",
              "    </tr>\n",
              "    <tr>\n",
              "      <td>1250</td>\n",
              "      <td>0.126000</td>\n",
              "      <td>0.035760</td>\n",
              "      <td>0.005707</td>\n",
              "    </tr>\n",
              "    <tr>\n",
              "      <td>1500</td>\n",
              "      <td>0.004300</td>\n",
              "      <td>0.034781</td>\n",
              "      <td>0.007510</td>\n",
              "    </tr>\n",
              "    <tr>\n",
              "      <td>1750</td>\n",
              "      <td>0.067300</td>\n",
              "      <td>0.021516</td>\n",
              "      <td>0.002704</td>\n",
              "    </tr>\n",
              "    <tr>\n",
              "      <td>2000</td>\n",
              "      <td>0.000600</td>\n",
              "      <td>0.007545</td>\n",
              "      <td>0.000961</td>\n",
              "    </tr>\n",
              "    <tr>\n",
              "      <td>2250</td>\n",
              "      <td>0.000400</td>\n",
              "      <td>0.000706</td>\n",
              "      <td>0.000240</td>\n",
              "    </tr>\n",
              "    <tr>\n",
              "      <td>2500</td>\n",
              "      <td>0.000400</td>\n",
              "      <td>0.000479</td>\n",
              "      <td>0.000060</td>\n",
              "    </tr>\n",
              "  </tbody>\n",
              "</table><p>"
            ]
          },
          "metadata": {}
        },
        {
          "output_type": "stream",
          "name": "stderr",
          "text": [
            "/usr/local/lib/python3.10/dist-packages/transformers/generation/utils.py:1197: UserWarning: You have modified the pretrained model configuration to control generation. This is a deprecated strategy to control generation and will be removed soon, in a future version. Please use and modify the model generation configuration (see https://huggingface.co/docs/transformers/generation_strategies#default-text-generation-configuration )\n",
            "  warnings.warn(\n",
            "Some non-default generation parameters are set in the model config. These should go into a GenerationConfig file (https://huggingface.co/docs/transformers/generation_strategies#save-a-custom-decoding-strategy-with-your-model) instead. This warning will be raised to an exception in v4.41.\n",
            "Non-default generation parameters: {'max_length': 64, 'early_stopping': True, 'num_beams': 2, 'no_repeat_ngram_size': 3}\n",
            "Removed shared tensor {'decoder.output_projection.weight'} while saving. This should be OK, but check by verifying that you don't receive any warning while reloading\n",
            "Some non-default generation parameters are set in the model config. These should go into a GenerationConfig file (https://huggingface.co/docs/transformers/generation_strategies#save-a-custom-decoding-strategy-with-your-model) instead. This warning will be raised to an exception in v4.41.\n",
            "Non-default generation parameters: {'max_length': 64, 'early_stopping': True, 'num_beams': 2, 'no_repeat_ngram_size': 3}\n",
            "Some non-default generation parameters are set in the model config. These should go into a GenerationConfig file (https://huggingface.co/docs/transformers/generation_strategies#save-a-custom-decoding-strategy-with-your-model) instead. This warning will be raised to an exception in v4.41.\n",
            "Non-default generation parameters: {'max_length': 64, 'early_stopping': True, 'num_beams': 2, 'no_repeat_ngram_size': 3}\n"
          ]
        }
      ],
      "source": [
        "from transformers import default_data_collator\n",
        "\n",
        "# instantiate trainer\n",
        "trainer = Seq2SeqTrainer(\n",
        "    model=model,\n",
        "    tokenizer=processor.feature_extractor,\n",
        "    args=training_args,\n",
        "    compute_metrics=compute_metrics,\n",
        "    train_dataset=train_dataset,\n",
        "    eval_dataset=eval_dataset,\n",
        "    data_collator=default_data_collator,\n",
        "\n",
        ")\n",
        "trainer.train()\n",
        "trainer.save_model(\"/content/drive/MyDrive/trocr_es14k_finetune_mixed\")"
      ]
    },
    {
      "cell_type": "markdown",
      "metadata": {
        "id": "fjrPTjMIB5a8"
      },
      "source": [
        "Load fine tuned model"
      ]
    },
    {
      "cell_type": "code",
      "execution_count": 3,
      "metadata": {
        "id": "vt3n-j9XVvzV",
        "colab": {
          "base_uri": "https://localhost:8080/",
          "height": 324,
          "referenced_widgets": [
            "e5f1e2cda51c4d9e9077a03c64390857",
            "bc27a81a4f5443f6990618be7536d66a",
            "1d15657472ff4ad9836e9ac20aa1a097",
            "17c9d5c567284e67badeb0c982ebff94",
            "758d1ba27d594e048b4c32761be186d4",
            "650c250ed1bc4782962752b2723b7b69",
            "9b5c4fc0a2cf4e08a7a57b61234ff2e6",
            "0c126ef140734a3db6ef38b786f6520e",
            "ca812b09209f4c94bd3410a78462d080",
            "d0aa3b610cd94180be9f01675e343933",
            "d14c18251fdb46aeb7af234849c3f290",
            "9e92bdf3ca534d3da2cac976a897eea3",
            "7a5296c2a7bd4c6e984e0cea4c10a952",
            "f3eb04016cd24a2c9eaf086bf5ae43e5",
            "ecbb093d2569400bb573fa273e4fb7cf",
            "082f76d9c56945f081782a28d1394a8c",
            "4c74d72b1720486e8d9d508ad117bc84",
            "6e501583d1e74423883be5476b25b4da",
            "789d05aec1284ded809fbca1d66cffeb",
            "7a247a9a5f814d738303608b65d0f2f0",
            "a7959f545f4e4617b0541f4167f9dce8",
            "b6a30876efe948488fafbc7bf7c7b8e2",
            "28f136f4f37c457a84b0b8f06318bca7",
            "c6d09dae00d842f882a57cf9c443223b",
            "677cd50c260145869a03356b7f63130d",
            "7204e4f22c3b445f86c9c11c5000c645",
            "3914653d3aec42788bb69f19910e8280",
            "87cb504102de4216bbb46cb2dd91160d",
            "1c6d7ac682c04f88910df64c0048e98c",
            "4cf0ea63f8b840d59490e8ef8698ffcb",
            "19b69fba15a24bc8a9dc09a928b778c0",
            "29c29958cd1940acbf5a906b7a33670c",
            "0c770300da5245cc92e233797880bc86",
            "baded2c1426042338483f21d43023101",
            "d7213d27a6264dc6817a89c17fef49f5",
            "3440771787c44d06adfa2c160adb42cf",
            "045e3d60995a45559f4b59d44d850ea4",
            "5ee2d65fce0846f7aff8cb1f29f4b17f",
            "f5ef5355d51342d9b8d7db3c0d40d741",
            "bb7c65282cec4ba8ada16640065c5115",
            "a785e77b00f04cb2a0777de93701de09",
            "45e1eed511154877afaede715c5727d9",
            "e4a360b4347a4020b34e1b6fdb56c4d0",
            "37f38a46cafd4b97aa6279f3b5fdb40a",
            "5da73443e1aa4fabb0508d497cf6dfc3",
            "d698edd77a584a37b98ca7c9f01bee61",
            "d758a90a2d3d45f9941c3d69e7483b54",
            "989ae05c71b348819491fa8161002110",
            "56cde528fb654c9c9a5f8621cae50b3e",
            "67e7cc27280f4263a84cdebbd302cbb2",
            "e794f7c2426a4f4e9eb95bb3291673b6",
            "2b7aabc6540d47e794469e5128a866a7",
            "11a8c20c1b1f4172a6821c0d2a90e843",
            "6cf24926ef6744ac908e15be76aaa60d",
            "0bcac27f7ffc4a149d8ee83bbebd8806"
          ]
        },
        "outputId": "2ec566fe-736f-491e-86f1-6582b7f9a4ee"
      },
      "outputs": [
        {
          "output_type": "stream",
          "name": "stderr",
          "text": [
            "/usr/local/lib/python3.10/dist-packages/huggingface_hub/utils/_token.py:88: UserWarning: \n",
            "The secret `HF_TOKEN` does not exist in your Colab secrets.\n",
            "To authenticate with the Hugging Face Hub, create a token in your settings tab (https://huggingface.co/settings/tokens), set it as secret in your Google Colab and restart your session.\n",
            "You will be able to reuse this secret in all of your notebooks.\n",
            "Please note that authentication is recommended but still optional to access public models or datasets.\n",
            "  warnings.warn(\n"
          ]
        },
        {
          "output_type": "display_data",
          "data": {
            "text/plain": [
              "preprocessor_config.json:   0%|          | 0.00/228 [00:00<?, ?B/s]"
            ],
            "application/vnd.jupyter.widget-view+json": {
              "version_major": 2,
              "version_minor": 0,
              "model_id": "e5f1e2cda51c4d9e9077a03c64390857"
            }
          },
          "metadata": {}
        },
        {
          "output_type": "stream",
          "name": "stderr",
          "text": [
            "Could not find image processor class in the image processor config or the model config. Loading based on pattern matching with the model's feature extractor configuration. Please open a PR/issue to update `preprocessor_config.json` to use `image_processor_type` instead of `feature_extractor_type`. This warning will be removed in v4.40.\n"
          ]
        },
        {
          "output_type": "display_data",
          "data": {
            "text/plain": [
              "tokenizer_config.json:   0%|          | 0.00/1.12k [00:00<?, ?B/s]"
            ],
            "application/vnd.jupyter.widget-view+json": {
              "version_major": 2,
              "version_minor": 0,
              "model_id": "9e92bdf3ca534d3da2cac976a897eea3"
            }
          },
          "metadata": {}
        },
        {
          "output_type": "display_data",
          "data": {
            "text/plain": [
              "vocab.json:   0%|          | 0.00/899k [00:00<?, ?B/s]"
            ],
            "application/vnd.jupyter.widget-view+json": {
              "version_major": 2,
              "version_minor": 0,
              "model_id": "28f136f4f37c457a84b0b8f06318bca7"
            }
          },
          "metadata": {}
        },
        {
          "output_type": "display_data",
          "data": {
            "text/plain": [
              "merges.txt:   0%|          | 0.00/456k [00:00<?, ?B/s]"
            ],
            "application/vnd.jupyter.widget-view+json": {
              "version_major": 2,
              "version_minor": 0,
              "model_id": "baded2c1426042338483f21d43023101"
            }
          },
          "metadata": {}
        },
        {
          "output_type": "display_data",
          "data": {
            "text/plain": [
              "special_tokens_map.json:   0%|          | 0.00/772 [00:00<?, ?B/s]"
            ],
            "application/vnd.jupyter.widget-view+json": {
              "version_major": 2,
              "version_minor": 0,
              "model_id": "5da73443e1aa4fabb0508d497cf6dfc3"
            }
          },
          "metadata": {}
        }
      ],
      "source": [
        "model_save_folder = \"/content/drive/MyDrive/trocr_es14k_finetune_mixed\"\n",
        "processor = TrOCRProcessor.from_pretrained(\"microsoft/trocr-base-printed\")\n",
        "model = VisionEncoderDecoderModel.from_pretrained(model_save_folder)"
      ]
    },
    {
      "cell_type": "markdown",
      "metadata": {
        "id": "dI8tP-kRydWJ"
      },
      "source": [
        "## Section 3: Evaluation and Result"
      ]
    },
    {
      "cell_type": "code",
      "execution_count": null,
      "metadata": {
        "colab": {
          "base_uri": "https://localhost:8080/",
          "height": 1000
        },
        "id": "CQqG_5tvrDTn",
        "outputId": "3130d05e-21f8-48e3-ab67-05f9be061b20"
      },
      "outputs": [
        {
          "output_type": "stream",
          "name": "stdout",
          "text": [
            "['text_0.png', 'text_1.png', 'text_2.png', 'text_3.png', 'text_4.png', 'text_5.png', 'text_6.png', 'text_7.png', 'text_8.png', 'text_9.png', 'text_10.png', 'text_11.png', 'text_12.png', 'text_13.png', 'text_14.png', 'text_15.png', 'text_16.png', 'text_17.png', 'text_18.png', 'text_19.png', 'text_20.png', 'text_21.png', 'text_22.png', 'text_23.png', 'text_24.png', 'text_25.png', 'text_29.png', 'text_30.png', 'text_31.png', 'text_32.png', 'text_33.png', 'text_34.png', 'text_35.png', 'text_36.png', 'text_37.png', 'text_38.png', 'text_39.png', 'text_40.png', 'text_41.png', 'text_42.png', 'text_43.png', 'text_44.png', 'text_45.png', 'text_46.png', 'text_47.png', 'text_48.png', 'text_49.png', 'text_50.png', 'text_51.png', 'text_53.png', 'text_54.png', 'text_55.png', 'text_56.png', 'text_57.png', 'text_58.png', 'text_59.png', 'text_60.png', 'text_61.png', 'text_62.png', 'text_63-1.png', 'text_63-2.png', 'text_64.png', 'text_65.png', 'text_66.png', 'text_67-1.png', 'text_67-2.png', 'text_68.png', 'text_69.png', 'text_70.png', 'text_71.png', 'text_74.png', 'text_75.png', 'text_76.png', 'text_77.png', 'text_78-1.png', 'text_78-2.png', 'text_79.png', 'text_80.png']\n"
          ]
        },
        {
          "output_type": "display_data",
          "data": {
            "text/plain": [
              "<PIL.Image.Image image mode=RGB size=389x38>"
            ],
            "image/png": "[encoded data removed]"
          },
          "metadata": {}
        },
        {
          "output_type": "stream",
          "name": "stdout",
          "text": [
            "dedicatoria\n"
          ]
        },
        {
          "output_type": "display_data",
          "data": {
            "text/plain": [
              "<PIL.Image.Image image mode=RGB size=55x35>"
            ],
            "image/png": "[encoded data removed]"
          },
          "metadata": {}
        },
        {
          "output_type": "stream",
          "name": "stdout",
          "text": [
            "en\n"
          ]
        },
        {
          "output_type": "display_data",
          "data": {
            "text/plain": [
              "<PIL.Image.Image image mode=RGB size=76x35>"
            ],
            "image/png": "[encoded data removed]"
          },
          "metadata": {}
        },
        {
          "output_type": "stream",
          "name": "stdout",
          "text": [
            "los\n"
          ]
        },
        {
          "output_type": "display_data",
          "data": {
            "text/plain": [
              "<PIL.Image.Image image mode=RGB size=207x41>"
            ],
            "image/png": "[encoded data removed]"
          },
          "metadata": {}
        },
        {
          "output_type": "stream",
          "name": "stdout",
          "text": [
            "consejo\n"
          ]
        },
        {
          "output_type": "display_data",
          "data": {
            "text/plain": [
              "<PIL.Image.Image image mode=RGB size=58x39>"
            ],
            "image/png": "[encoded data removed]"
          },
          "metadata": {}
        },
        {
          "output_type": "stream",
          "name": "stdout",
          "text": [
            "que\n"
          ]
        },
        {
          "output_type": "display_data",
          "data": {
            "text/plain": [
              "<PIL.Image.Image image mode=RGB size=74x35>"
            ],
            "image/png": "[encoded data removed]"
          },
          "metadata": {}
        },
        {
          "output_type": "stream",
          "name": "stdout",
          "text": [
            "dexó\n"
          ]
        },
        {
          "output_type": "display_data",
          "data": {
            "text/plain": [
              "<PIL.Image.Image image mode=RGB size=20x33>"
            ],
            "image/png": "[encoded data removed]"
          },
          "metadata": {}
        },
        {
          "output_type": "stream",
          "name": "stdout",
          "text": [
            "á\n"
          ]
        },
        {
          "output_type": "display_data",
          "data": {
            "text/plain": [
              "<PIL.Image.Image image mode=RGB size=42x35>"
            ],
            "image/png": "[encoded data removed]"
          },
          "metadata": {}
        },
        {
          "output_type": "stream",
          "name": "stdout",
          "text": [
            "fus\n"
          ]
        },
        {
          "output_type": "display_data",
          "data": {
            "text/plain": [
              "<PIL.Image.Image image mode=RGB size=84x39>"
            ],
            "image/png": "[encoded data removed]"
          },
          "metadata": {}
        },
        {
          "output_type": "stream",
          "name": "stdout",
          "text": [
            "hijo\n"
          ]
        },
        {
          "output_type": "display_data",
          "data": {
            "text/plain": [
              "<PIL.Image.Image image mode=RGB size=56x44>"
            ],
            "image/png": "[encoded data removed]"
          },
          "metadata": {}
        },
        {
          "output_type": "stream",
          "name": "stdout",
          "text": [
            "hija\n"
          ]
        },
        {
          "output_type": "display_data",
          "data": {
            "text/plain": [
              "<PIL.Image.Image image mode=RGB size=125x31>"
            ],
            "image/png": "[encoded data removed]"
          },
          "metadata": {}
        },
        {
          "output_type": "stream",
          "name": "stdout",
          "text": [
            "mayores\n"
          ]
        },
        {
          "output_type": "display_data",
          "data": {
            "text/plain": [
              "<PIL.Image.Image image mode=RGB size=61x22>"
            ],
            "image/png": "[encoded data removed]"
          },
          "metadata": {}
        },
        {
          "output_type": "stream",
          "name": "stdout",
          "text": [
            "vna\n"
          ]
        },
        {
          "output_type": "display_data",
          "data": {
            "text/plain": [
              "<PIL.Image.Image image mode=RGB size=69x37>"
            ],
            "image/png": "[encoded data removed]"
          },
          "metadata": {}
        },
        {
          "output_type": "stream",
          "name": "stdout",
          "text": [
            "gran\n"
          ]
        },
        {
          "output_type": "display_data",
          "data": {
            "text/plain": [
              "<PIL.Image.Image image mode=RGB size=100x34>"
            ],
            "image/png": "[encoded data removed]"
          },
          "metadata": {}
        },
        {
          "output_type": "stream",
          "name": "stdout",
          "text": [
            "seña\n"
          ]
        },
        {
          "output_type": "display_data",
          "data": {
            "text/plain": [
              "<PIL.Image.Image image mode=RGB size=95x35>"
            ],
            "image/png": "[encoded data removed]"
          },
          "metadata": {}
        },
        {
          "output_type": "stream",
          "name": "stdout",
          "text": [
            "defos\n"
          ]
        },
        {
          "output_type": "display_data",
          "data": {
            "text/plain": [
              "<PIL.Image.Image image mode=RGB size=111x34>"
            ],
            "image/png": "[encoded data removed]"
          },
          "metadata": {}
        },
        {
          "output_type": "stream",
          "name": "stdout",
          "text": [
            "reynos\n"
          ]
        },
        {
          "output_type": "display_data",
          "data": {
            "text/plain": [
              "<PIL.Image.Image image mode=RGB size=44x35>"
            ],
            "image/png": "[encoded data removed]"
          },
          "metadata": {}
        },
        {
          "output_type": "stream",
          "name": "stdout",
          "text": [
            "de\n"
          ]
        },
        {
          "output_type": "display_data",
          "data": {
            "text/plain": [
              "<PIL.Image.Image image mode=RGB size=100x40>"
            ],
            "image/png": "[encoded data removed]"
          },
          "metadata": {}
        },
        {
          "output_type": "stream",
          "name": "stdout",
          "text": [
            "fipańri\n"
          ]
        },
        {
          "output_type": "display_data",
          "data": {
            "text/plain": [
              "<PIL.Image.Image image mode=RGB size=58x25>"
            ],
            "image/png": "[encoded data removed]"
          },
          "metadata": {}
        },
        {
          "output_type": "stream",
          "name": "stdout",
          "text": [
            "que\n"
          ]
        },
        {
          "output_type": "display_data",
          "data": {
            "text/plain": [
              "<PIL.Image.Image image mode=RGB size=141x39>"
            ],
            "image/png": "[encoded data removed]"
          },
          "metadata": {}
        },
        {
          "output_type": "stream",
          "name": "stdout",
          "text": [
            "porjutos\n"
          ]
        },
        {
          "output_type": "display_data",
          "data": {
            "text/plain": [
              "<PIL.Image.Image image mode=RGB size=100x42>"
            ],
            "image/png": "[encoded data removed]"
          },
          "metadata": {}
        },
        {
          "output_type": "stream",
          "name": "stdout",
          "text": [
            "relpec\n"
          ]
        },
        {
          "output_type": "display_data",
          "data": {
            "text/plain": [
              "<PIL.Image.Image image mode=RGB size=46x26>"
            ],
            "image/png": "[encoded data removed]"
          },
          "metadata": {}
        },
        {
          "output_type": "stream",
          "name": "stdout",
          "text": [
            "tos\n"
          ]
        },
        {
          "output_type": "display_data",
          "data": {
            "text/plain": [
              "<PIL.Image.Image image mode=RGB size=28x30>"
            ],
            "image/png": "[encoded data removed]"
          },
          "metadata": {}
        },
        {
          "output_type": "stream",
          "name": "stdout",
          "text": [
            "fe\n"
          ]
        },
        {
          "output_type": "display_data",
          "data": {
            "text/plain": [
              "<PIL.Image.Image image mode=RGB size=94x32>"
            ],
            "image/png": "[encoded data removed]"
          },
          "metadata": {}
        },
        {
          "output_type": "stream",
          "name": "stdout",
          "text": [
            "oculto\n"
          ]
        },
        {
          "output_type": "display_data",
          "data": {
            "text/plain": [
              "<PIL.Image.Image image mode=RGB size=30x31>"
            ],
            "image/png": "[encoded data removed]"
          },
          "metadata": {}
        },
        {
          "output_type": "stream",
          "name": "stdout",
          "text": [
            "flu\n"
          ]
        },
        {
          "output_type": "display_data",
          "data": {
            "text/plain": [
              "<PIL.Image.Image image mode=RGB size=123x34>"
            ],
            "image/png": "[encoded data removed]"
          },
          "metadata": {}
        },
        {
          "output_type": "stream",
          "name": "stdout",
          "text": [
            "nombre\n"
          ]
        },
        {
          "output_type": "display_data",
          "data": {
            "text/plain": [
              "<PIL.Image.Image image mode=RGB size=60x35>"
            ],
            "image/png": "[encoded data removed]"
          },
          "metadata": {}
        },
        {
          "output_type": "stream",
          "name": "stdout",
          "text": [
            "hijos\n"
          ]
        },
        {
          "output_type": "display_data",
          "data": {
            "text/plain": [
              "<PIL.Image.Image image mode=RGB size=57x23>"
            ],
            "image/png": "[encoded data removed]"
          },
          "metadata": {}
        },
        {
          "output_type": "stream",
          "name": "stdout",
          "text": [
            "mios\n"
          ]
        },
        {
          "output_type": "display_data",
          "data": {
            "text/plain": [
              "<PIL.Image.Image image mode=RGB size=37x17>"
            ],
            "image/png": "[encoded data removed]"
          },
          "metadata": {}
        },
        {
          "output_type": "stream",
          "name": "stdout",
          "text": [
            "tan\n"
          ]
        },
        {
          "output_type": "display_data",
          "data": {
            "text/plain": [
              "<PIL.Image.Image image mode=RGB size=75x19>"
            ],
            "image/png": "[encoded data removed]"
          },
          "metadata": {}
        },
        {
          "output_type": "stream",
          "name": "stdout",
          "text": [
            "cierto\n"
          ]
        },
        {
          "output_type": "display_data",
          "data": {
            "text/plain": [
              "<PIL.Image.Image image mode=RGB size=46x26>"
            ],
            "image/png": "[encoded data removed]"
          },
          "metadata": {}
        },
        {
          "output_type": "stream",
          "name": "stdout",
          "text": [
            "que\n"
          ]
        },
        {
          "output_type": "display_data",
          "data": {
            "text/plain": [
              "<PIL.Image.Image image mode=RGB size=23x26>"
            ],
            "image/png": "[encoded data removed]"
          },
          "metadata": {}
        },
        {
          "output_type": "stream",
          "name": "stdout",
          "text": [
            "el\n"
          ]
        },
        {
          "output_type": "display_data",
          "data": {
            "text/plain": [
              "<PIL.Image.Image image mode=RGB size=91x24>"
            ],
            "image/png": "[encoded data removed]"
          },
          "metadata": {}
        },
        {
          "output_type": "stream",
          "name": "stdout",
          "text": [
            "virtulóo\n"
          ]
        },
        {
          "output_type": "display_data",
          "data": {
            "text/plain": [
              "<PIL.Image.Image image mode=RGB size=36x28>"
            ],
            "image/png": "[encoded data removed]"
          },
          "metadata": {}
        },
        {
          "output_type": "stream",
          "name": "stdout",
          "text": [
            "fer\n"
          ]
        },
        {
          "output_type": "display_data",
          "data": {
            "text/plain": [
              "<PIL.Image.Image image mode=RGB size=27x19>"
            ],
            "image/png": "[encoded data removed]"
          },
          "metadata": {}
        },
        {
          "output_type": "stream",
          "name": "stdout",
          "text": [
            "es\n"
          ]
        },
        {
          "output_type": "display_data",
          "data": {
            "text/plain": [
              "<PIL.Image.Image image mode=RGB size=23x26>"
            ],
            "image/png": "[encoded data removed]"
          },
          "metadata": {}
        },
        {
          "output_type": "stream",
          "name": "stdout",
          "text": [
            "el\n"
          ]
        },
        {
          "output_type": "display_data",
          "data": {
            "text/plain": [
              "<PIL.Image.Image image mode=RGB size=46x29>"
            ],
            "image/png": "[encoded data removed]"
          },
          "metadata": {}
        },
        {
          "output_type": "stream",
          "name": "stdout",
          "text": [
            "que\n"
          ]
        },
        {
          "output_type": "display_data",
          "data": {
            "text/plain": [
              "<PIL.Image.Image image mode=RGB size=41x27>"
            ],
            "image/png": "[encoded data removed]"
          },
          "metadata": {}
        },
        {
          "output_type": "stream",
          "name": "stdout",
          "text": [
            "por\n"
          ]
        },
        {
          "output_type": "display_data",
          "data": {
            "text/plain": [
              "<PIL.Image.Image image mode=RGB size=59x28>"
            ],
            "image/png": "[encoded data removed]"
          },
          "metadata": {}
        },
        {
          "output_type": "stream",
          "name": "stdout",
          "text": [
            "obli\n"
          ]
        },
        {
          "output_type": "display_data",
          "data": {
            "text/plain": [
              "<PIL.Image.Image image mode=RGB size=76x26>"
            ],
            "image/png": "[encoded data removed]"
          },
          "metadata": {}
        },
        {
          "output_type": "stream",
          "name": "stdout",
          "text": [
            "gacion\n"
          ]
        },
        {
          "output_type": "display_data",
          "data": {
            "text/plain": [
              "<PIL.Image.Image image mode=RGB size=42x24>"
            ],
            "image/png": "[encoded data removed]"
          },
          "metadata": {}
        },
        {
          "output_type": "stream",
          "name": "stdout",
          "text": [
            "han\n"
          ]
        },
        {
          "output_type": "display_data",
          "data": {
            "text/plain": [
              "<PIL.Image.Image image mode=RGB size=43x27>"
            ],
            "image/png": "[encoded data removed]"
          },
          "metadata": {}
        },
        {
          "output_type": "stream",
          "name": "stdout",
          "text": [
            "ide\n"
          ]
        },
        {
          "output_type": "display_data",
          "data": {
            "text/plain": [
              "<PIL.Image.Image image mode=RGB size=44x29>"
            ],
            "image/png": "[encoded data removed]"
          },
          "metadata": {}
        },
        {
          "output_type": "stream",
          "name": "stdout",
          "text": [
            "dar\n"
          ]
        },
        {
          "output_type": "display_data",
          "data": {
            "text/plain": [
              "<PIL.Image.Image image mode=RGB size=15x15>"
            ],
            "image/png": "[encoded data removed]"
          },
          "metadata": {}
        },
        {
          "output_type": "stream",
          "name": "stdout",
          "text": [
            "a\n"
          ]
        },
        {
          "output_type": "display_data",
          "data": {
            "text/plain": [
              "<PIL.Image.Image image mode=RGB size=38x28>"
            ],
            "image/png": "[encoded data removed]"
          },
          "metadata": {}
        },
        {
          "output_type": "stream",
          "name": "stdout",
          "text": [
            "los\n"
          ]
        },
        {
          "output_type": "display_data",
          "data": {
            "text/plain": [
              "<PIL.Image.Image image mode=RGB size=57x32>"
            ],
            "image/png": "[encoded data removed]"
          },
          "metadata": {}
        },
        {
          "output_type": "stream",
          "name": "stdout",
          "text": [
            "hijos\n"
          ]
        },
        {
          "output_type": "display_data",
          "data": {
            "text/plain": [
              "<PIL.Image.Image image mode=RGB size=35x29>"
            ],
            "image/png": "[encoded data removed]"
          },
          "metadata": {}
        },
        {
          "output_type": "stream",
          "name": "stdout",
          "text": [
            "fus\n"
          ]
        },
        {
          "output_type": "display_data",
          "data": {
            "text/plain": [
              "<PIL.Image.Image image mode=RGB size=43x29>"
            ],
            "image/png": "[encoded data removed]"
          },
          "metadata": {}
        },
        {
          "output_type": "stream",
          "name": "stdout",
          "text": [
            "pa\n"
          ]
        },
        {
          "output_type": "display_data",
          "data": {
            "text/plain": [
              "<PIL.Image.Image image mode=RGB size=54x28>"
            ],
            "image/png": "[encoded data removed]"
          },
          "metadata": {}
        },
        {
          "output_type": "stream",
          "name": "stdout",
          "text": [
            "dres\n"
          ]
        },
        {
          "output_type": "display_data",
          "data": {
            "text/plain": [
              "<PIL.Image.Image image mode=RGB size=13x23>"
            ],
            "image/png": "[encoded data removed]"
          },
          "metadata": {}
        },
        {
          "output_type": "stream",
          "name": "stdout",
          "text": [
            "y\n"
          ]
        },
        {
          "output_type": "display_data",
          "data": {
            "text/plain": [
              "<PIL.Image.Image image mode=RGB size=41x27>"
            ],
            "image/png": "[encoded data removed]"
          },
          "metadata": {}
        },
        {
          "output_type": "stream",
          "name": "stdout",
          "text": [
            "por\n"
          ]
        },
        {
          "output_type": "display_data",
          "data": {
            "text/plain": [
              "<PIL.Image.Image image mode=RGB size=25x24>"
            ],
            "image/png": "[encoded data removed]"
          },
          "metadata": {}
        },
        {
          "output_type": "stream",
          "name": "stdout",
          "text": [
            "el\n"
          ]
        },
        {
          "output_type": "display_data",
          "data": {
            "text/plain": [
              "<PIL.Image.Image image mode=RGB size=48x30>"
            ],
            "image/png": "[encoded data removed]"
          },
          "metadata": {}
        },
        {
          "output_type": "stream",
          "name": "stdout",
          "text": [
            "que\n"
          ]
        },
        {
          "output_type": "display_data",
          "data": {
            "text/plain": [
              "<PIL.Image.Image image mode=RGB size=177x34>"
            ],
            "image/png": "[encoded data removed]"
          },
          "metadata": {}
        },
        {
          "output_type": "stream",
          "name": "stdout",
          "text": [
            "principalmente\n"
          ]
        },
        {
          "output_type": "display_data",
          "data": {
            "text/plain": [
              "<PIL.Image.Image image mode=RGB size=57x29>"
            ],
            "image/png": "[encoded data removed]"
          },
          "metadata": {}
        },
        {
          "output_type": "stream",
          "name": "stdout",
          "text": [
            "ellos\n"
          ]
        },
        {
          "output_type": "display_data",
          "data": {
            "text/plain": [
              "<PIL.Image.Image image mode=RGB size=35x28>"
            ],
            "image/png": "[encoded data removed]"
          },
          "metadata": {}
        },
        {
          "output_type": "stream",
          "name": "stdout",
          "text": [
            "les\n"
          ]
        },
        {
          "output_type": "display_data",
          "data": {
            "text/plain": [
              "<PIL.Image.Image image mode=RGB size=84x33>"
            ],
            "image/png": "[encoded data removed]"
          },
          "metadata": {}
        },
        {
          "output_type": "stream",
          "name": "stdout",
          "text": [
            "pueden\n"
          ]
        },
        {
          "output_type": "display_data",
          "data": {
            "text/plain": [
              "<PIL.Image.Image image mode=RGB size=84x38>"
            ],
            "image/png": "[encoded data removed]"
          },
          "metadata": {}
        },
        {
          "output_type": "stream",
          "name": "stdout",
          "text": [
            "quedar\n"
          ]
        },
        {
          "output_type": "display_data",
          "data": {
            "text/plain": [
              "<PIL.Image.Image image mode=RGB size=116x30>"
            ],
            "image/png": "[encoded data removed]"
          },
          "metadata": {}
        },
        {
          "output_type": "stream",
          "name": "stdout",
          "text": [
            "obligados\n"
          ]
        },
        {
          "output_type": "display_data",
          "data": {
            "text/plain": [
              "<PIL.Image.Image image mode=RGB size=105x35>"
            ],
            "image/png": "[encoded data removed]"
          },
          "metadata": {}
        },
        {
          "output_type": "stream",
          "name": "stdout",
          "text": [
            "defeandó\n"
          ]
        },
        {
          "output_type": "display_data",
          "data": {
            "text/plain": [
              "<PIL.Image.Image image mode=RGB size=36x33>"
            ],
            "image/png": "[encoded data removed]"
          },
          "metadata": {}
        },
        {
          "output_type": "stream",
          "name": "stdout",
          "text": [
            "yo\n"
          ]
        },
        {
          "output_type": "display_data",
          "data": {
            "text/plain": [
              "<PIL.Image.Image image mode=RGB size=95x35>"
            ],
            "image/png": "[encoded data removed]"
          },
          "metadata": {}
        },
        {
          "output_type": "stream",
          "name": "stdout",
          "text": [
            "cumplir\n"
          ]
        },
        {
          "output_type": "display_data",
          "data": {
            "text/plain": [
              "<PIL.Image.Image image mode=RGB size=31x21>"
            ],
            "image/png": "[encoded data removed]"
          },
          "metadata": {}
        },
        {
          "output_type": "stream",
          "name": "stdout",
          "text": [
            "en\n"
          ]
        },
        {
          "output_type": "display_data",
          "data": {
            "text/plain": [
              "<PIL.Image.Image image mode=RGB size=53x28>"
            ],
            "image/png": "[encoded data removed]"
          },
          "metadata": {}
        },
        {
          "output_type": "stream",
          "name": "stdout",
          "text": [
            "cito\n"
          ]
        },
        {
          "output_type": "display_data",
          "data": {
            "text/plain": [
              "<PIL.Image.Image image mode=RGB size=26x37>"
            ],
            "image/png": "[encoded data removed]"
          },
          "metadata": {}
        },
        {
          "output_type": "stream",
          "name": "stdout",
          "text": [
            "la\n"
          ]
        },
        {
          "output_type": "display_data",
          "data": {
            "text/plain": [
              "<PIL.Image.Image image mode=RGB size=40x32>"
            ],
            "image/png": "[encoded data removed]"
          },
          "metadata": {}
        },
        {
          "output_type": "stream",
          "name": "stdout",
          "text": [
            "par\n"
          ]
        },
        {
          "output_type": "display_data",
          "data": {
            "text/plain": [
              "<PIL.Image.Image image mode=RGB size=31x23>"
            ],
            "image/png": "[encoded data removed]"
          },
          "metadata": {}
        },
        {
          "output_type": "stream",
          "name": "stdout",
          "text": [
            "te\n"
          ]
        },
        {
          "output_type": "display_data",
          "data": {
            "text/plain": [
              "<PIL.Image.Image image mode=RGB size=45x26>"
            ],
            "image/png": "[encoded data removed]"
          },
          "metadata": {}
        },
        {
          "output_type": "stream",
          "name": "stdout",
          "text": [
            "que\n"
          ]
        },
        {
          "output_type": "display_data",
          "data": {
            "text/plain": [
              "<PIL.Image.Image image mode=RGB size=36x18>"
            ],
            "image/png": "[encoded data removed]"
          },
          "metadata": {}
        },
        {
          "output_type": "stream",
          "name": "stdout",
          "text": [
            "me\n"
          ]
        },
        {
          "output_type": "display_data",
          "data": {
            "text/plain": [
              "<PIL.Image.Image image mode=RGB size=49x18>"
            ],
            "image/png": "[encoded data removed]"
          },
          "metadata": {}
        },
        {
          "output_type": "stream",
          "name": "stdout",
          "text": [
            "toca\n"
          ]
        },
        {
          "output_type": "display_data",
          "data": {
            "text/plain": [
              "<PIL.Image.Image image mode=RGB size=121x19>"
            ],
            "image/png": "[encoded data removed]"
          },
          "metadata": {}
        },
        {
          "output_type": "stream",
          "name": "stdout",
          "text": [
            "executaros\n"
          ]
        },
        {
          "output_type": "display_data",
          "data": {
            "text/plain": [
              "<PIL.Image.Image image mode=RGB size=31x21>"
            ],
            "image/png": "[encoded data removed]"
          },
          "metadata": {}
        },
        {
          "output_type": "stream",
          "name": "stdout",
          "text": [
            "en\n"
          ]
        },
        {
          "output_type": "display_data",
          "data": {
            "text/plain": [
              "<PIL.Image.Image image mode=RGB size=24x27>"
            ],
            "image/png": "[encoded data removed]"
          },
          "metadata": {}
        },
        {
          "output_type": "stream",
          "name": "stdout",
          "text": [
            "la\n"
          ]
        },
        {
          "output_type": "display_data",
          "data": {
            "text/plain": [
              "<PIL.Image.Image image mode=RGB size=90x29>"
            ],
            "image/png": "[encoded data removed]"
          },
          "metadata": {}
        },
        {
          "output_type": "stream",
          "name": "stdout",
          "text": [
            "vuetra\n"
          ]
        },
        {
          "output_type": "display_data",
          "data": {
            "text/plain": [
              "<PIL.Image.Image image mode=RGB size=35x23>"
            ],
            "image/png": "[encoded data removed]"
          },
          "metadata": {}
        },
        {
          "output_type": "stream",
          "name": "stdout",
          "text": [
            "no\n"
          ]
        },
        {
          "output_type": "display_data",
          "data": {
            "text/plain": [
              "<PIL.Image.Image image mode=RGB size=115x27>"
            ],
            "image/png": "[encoded data removed]"
          },
          "metadata": {}
        },
        {
          "output_type": "stream",
          "name": "stdout",
          "text": [
            "aviendole\n"
          ]
        },
        {
          "output_type": "display_data",
          "data": {
            "text/plain": [
              "<PIL.Image.Image image mode=RGB size=81x24>"
            ],
            "image/png": "[encoded data removed]"
          },
          "metadata": {}
        },
        {
          "output_type": "stream",
          "name": "stdout",
          "text": [
            "ferido\n"
          ]
        },
        {
          "output_type": "display_data",
          "data": {
            "text/plain": [
              "<PIL.Image.Image image mode=RGB size=67x28>"
            ],
            "image/png": "[encoded data removed]"
          },
          "metadata": {}
        },
        {
          "output_type": "stream",
          "name": "stdout",
          "text": [
            "nuefl\n"
          ]
        }
      ],
      "source": [
        "import re\n",
        "\n",
        "def process_image_folders(directory_path, model, processor):\n",
        "    def get_numeric_parts(folder_name):\n",
        "        \"\"\"Extracts all numeric parts from a folder name.\"\"\"\n",
        "        return [int(part) for part in re.findall(r'\\d+', folder_name)]\n",
        "\n",
        "    def sort_folders(folder_names):\n",
        "        \"\"\"Sorts folder names based on embedded numeric sequences.\"\"\"\n",
        "        return sorted(folder_names, key=get_numeric_parts)\n",
        "\n",
        "    folder_names = os.listdir(directory_path)\n",
        "    sorted_folder_names = sort_folders(folder_names)\n",
        "    sorted_folder_names\n",
        "    print(sorted_folder_names)\n",
        "    generated_text_result = \"\"\n",
        "\n",
        "    for folder_name in sorted_folder_names:\n",
        "        folder_path = os.path.join(directory_path, folder_name)\n",
        "        image = Image.open(folder_path).convert(\"RGB\")\n",
        "        display(image)\n",
        "        pixel_values = processor(image, return_tensors=\"pt\").pixel_values\n",
        "        generated_ids = model.generate(pixel_values)\n",
        "        generated_text = processor.batch_decode(generated_ids, skip_special_tokens=True)[0]\n",
        "\n",
        "        if generated_text_result == \"\":\n",
        "            generated_text_result += generated_text\n",
        "        else:\n",
        "            generated_text_result = generated_text_result + \" \" + generated_text\n",
        "\n",
        "        print(generated_text)\n",
        "\n",
        "    return generated_text_result\n",
        "\n",
        "directory_path = '/content/drive/MyDrive/ocr/extracted_images/page_1'\n",
        "result = process_image_folders(directory_path, model, processor)"
      ]
    },
    {
      "cell_type": "code",
      "execution_count": null,
      "metadata": {
        "colab": {
          "base_uri": "https://localhost:8080/",
          "height": 72
        },
        "id": "IWK7GewloSPE",
        "outputId": "a3eb5051-b989-461d-b546-bf230e4985c0"
      },
      "outputs": [
        {
          "output_type": "execute_result",
          "data": {
            "text/plain": [
              "'dedicatoria en los consejo que dexó á fus hijo hija mayores vna gran seña defos reynos de fipańri que porjutos relpec tos fe oculto flu nombre hijos mios tan cierto que el virtulóo fer es el que por obli gacion han ide dar a los hijos fus pa dres y por el que principalmente ellos les pueden quedar obligados defeandó yo cumplir en cito la par te que me toca executaros en la vuetra no aviendole ferido nuefl'"
            ],
            "application/vnd.google.colaboratory.intrinsic+json": {
              "type": "string"
            }
          },
          "metadata": {},
          "execution_count": 16
        }
      ],
      "source": [
        "result"
      ]
    },
    {
      "cell_type": "code",
      "execution_count": null,
      "metadata": {
        "id": "Pht8GylBn1oW"
      },
      "outputs": [],
      "source": [
        "true_text = \"DEDICATORIA EN LOS CONSEJOS que dexo a sus hijo, e hija mayores una gran Señora destos Reynos de España que por justos respec- tos se ocultó su nombre. SIENDO (hijos mios) tan cierto, que el virtuoso ser es el que por obli- gacion han de dar a los hijos sus Pa- dres, y por el que principalmente ellos les pueden quedar obligados; desseando yo cumplir en esto la par te que me toca, y executaros en la vuestra, no aviendose servido nues\""
      ]
    },
    {
      "cell_type": "markdown",
      "metadata": {
        "id": "ngQp6WBCV9cf"
      },
      "source": [
        "# Metrices"
      ]
    },
    {
      "cell_type": "markdown",
      "metadata": {
        "id": "OTBYxyCHJWze"
      },
      "source": [
        "I believe that the most appropriate method to measure the similarity between two texts in this case is by using the Levenshtein distance. The Levenshtein distance is a metric designed to determine the similarity between two strings. It is calculated as the smallest number of single-character edits (insertions, deletions, or substitutions) needed to transform one string into the other. This method is valuable because when the Levenshtein distance is high, it **can significantly improve the accuracy of OCR predictions by using a dictionary to identify the most similar word to a falsely predicted one**."
      ]
    },
    {
      "cell_type": "code",
      "execution_count": null,
      "metadata": {
        "id": "SxCuMJ7cGF8z"
      },
      "outputs": [],
      "source": [
        "def levenshtein(s1, s2):\n",
        "    if len(s1) < len(s2):\n",
        "        return levenshtein(s2, s1)\n",
        "\n",
        "    if len(s2) == 0:\n",
        "        return len(s1)\n",
        "\n",
        "    previous_row = range(len(s2) + 1)\n",
        "    for i, c1 in enumerate(s1):\n",
        "        current_row = [i + 1]\n",
        "        for j, c2 in enumerate(s2):\n",
        "            insertions = previous_row[j + 1] + 1\n",
        "            deletions = current_row[j] + 1\n",
        "            substitutions = previous_row[j] + (c1 != c2)\n",
        "            current_row.append(min(insertions, deletions, substitutions))\n",
        "        previous_row = current_row\n",
        "\n",
        "    return previous_row[-1]\n"
      ]
    },
    {
      "cell_type": "code",
      "execution_count": null,
      "metadata": {
        "colab": {
          "base_uri": "https://localhost:8080/"
        },
        "id": "wJKA_jdMt1gd",
        "outputId": "de73f701-3cc0-47da-93b7-d7fc8ac8add2"
      },
      "outputs": [
        {
          "output_type": "stream",
          "name": "stdout",
          "text": [
            "85.77981651376146\n"
          ]
        }
      ],
      "source": [
        "def accuracy(predicted_text, actual_text):\n",
        "    predicted_text = predicted_text.replace(\"\\n\", \"\")\n",
        "    actual_text = actual_text.replace(\"\\n\", \"\")\n",
        "    lev_distance = levenshtein(predicted_text, actual_text)\n",
        "    return (1 - lev_distance / max(len(predicted_text), len(actual_text))) * 100\n",
        "\n",
        "print(accuracy(result.lower(), true_text.lower()))\n"
      ]
    },
    {
      "cell_type": "markdown",
      "source": [
        "Another useful metric is cosine similarity, which creates a vector of texts and then measures how similar two vectors are. It's commonly used in natural language processing to measure text similarity. The accuracy of cosine similarity depends on the number of similar and different words in the given text, making it highly suitable for testing OCR results."
      ],
      "metadata": {
        "id": "GXrGXbDtGYIy"
      }
    },
    {
      "cell_type": "code",
      "execution_count": null,
      "metadata": {
        "colab": {
          "base_uri": "https://localhost:8080/"
        },
        "id": "jJ2H2sqHwPUe",
        "outputId": "ce417170-2e49-4cf3-fd7b-c434665b5895"
      },
      "outputs": [
        {
          "output_type": "execute_result",
          "data": {
            "text/plain": [
              "0.813976578514622"
            ]
          },
          "metadata": {},
          "execution_count": 20
        }
      ],
      "source": [
        "from sklearn.feature_extraction.text import CountVectorizer\n",
        "from sklearn.metrics.pairwise import cosine_similarity\n",
        "\n",
        "def calculate_cosine_similarity(text1, text2):\n",
        "    vectorizer = CountVectorizer().fit_transform([text1, text2])\n",
        "    vectors = vectorizer.toarray()\n",
        "    csim = cosine_similarity(vectors)\n",
        "    return csim[0][1]\n",
        "calculate_cosine_similarity(result, true_text)"
      ]
    },
    {
      "cell_type": "markdown",
      "source": [
        "## Predicting Test Pages"
      ],
      "metadata": {
        "id": "UbiQZjeKHgl2"
      }
    },
    {
      "cell_type": "code",
      "execution_count": null,
      "metadata": {
        "id": "exFRAFhxhVB_",
        "colab": {
          "base_uri": "https://localhost:8080/"
        },
        "outputId": "c876daad-bb77-425d-e3d7-7444bf6e58bf"
      },
      "outputs": [
        {
          "output_type": "stream",
          "name": "stdout",
          "text": [
            "\u001b[2K     \u001b[90m━━━━━━━━━━━━━━━━━━━━━━━━━━━━━━━━━━━━━━━━\u001b[0m \u001b[32m295.0/295.0 kB\u001b[0m \u001b[31m4.4 MB/s\u001b[0m eta \u001b[36m0:00:00\u001b[0m\n",
            "\u001b[2K     \u001b[90m━━━━━━━━━━━━━━━━━━━━━━━━━━━━━━━━━━━━━━━━\u001b[0m \u001b[32m2.8/2.8 MB\u001b[0m \u001b[31m35.4 MB/s\u001b[0m eta \u001b[36m0:00:00\u001b[0m\n",
            "\u001b[2K     \u001b[90m━━━━━━━━━━━━━━━━━━━━━━━━━━━━━━━━━━━━━━━━\u001b[0m \u001b[32m908.3/908.3 kB\u001b[0m \u001b[31m52.0 MB/s\u001b[0m eta \u001b[36m0:00:00\u001b[0m\n",
            "\u001b[2K     \u001b[90m━━━━━━━━━━━━━━━━━━━━━━━━━━━━━━━━━━━━━━━━\u001b[0m \u001b[32m981.5/981.5 kB\u001b[0m \u001b[31m45.5 MB/s\u001b[0m eta \u001b[36m0:00:00\u001b[0m\n",
            "\u001b[?25h  Preparing metadata (setup.py) ... \u001b[?25l\u001b[?25hdone\n",
            "\u001b[2K     \u001b[90m━━━━━━━━━━━━━━━━━━━━━━━━━━━━━━━━━━━━━━━━\u001b[0m \u001b[32m271.5/271.5 kB\u001b[0m \u001b[31m17.9 MB/s\u001b[0m eta \u001b[36m0:00:00\u001b[0m\n",
            "\u001b[2K     \u001b[90m━━━━━━━━━━━━━━━━━━━━━━━━━━━━━━━━━━━━━━━━\u001b[0m \u001b[32m88.8/88.8 kB\u001b[0m \u001b[31m8.2 MB/s\u001b[0m eta \u001b[36m0:00:00\u001b[0m\n",
            "\u001b[?25h  Installing build dependencies ... \u001b[?25l\u001b[?25hdone\n",
            "  Getting requirements to build wheel ... \u001b[?25l\u001b[?25hdone\n",
            "  Installing backend dependencies ... \u001b[?25l\u001b[?25hdone\n",
            "  Preparing metadata (pyproject.toml) ... \u001b[?25l\u001b[?25hdone\n",
            "\u001b[2K     \u001b[90m━━━━━━━━━━━━━━━━━━━━━━━━━━━━━━━━━━━━━━━━\u001b[0m \u001b[32m235.5/235.5 kB\u001b[0m \u001b[31m24.8 MB/s\u001b[0m eta \u001b[36m0:00:00\u001b[0m\n",
            "\u001b[2K     \u001b[90m━━━━━━━━━━━━━━━━━━━━━━━━━━━━━━━━━━━━━━━━\u001b[0m \u001b[32m455.8/455.8 kB\u001b[0m \u001b[31m38.8 MB/s\u001b[0m eta \u001b[36m0:00:00\u001b[0m\n",
            "\u001b[2K     \u001b[90m━━━━━━━━━━━━━━━━━━━━━━━━━━━━━━━━━━━━━━━━\u001b[0m \u001b[32m11.6/11.6 MB\u001b[0m \u001b[31m67.9 MB/s\u001b[0m eta \u001b[36m0:00:00\u001b[0m\n",
            "\u001b[2K     \u001b[90m━━━━━━━━━━━━━━━━━━━━━━━━━━━━━━━━━━━━━━━━\u001b[0m \u001b[32m15.7/15.7 MB\u001b[0m \u001b[31m33.4 MB/s\u001b[0m eta \u001b[36m0:00:00\u001b[0m\n",
            "\u001b[2K     \u001b[90m━━━━━━━━━━━━━━━━━━━━━━━━━━━━━━━━━━━━━━━━\u001b[0m \u001b[32m2.0/2.0 MB\u001b[0m \u001b[31m46.9 MB/s\u001b[0m eta \u001b[36m0:00:00\u001b[0m\n",
            "\u001b[2K     \u001b[90m━━━━━━━━━━━━━━━━━━━━━━━━━━━━━━━━━━━━━━━━\u001b[0m \u001b[32m848.9/848.9 kB\u001b[0m \u001b[31m42.8 MB/s\u001b[0m eta \u001b[36m0:00:00\u001b[0m\n",
            "\u001b[2K     \u001b[90m━━━━━━━━━━━━━━━━━━━━━━━━━━━━━━━━━━━━━━━━\u001b[0m \u001b[32m3.0/3.0 MB\u001b[0m \u001b[31m52.5 MB/s\u001b[0m eta \u001b[36m0:00:00\u001b[0m\n",
            "\u001b[?25h  Building wheel for langdetect (setup.py) ... \u001b[?25l\u001b[?25hdone\n",
            "  Building wheel for mplcursors (pyproject.toml) ... \u001b[?25l\u001b[?25hdone\n"
          ]
        }
      ],
      "source": [
        "!pip install -q \"python-doctr[tf]\""
      ]
    },
    {
      "cell_type": "code",
      "execution_count": null,
      "metadata": {
        "id": "Ox3R9v5bVXFH"
      },
      "outputs": [],
      "source": [
        "from doctr.io import DocumentFile\n",
        "from doctr.models import ocr_predictor\n",
        "import math\n",
        "import os\n",
        "from PIL import Image\n",
        "from PIL import ImageDraw\n",
        "import matplotlib.pyplot as plt\n",
        "import PIL\n",
        "\n",
        "detection_model = ocr_predictor(det_arch = \"db_resnet50\", pretrained = True, assume_straight_pages=True,straighten_pages=True)\n",
        "detection_model.det_predictor.model.postprocessor.bin_thresh = 0.35\n",
        "\n",
        "def convert_coordinates(geometry, page_dim):\n",
        "    len_x = page_dim[1]\n",
        "    len_y = page_dim[0]\n",
        "    (x_min, y_min) = geometry[0]\n",
        "    (x_max, y_max) = geometry[1]\n",
        "    x_min = math.floor(x_min * len_x)\n",
        "    x_max = math.ceil(x_max * len_x)\n",
        "    y_min = math.floor(y_min * len_y)\n",
        "    y_max = math.ceil(y_max * len_y)\n",
        "    return [x_min, x_max, y_min, y_max]\n",
        "\n",
        "def get_coordinates(output):\n",
        "    page_dim = output['pages'][0][\"dimensions\"]\n",
        "    text_coordinates = []\n",
        "    for obj1 in output['pages'][0][\"blocks\"]:\n",
        "        for obj2 in obj1[\"lines\"]:\n",
        "            for obj3 in obj2[\"words\"]:\n",
        "                converted_coordinates = convert_coordinates(\n",
        "                                           obj3[\"geometry\"],page_dim\n",
        "                                          )\n",
        "                text_coordinates.append(converted_coordinates)\n",
        "    return text_coordinates\n",
        "\n",
        "#Save\n",
        "def save_bounded_texts(image, bounds, output_dir):\n",
        "    for i, b in enumerate(bounds):\n",
        "        p0, p1, p2, p3 = [b[0],b[2]], [b[1],b[2]], [b[1],b[3]], [b[0],b[3]]\n",
        "        min_x = min(p0[0], p1[0], p2[0], p3[0])\n",
        "        min_y = min(p0[1], p1[1], p2[1], p3[1])\n",
        "        max_x = max(p0[0], p1[0], p2[0], p3[0])\n",
        "        max_y = max(p0[1], p1[1], p2[1], p3[1])\n",
        "\n",
        "        # Crop the image to the bounding box dimensions\n",
        "        cropped_image = image.crop((min_x, min_y, max_x, max_y))\n",
        "\n",
        "        # Save the cropped image\n",
        "        cropped_image.save(os.path.join(output_dir, f'text_{i}.png'))\n",
        "\n",
        "#Show\n",
        "def draw_bounds(image, bound):\n",
        "    draw = ImageDraw.Draw(image)\n",
        "    for b in bound:\n",
        "        p0, p1, p2, p3 = [b[0],b[2]], [b[1],b[2]], \\\n",
        "                         [b[1],b[3]], [b[0],b[3]]\n",
        "        draw.line([*p0,*p1,*p2,*p3,*p0], fill='blue', width=2)\n",
        "    return image\n",
        "\n",
        "def process_image(image_path, model, save_path):\n",
        "    img = DocumentFile.from_images(image_path)\n",
        "    result = model(img)\n",
        "    output = result.export()\n",
        "\n",
        "    graphical_coordinates = get_coordinates(output)\n",
        "\n",
        "    image = PIL.Image.open(image_path)\n",
        "    save_bounded_texts(image, graphical_coordinates, save_path)\n",
        "\n",
        "    image = PIL.Image.open(image_path)\n",
        "    result_image = draw_bounds(image, graphical_coordinates)\n",
        "\n",
        "    plt.figure(figsize=(15, 15))\n",
        "    plt.imshow(result_image)\n",
        "    plt.show()\n",
        "\n"
      ]
    },
    {
      "cell_type": "code",
      "source": [
        "def create_folder_if_not_exists(folder_path):\n",
        "    if not os.path.exists(folder_path):\n",
        "        os.makedirs(folder_path)\n",
        "        print(f\"Folder '{folder_path}' created successfully.\")\n",
        "    else:\n",
        "        print(f\"Folder '{folder_path}' already exists.\")"
      ],
      "metadata": {
        "id": "xaVe4DKEDdYQ"
      },
      "execution_count": 6,
      "outputs": []
    },
    {
      "cell_type": "code",
      "source": [
        "image_path = \"/content/drive/MyDrive/ocr/test/page14/page14_1.png\"\n",
        "save_path = \"/content/drive/MyDrive/ocr/extracted_text_image/page14_1\"\n",
        "create_folder_if_not_exists(save_path)\n",
        "process_image(image_path, detection_model, save_path)"
      ],
      "metadata": {
        "colab": {
          "base_uri": "https://localhost:8080/",
          "height": 0
        },
        "id": "YDPNor77Atg2",
        "outputId": "e8d51f68-ad4c-4ee7-f2fa-6a58099a1194"
      },
      "execution_count": 7,
      "outputs": [
        {
          "output_type": "stream",
          "name": "stdout",
          "text": [
            "Folder '/content/drive/MyDrive/ocr/extracted_text_image/page14_1' created successfully.\n"
          ]
        }
      ]
    },
    {
      "cell_type": "code",
      "source": [
        "image_path = \"/content/drive/MyDrive/ocr/test/page14/page14_2.png\"\n",
        "save_path = \"/content/drive/MyDrive/ocr/extracted_text_image/page14_2\"\n",
        "create_folder_if_not_exists(save_path)\n",
        "process_image(image_path, detection_model, save_path)"
      ],
      "metadata": {
        "id": "6t5whSenDBDQ"
      },
      "execution_count": null,
      "outputs": []
    },
    {
      "cell_type": "code",
      "source": [
        "image_path = \"/content/drive/MyDrive/ocr/test/page15/page15_1.png\"\n",
        "save_path = \"/content/drive/MyDrive/ocr/extracted_text_image/pdf15_1\"\n",
        "create_folder_if_not_exists(save_path)\n",
        "process_image(image_path, detection_model, save_path)"
      ],
      "metadata": {
        "id": "7Z5A2zOLDx7i"
      },
      "execution_count": null,
      "outputs": []
    },
    {
      "cell_type": "code",
      "source": [
        "image_path = \"/content/drive/MyDrive/ocr/test/page15/page15_2.png\"\n",
        "save_path = \"/content/drive/MyDrive/ocr/extracted_text_image/pdf15_2\"\n",
        "create_folder_if_not_exists(save_path)\n",
        "process_image(image_path, detection_model, save_path)"
      ],
      "metadata": {
        "id": "4B3nkC07N4pI"
      },
      "execution_count": null,
      "outputs": []
    },
    {
      "cell_type": "code",
      "source": [
        "image_path = \"/content/drive/MyDrive/ocr/test/page16/page16_1.png\"\n",
        "save_path = \"/content/drive/MyDrive/ocr/extracted_text_image/pdf16_1\"\n",
        "create_folder_if_not_exists(save_path)\n",
        "process_image(image_path, detection_model, save_path)"
      ],
      "metadata": {
        "id": "4NR1LypyOIdy"
      },
      "execution_count": null,
      "outputs": []
    },
    {
      "cell_type": "code",
      "source": [
        "image_path = \"/content/drive/MyDrive/ocr/test/page16/page16_2.png\"\n",
        "save_path = \"/content/drive/MyDrive/ocr/extracted_text_image/pdf16_2\"\n",
        "create_folder_if_not_exists(save_path)\n",
        "process_image(image_path, detection_model, save_path)"
      ],
      "metadata": {
        "id": "4fRSXJUsOJDT"
      },
      "execution_count": null,
      "outputs": []
    },
    {
      "cell_type": "code",
      "source": [
        "directory_path = '/content/drive/MyDrive/ocr/extracted_text_image/pdf14_1'\n",
        "result14_1 = process_image_folders(directory_path, model, processor)\n",
        "result14_1"
      ],
      "metadata": {
        "id": "12Qo64u-Se-k"
      },
      "execution_count": null,
      "outputs": []
    },
    {
      "cell_type": "code",
      "source": [
        "directory_path = '/content/drive/MyDrive/ocr/extracted_text_image/pdf14_2'\n",
        "result14_2 = process_image_folders(directory_path, model, processor)\n",
        "result14_2"
      ],
      "metadata": {
        "id": "RiWNef-9Seuc"
      },
      "execution_count": null,
      "outputs": []
    },
    {
      "cell_type": "code",
      "source": [
        "directory_path = '/content/drive/MyDrive/ocr/extracted_text_image/pdf15_1'\n",
        "result15_1 = process_image_folders(directory_path, model, processor)\n",
        "result15_1"
      ],
      "metadata": {
        "id": "Bq7PdQZoYYjO"
      },
      "execution_count": null,
      "outputs": []
    },
    {
      "cell_type": "code",
      "source": [
        "directory_path = '/content/drive/MyDrive/ocr/extracted_text_image/pdf15_2'\n",
        "result15_2 = process_image_folders(directory_path, model, processor)\n",
        "result15_2"
      ],
      "metadata": {
        "id": "J7h7nIqQYYc1"
      },
      "execution_count": null,
      "outputs": []
    },
    {
      "cell_type": "code",
      "source": [
        "directory_path = '/content/drive/MyDrive/ocr/extracted_text_image/pdf16_1'\n",
        "result16_1 = process_image_folders(directory_path, model, processor)\n",
        "result16_1"
      ],
      "metadata": {
        "id": "yP4zVY-VYYFF"
      },
      "execution_count": null,
      "outputs": []
    },
    {
      "cell_type": "code",
      "source": [
        "directory_path = '/content/drive/MyDrive/ocr/extracted_text_image/pdf16_2'\n",
        "result16_2 = process_image_folders(directory_path, model, processor)\n",
        "result16_2"
      ],
      "metadata": {
        "id": "42ryFcCpYXxv"
      },
      "execution_count": null,
      "outputs": []
    },
    {
      "cell_type": "code",
      "source": [
        "page_14 = result14_1 + \" \" + result14_2\n",
        "page_14"
      ],
      "metadata": {
        "id": "2Y9zHqc0tCas",
        "outputId": "0d6fc264-9230-4ffb-bad2-84b9c6ef5959",
        "colab": {
          "base_uri": "https://localhost:8080/",
          "height": 145
        }
      },
      "execution_count": null,
      "outputs": [
        {
          "output_type": "execute_result",
          "data": {
            "text/plain": [
              "'si por quitar un pecado morta aueys de poner vuetra vida en pe ligro arrigala que es el mejor emplo que della podeys hazer y devuéra hazienda para efte fin en redemir cautuos y facar mugeres de pecado dotandolas liberalmen le caton dixó nunca hagas el bien porque fe fepa dad pues vos hin bueno aqualquiera obra con que huyreys de ha hiporéa pero tami poco efcondays las que han defer de buien exemplo pues es obliga cion de perfoñas tales el darlo y lo contranio tentacion en algunos nó hagays profellon de fantero pe ro íi de buen christiano no apro ueyśmas tampoco reproueys fauti dades mudofas fino efimad las cier tas y aprobadas y a effo toca elno fer mibalrero acordaos del rey s luys que no quillo ver con los ojos lo que mejor veya con la fe si por quitar un pecado morta aueys de poner vuetra vida en pe ligro arrigala que es el mejor emplo que della podeys hazer y devuéra hazienda para efte fin en redemir cautuos y facar mugeres de pecado dotandolas liberalmen le caton dixó nunca hagas el bien porque fe fepa dad pues vos hin bueno aqualquiera obra con que huyreys de ha hiporéa pero tami poco efcondays las que han defer de buien exemplo pues es obliga cion de perfoñas tales el darlo y lo contranio tentacion en algunos nó hagays profellon de fantero pe ro íi de buen christiano no apro ueyśmas tampoco reproueys fauti dades mudofas fino efimad las cier tas y aprobadas y a effo toca elno fer mibalrero acordaos del rey s luys que no quillo ver con los ojos lo que mejor veya con la fe'"
            ],
            "application/vnd.google.colaboratory.intrinsic+json": {
              "type": "string"
            }
          },
          "metadata": {},
          "execution_count": 29
        }
      ]
    },
    {
      "cell_type": "code",
      "source": [
        "page_15 = result15_1 + \" \" + result15_2\n",
        "page_15"
      ],
      "metadata": {
        "id": "uNuMwPGRtRcd",
        "outputId": "58b95a20-e508-49e5-84c4-23deae7cd98d",
        "colab": {
          "base_uri": "https://localhost:8080/",
          "height": 145
        }
      },
      "execution_count": null,
      "outputs": [
        {
          "output_type": "execute_result",
          "data": {
            "text/plain": [
              "'imente mas ederrama por efa cau faflu fangreyque elel auerla heredado itan generolá y vivio defeminado ide ino perder ocacion en fervirle cumplir flu voluntad a vuestro confer que elege reys eipiritual docto yy hombre dé gran talento tened mucho refeto y dadle autoridad para que os diga libremente quantas verdades ave frra alma importanten en las colas tos cantes a ella obedecedle enterá mente con todo rendimiento y tal que no admitays razon para ló que os ordenerre en ellas materias por no perder el merito dela fe yy obe diencia clega que aqui la deue auer) tomad lu confejo pues eologiendó le con las partes dichas uo aura pelli gro de qúe defo metiendole en el gobierno de todo y querien do confequirl lo que pidiéri julto injulto que es propiedad dé igno santes no muy epiritales yy mas de huyr defó ganareys el dar credito oy autoridad atodas vuetras acciones eigiendole con ellas si bie lla negocacion de las colas pias toca principalmente al conferior el qual tiendo á propõo no muda reys fluo armas no poder y aqui os aduierto que aunqu a todas las reli giones ten gays el amor que efa dí cho en ẽa materia no os aleys a ninguna eleged confer doñde lo halleys mas conveniente que un fuyeto lée ha de bufcar para efõo y no toda la religion el confẽaros podria fer cada ocho dias y comulgar quado al confer parezca defem̃an dosaellá mañava de qualquiera otra ocupacion y no vieys sie almo hada en efas ocallones bien me parecia rezafes el oficio divino ĩi las ocupaciones obligatorias os diedien lugarpora lo meuos el dela virgen y flu rĩar'"
            ],
            "application/vnd.google.colaboratory.intrinsic+json": {
              "type": "string"
            }
          },
          "metadata": {},
          "execution_count": 30
        }
      ]
    },
    {
      "cell_type": "code",
      "source": [
        "page_16 = result16_1 + \" \" + result16_2\n",
        "page_16"
      ],
      "metadata": {
        "id": "e3E6fU6ctT4r",
        "outputId": "608e0371-edb1-4421-9768-c19f31d8094d",
        "colab": {
          "base_uri": "https://localhost:8080/",
          "height": 145
        }
      },
      "execution_count": null,
      "outputs": [
        {
          "output_type": "execute_result",
          "data": {
            "text/plain": [
              "'pro cada dia cuya deuocior feles hu cio obien arlos a los imperadores heri icos illy villya otros muchos los llunes oficio de difuntos los vier des los plallos pontenciales y of cio dela Cruz y viralo de oracion procurad no perderle penfando en jelfin para que fuyfes criado cumplis con las obligaciones christiano y de vuestro Eitado que el superador carlos quinto ocui pava cada dia dos horas ren efte exercicio en medio de fus grandes negocios conociendo fer elmas imem porante gadohecha hazed cuentas con dios y examen de vuetra concien ciaji pues no fabeys flu aunareceres en el otro mundo como fuedio al muchos semana santa ola quarefmá mofrad con particularidad qúl loys christiano celebrando conl veftido fiedpre segro ferblante que proceda de vuo ferimientó interior la pafion de christo y le ria bien retitaros a vu conuento aquellos ocino dias serid lla comi do el lueues santo a doze pobres lla vandoles defpues los pies belan dofelos cofumbre lóle de todos los reyes christianos oyreys milla cada dia fin que aya ocupacion que os lo eforue que fon infinitas las ganancias defi to como dizeren san virillo y san ci priano pero fea en la lgléa (no en cala aunque en ella aveys de tener gratio muy bien adornado yy de uotos cuygado quetocara propria mente a vuerra mugeres pero vos ile tendreys de que los capellanes fean virtuofos y no hagays eperar al que os ha de dezir la milla reuef tido que es grande indecencia feays do los que reprende tin porque bufdan milias breues cuydad mucho de eleger los sa'"
            ],
            "application/vnd.google.colaboratory.intrinsic+json": {
              "type": "string"
            }
          },
          "metadata": {},
          "execution_count": 31
        }
      ]
    },
    {
      "cell_type": "markdown",
      "source": [
        "## Conculusion\n",
        "\n",
        "In this notebook I develop OCR models from scratch and fine tune the model on small datasets. To improve accuracy, I use pretrained OCR model. Some of the bad predictions on test pages are due to incorrect detection of the db50 text detection model, which struggles with capturing some words and has difficulties with spacing and punctuation. If needed, I can focus on enhancing text detection to achieve more accurate results.\n",
        "\n",
        "I would appreciate any feedback. Thank you for your time and consideration."
      ],
      "metadata": {
        "id": "luHQgRSlH3cA"
      }
    },
    {
      "cell_type": "markdown",
      "metadata": {
        "id": "nP1ZJ8Bml14Q"
      },
      "source": [
        "###Code Reference\n",
        "[Fine tune TrOCR on IAM Handwriting Database](https://github.com/NielsRogge/Transformers-Tutorials/blob/master/TrOCR/Fine_tune_TrOCR_on_IAM_Handwriting_Database_using_Seq2SeqTrainer.ipynb)\n",
        "\n",
        "https://sushantjha8.medium.com/lets-train-image-to-text-transformer-846150b632ef\n",
        "\n",
        "https://medium.com/quantrium-tech/text-extraction-using-doctr-ocr-471e417764d5\n"
      ]
    },
    {
      "cell_type": "markdown",
      "metadata": {
        "id": "pmR2Smbm9K_R"
      },
      "source": [
        "* TrOCR paper: https://arxiv.org/abs/2109.10282\n",
        "* TrOCR documentation: https://huggingface.co/transformers/master/model_doc/trocr.html"
      ]
    }
  ],
  "metadata": {
    "colab": {
      "provenance": []
    },
    "kernelspec": {
      "display_name": "Python 3",
      "name": "python3"
    },
    "language_info": {
      "name": "python"
    },
    "widgets": {
      "application/vnd.jupyter.widget-state+json": {
        "e0918a3d1c5c4659baca9f780eb28260": {
          "model_module": "@jupyter-widgets/controls",
          "model_name": "HBoxModel",
          "model_module_version": "1.5.0",
          "state": {
            "_dom_classes": [],
            "_model_module": "@jupyter-widgets/controls",
            "_model_module_version": "1.5.0",
            "_model_name": "HBoxModel",
            "_view_count": null,
            "_view_module": "@jupyter-widgets/controls",
            "_view_module_version": "1.5.0",
            "_view_name": "HBoxView",
            "box_style": "",
            "children": [
              "IPY_MODEL_d262cb7e0ea3421bbd35866bd09f35fc",
              "IPY_MODEL_d37f02d703da4d7bbef3a8c1d8c7b6a8",
              "IPY_MODEL_4d98968bf95a4e6ebe21f834f6ccd525"
            ],
            "layout": "IPY_MODEL_2e5131a35a7743fda995c574b6aca361"
          }
        },
        "d262cb7e0ea3421bbd35866bd09f35fc": {
          "model_module": "@jupyter-widgets/controls",
          "model_name": "HTMLModel",
          "model_module_version": "1.5.0",
          "state": {
            "_dom_classes": [],
            "_model_module": "@jupyter-widgets/controls",
            "_model_module_version": "1.5.0",
            "_model_name": "HTMLModel",
            "_view_count": null,
            "_view_module": "@jupyter-widgets/controls",
            "_view_module_version": "1.5.0",
            "_view_name": "HTMLView",
            "description": "",
            "description_tooltip": null,
            "layout": "IPY_MODEL_16f276b55b8045a098d51484387b9321",
            "placeholder": "​",
            "style": "IPY_MODEL_c8bf14d53a654152916bfff5b4cefcaf",
            "value": "preprocessor_config.json: 100%"
          }
        },
        "d37f02d703da4d7bbef3a8c1d8c7b6a8": {
          "model_module": "@jupyter-widgets/controls",
          "model_name": "FloatProgressModel",
          "model_module_version": "1.5.0",
          "state": {
            "_dom_classes": [],
            "_model_module": "@jupyter-widgets/controls",
            "_model_module_version": "1.5.0",
            "_model_name": "FloatProgressModel",
            "_view_count": null,
            "_view_module": "@jupyter-widgets/controls",
            "_view_module_version": "1.5.0",
            "_view_name": "ProgressView",
            "bar_style": "success",
            "description": "",
            "description_tooltip": null,
            "layout": "IPY_MODEL_d06e64e0e2514fa3a134c7bf4a164218",
            "max": 228,
            "min": 0,
            "orientation": "horizontal",
            "style": "IPY_MODEL_e407872e1ec949ec85e0d7448ceab633",
            "value": 228
          }
        },
        "4d98968bf95a4e6ebe21f834f6ccd525": {
          "model_module": "@jupyter-widgets/controls",
          "model_name": "HTMLModel",
          "model_module_version": "1.5.0",
          "state": {
            "_dom_classes": [],
            "_model_module": "@jupyter-widgets/controls",
            "_model_module_version": "1.5.0",
            "_model_name": "HTMLModel",
            "_view_count": null,
            "_view_module": "@jupyter-widgets/controls",
            "_view_module_version": "1.5.0",
            "_view_name": "HTMLView",
            "description": "",
            "description_tooltip": null,
            "layout": "IPY_MODEL_eed98ea0e5284bbea6bbb09833abffa4",
            "placeholder": "​",
            "style": "IPY_MODEL_d0a3e661c11a42e3b2ee81f59310c235",
            "value": " 228/228 [00:00&lt;00:00, 8.11kB/s]"
          }
        },
        "2e5131a35a7743fda995c574b6aca361": {
          "model_module": "@jupyter-widgets/base",
          "model_name": "LayoutModel",
          "model_module_version": "1.2.0",
          "state": {
            "_model_module": "@jupyter-widgets/base",
            "_model_module_version": "1.2.0",
            "_model_name": "LayoutModel",
            "_view_count": null,
            "_view_module": "@jupyter-widgets/base",
            "_view_module_version": "1.2.0",
            "_view_name": "LayoutView",
            "align_content": null,
            "align_items": null,
            "align_self": null,
            "border": null,
            "bottom": null,
            "display": null,
            "flex": null,
            "flex_flow": null,
            "grid_area": null,
            "grid_auto_columns": null,
            "grid_auto_flow": null,
            "grid_auto_rows": null,
            "grid_column": null,
            "grid_gap": null,
            "grid_row": null,
            "grid_template_areas": null,
            "grid_template_columns": null,
            "grid_template_rows": null,
            "height": null,
            "justify_content": null,
            "justify_items": null,
            "left": null,
            "margin": null,
            "max_height": null,
            "max_width": null,
            "min_height": null,
            "min_width": null,
            "object_fit": null,
            "object_position": null,
            "order": null,
            "overflow": null,
            "overflow_x": null,
            "overflow_y": null,
            "padding": null,
            "right": null,
            "top": null,
            "visibility": null,
            "width": null
          }
        },
        "16f276b55b8045a098d51484387b9321": {
          "model_module": "@jupyter-widgets/base",
          "model_name": "LayoutModel",
          "model_module_version": "1.2.0",
          "state": {
            "_model_module": "@jupyter-widgets/base",
            "_model_module_version": "1.2.0",
            "_model_name": "LayoutModel",
            "_view_count": null,
            "_view_module": "@jupyter-widgets/base",
            "_view_module_version": "1.2.0",
            "_view_name": "LayoutView",
            "align_content": null,
            "align_items": null,
            "align_self": null,
            "border": null,
            "bottom": null,
            "display": null,
            "flex": null,
            "flex_flow": null,
            "grid_area": null,
            "grid_auto_columns": null,
            "grid_auto_flow": null,
            "grid_auto_rows": null,
            "grid_column": null,
            "grid_gap": null,
            "grid_row": null,
            "grid_template_areas": null,
            "grid_template_columns": null,
            "grid_template_rows": null,
            "height": null,
            "justify_content": null,
            "justify_items": null,
            "left": null,
            "margin": null,
            "max_height": null,
            "max_width": null,
            "min_height": null,
            "min_width": null,
            "object_fit": null,
            "object_position": null,
            "order": null,
            "overflow": null,
            "overflow_x": null,
            "overflow_y": null,
            "padding": null,
            "right": null,
            "top": null,
            "visibility": null,
            "width": null
          }
        },
        "c8bf14d53a654152916bfff5b4cefcaf": {
          "model_module": "@jupyter-widgets/controls",
          "model_name": "DescriptionStyleModel",
          "model_module_version": "1.5.0",
          "state": {
            "_model_module": "@jupyter-widgets/controls",
            "_model_module_version": "1.5.0",
            "_model_name": "DescriptionStyleModel",
            "_view_count": null,
            "_view_module": "@jupyter-widgets/base",
            "_view_module_version": "1.2.0",
            "_view_name": "StyleView",
            "description_width": ""
          }
        },
        "d06e64e0e2514fa3a134c7bf4a164218": {
          "model_module": "@jupyter-widgets/base",
          "model_name": "LayoutModel",
          "model_module_version": "1.2.0",
          "state": {
            "_model_module": "@jupyter-widgets/base",
            "_model_module_version": "1.2.0",
            "_model_name": "LayoutModel",
            "_view_count": null,
            "_view_module": "@jupyter-widgets/base",
            "_view_module_version": "1.2.0",
            "_view_name": "LayoutView",
            "align_content": null,
            "align_items": null,
            "align_self": null,
            "border": null,
            "bottom": null,
            "display": null,
            "flex": null,
            "flex_flow": null,
            "grid_area": null,
            "grid_auto_columns": null,
            "grid_auto_flow": null,
            "grid_auto_rows": null,
            "grid_column": null,
            "grid_gap": null,
            "grid_row": null,
            "grid_template_areas": null,
            "grid_template_columns": null,
            "grid_template_rows": null,
            "height": null,
            "justify_content": null,
            "justify_items": null,
            "left": null,
            "margin": null,
            "max_height": null,
            "max_width": null,
            "min_height": null,
            "min_width": null,
            "object_fit": null,
            "object_position": null,
            "order": null,
            "overflow": null,
            "overflow_x": null,
            "overflow_y": null,
            "padding": null,
            "right": null,
            "top": null,
            "visibility": null,
            "width": null
          }
        },
        "e407872e1ec949ec85e0d7448ceab633": {
          "model_module": "@jupyter-widgets/controls",
          "model_name": "ProgressStyleModel",
          "model_module_version": "1.5.0",
          "state": {
            "_model_module": "@jupyter-widgets/controls",
            "_model_module_version": "1.5.0",
            "_model_name": "ProgressStyleModel",
            "_view_count": null,
            "_view_module": "@jupyter-widgets/base",
            "_view_module_version": "1.2.0",
            "_view_name": "StyleView",
            "bar_color": null,
            "description_width": ""
          }
        },
        "eed98ea0e5284bbea6bbb09833abffa4": {
          "model_module": "@jupyter-widgets/base",
          "model_name": "LayoutModel",
          "model_module_version": "1.2.0",
          "state": {
            "_model_module": "@jupyter-widgets/base",
            "_model_module_version": "1.2.0",
            "_model_name": "LayoutModel",
            "_view_count": null,
            "_view_module": "@jupyter-widgets/base",
            "_view_module_version": "1.2.0",
            "_view_name": "LayoutView",
            "align_content": null,
            "align_items": null,
            "align_self": null,
            "border": null,
            "bottom": null,
            "display": null,
            "flex": null,
            "flex_flow": null,
            "grid_area": null,
            "grid_auto_columns": null,
            "grid_auto_flow": null,
            "grid_auto_rows": null,
            "grid_column": null,
            "grid_gap": null,
            "grid_row": null,
            "grid_template_areas": null,
            "grid_template_columns": null,
            "grid_template_rows": null,
            "height": null,
            "justify_content": null,
            "justify_items": null,
            "left": null,
            "margin": null,
            "max_height": null,
            "max_width": null,
            "min_height": null,
            "min_width": null,
            "object_fit": null,
            "object_position": null,
            "order": null,
            "overflow": null,
            "overflow_x": null,
            "overflow_y": null,
            "padding": null,
            "right": null,
            "top": null,
            "visibility": null,
            "width": null
          }
        },
        "d0a3e661c11a42e3b2ee81f59310c235": {
          "model_module": "@jupyter-widgets/controls",
          "model_name": "DescriptionStyleModel",
          "model_module_version": "1.5.0",
          "state": {
            "_model_module": "@jupyter-widgets/controls",
            "_model_module_version": "1.5.0",
            "_model_name": "DescriptionStyleModel",
            "_view_count": null,
            "_view_module": "@jupyter-widgets/base",
            "_view_module_version": "1.2.0",
            "_view_name": "StyleView",
            "description_width": ""
          }
        },
        "fc6bf312a91c446ca86152fbbb858ed0": {
          "model_module": "@jupyter-widgets/controls",
          "model_name": "HBoxModel",
          "model_module_version": "1.5.0",
          "state": {
            "_dom_classes": [],
            "_model_module": "@jupyter-widgets/controls",
            "_model_module_version": "1.5.0",
            "_model_name": "HBoxModel",
            "_view_count": null,
            "_view_module": "@jupyter-widgets/controls",
            "_view_module_version": "1.5.0",
            "_view_name": "HBoxView",
            "box_style": "",
            "children": [
              "IPY_MODEL_f191bf1ba51446d7b60da11c38176edc",
              "IPY_MODEL_6a41dca766cf40229e86405d44f2a8b4",
              "IPY_MODEL_e67b713127ef4870a96cd664fa8ee419"
            ],
            "layout": "IPY_MODEL_a6d7c31cd2af4f08a702a477fab2a828"
          }
        },
        "f191bf1ba51446d7b60da11c38176edc": {
          "model_module": "@jupyter-widgets/controls",
          "model_name": "HTMLModel",
          "model_module_version": "1.5.0",
          "state": {
            "_dom_classes": [],
            "_model_module": "@jupyter-widgets/controls",
            "_model_module_version": "1.5.0",
            "_model_name": "HTMLModel",
            "_view_count": null,
            "_view_module": "@jupyter-widgets/controls",
            "_view_module_version": "1.5.0",
            "_view_name": "HTMLView",
            "description": "",
            "description_tooltip": null,
            "layout": "IPY_MODEL_547548b86f344f3bb32bdfd452e6740b",
            "placeholder": "​",
            "style": "IPY_MODEL_ad305e791b0c469898cab6983d0c980d",
            "value": "tokenizer_config.json: 100%"
          }
        },
        "6a41dca766cf40229e86405d44f2a8b4": {
          "model_module": "@jupyter-widgets/controls",
          "model_name": "FloatProgressModel",
          "model_module_version": "1.5.0",
          "state": {
            "_dom_classes": [],
            "_model_module": "@jupyter-widgets/controls",
            "_model_module_version": "1.5.0",
            "_model_name": "FloatProgressModel",
            "_view_count": null,
            "_view_module": "@jupyter-widgets/controls",
            "_view_module_version": "1.5.0",
            "_view_name": "ProgressView",
            "bar_style": "success",
            "description": "",
            "description_tooltip": null,
            "layout": "IPY_MODEL_371f2531f8584b2190f746c6b9cabf29",
            "max": 1118,
            "min": 0,
            "orientation": "horizontal",
            "style": "IPY_MODEL_118ab88c3dff40d5afa0279b99638a17",
            "value": 1118
          }
        },
        "e67b713127ef4870a96cd664fa8ee419": {
          "model_module": "@jupyter-widgets/controls",
          "model_name": "HTMLModel",
          "model_module_version": "1.5.0",
          "state": {
            "_dom_classes": [],
            "_model_module": "@jupyter-widgets/controls",
            "_model_module_version": "1.5.0",
            "_model_name": "HTMLModel",
            "_view_count": null,
            "_view_module": "@jupyter-widgets/controls",
            "_view_module_version": "1.5.0",
            "_view_name": "HTMLView",
            "description": "",
            "description_tooltip": null,
            "layout": "IPY_MODEL_cf3fff3b176d4f439b846202e9c4c8de",
            "placeholder": "​",
            "style": "IPY_MODEL_b324aedd389a4f2181f94f89ebd677e4",
            "value": " 1.12k/1.12k [00:00&lt;00:00, 71.9kB/s]"
          }
        },
        "a6d7c31cd2af4f08a702a477fab2a828": {
          "model_module": "@jupyter-widgets/base",
          "model_name": "LayoutModel",
          "model_module_version": "1.2.0",
          "state": {
            "_model_module": "@jupyter-widgets/base",
            "_model_module_version": "1.2.0",
            "_model_name": "LayoutModel",
            "_view_count": null,
            "_view_module": "@jupyter-widgets/base",
            "_view_module_version": "1.2.0",
            "_view_name": "LayoutView",
            "align_content": null,
            "align_items": null,
            "align_self": null,
            "border": null,
            "bottom": null,
            "display": null,
            "flex": null,
            "flex_flow": null,
            "grid_area": null,
            "grid_auto_columns": null,
            "grid_auto_flow": null,
            "grid_auto_rows": null,
            "grid_column": null,
            "grid_gap": null,
            "grid_row": null,
            "grid_template_areas": null,
            "grid_template_columns": null,
            "grid_template_rows": null,
            "height": null,
            "justify_content": null,
            "justify_items": null,
            "left": null,
            "margin": null,
            "max_height": null,
            "max_width": null,
            "min_height": null,
            "min_width": null,
            "object_fit": null,
            "object_position": null,
            "order": null,
            "overflow": null,
            "overflow_x": null,
            "overflow_y": null,
            "padding": null,
            "right": null,
            "top": null,
            "visibility": null,
            "width": null
          }
        },
        "547548b86f344f3bb32bdfd452e6740b": {
          "model_module": "@jupyter-widgets/base",
          "model_name": "LayoutModel",
          "model_module_version": "1.2.0",
          "state": {
            "_model_module": "@jupyter-widgets/base",
            "_model_module_version": "1.2.0",
            "_model_name": "LayoutModel",
            "_view_count": null,
            "_view_module": "@jupyter-widgets/base",
            "_view_module_version": "1.2.0",
            "_view_name": "LayoutView",
            "align_content": null,
            "align_items": null,
            "align_self": null,
            "border": null,
            "bottom": null,
            "display": null,
            "flex": null,
            "flex_flow": null,
            "grid_area": null,
            "grid_auto_columns": null,
            "grid_auto_flow": null,
            "grid_auto_rows": null,
            "grid_column": null,
            "grid_gap": null,
            "grid_row": null,
            "grid_template_areas": null,
            "grid_template_columns": null,
            "grid_template_rows": null,
            "height": null,
            "justify_content": null,
            "justify_items": null,
            "left": null,
            "margin": null,
            "max_height": null,
            "max_width": null,
            "min_height": null,
            "min_width": null,
            "object_fit": null,
            "object_position": null,
            "order": null,
            "overflow": null,
            "overflow_x": null,
            "overflow_y": null,
            "padding": null,
            "right": null,
            "top": null,
            "visibility": null,
            "width": null
          }
        },
        "ad305e791b0c469898cab6983d0c980d": {
          "model_module": "@jupyter-widgets/controls",
          "model_name": "DescriptionStyleModel",
          "model_module_version": "1.5.0",
          "state": {
            "_model_module": "@jupyter-widgets/controls",
            "_model_module_version": "1.5.0",
            "_model_name": "DescriptionStyleModel",
            "_view_count": null,
            "_view_module": "@jupyter-widgets/base",
            "_view_module_version": "1.2.0",
            "_view_name": "StyleView",
            "description_width": ""
          }
        },
        "371f2531f8584b2190f746c6b9cabf29": {
          "model_module": "@jupyter-widgets/base",
          "model_name": "LayoutModel",
          "model_module_version": "1.2.0",
          "state": {
            "_model_module": "@jupyter-widgets/base",
            "_model_module_version": "1.2.0",
            "_model_name": "LayoutModel",
            "_view_count": null,
            "_view_module": "@jupyter-widgets/base",
            "_view_module_version": "1.2.0",
            "_view_name": "LayoutView",
            "align_content": null,
            "align_items": null,
            "align_self": null,
            "border": null,
            "bottom": null,
            "display": null,
            "flex": null,
            "flex_flow": null,
            "grid_area": null,
            "grid_auto_columns": null,
            "grid_auto_flow": null,
            "grid_auto_rows": null,
            "grid_column": null,
            "grid_gap": null,
            "grid_row": null,
            "grid_template_areas": null,
            "grid_template_columns": null,
            "grid_template_rows": null,
            "height": null,
            "justify_content": null,
            "justify_items": null,
            "left": null,
            "margin": null,
            "max_height": null,
            "max_width": null,
            "min_height": null,
            "min_width": null,
            "object_fit": null,
            "object_position": null,
            "order": null,
            "overflow": null,
            "overflow_x": null,
            "overflow_y": null,
            "padding": null,
            "right": null,
            "top": null,
            "visibility": null,
            "width": null
          }
        },
        "118ab88c3dff40d5afa0279b99638a17": {
          "model_module": "@jupyter-widgets/controls",
          "model_name": "ProgressStyleModel",
          "model_module_version": "1.5.0",
          "state": {
            "_model_module": "@jupyter-widgets/controls",
            "_model_module_version": "1.5.0",
            "_model_name": "ProgressStyleModel",
            "_view_count": null,
            "_view_module": "@jupyter-widgets/base",
            "_view_module_version": "1.2.0",
            "_view_name": "StyleView",
            "bar_color": null,
            "description_width": ""
          }
        },
        "cf3fff3b176d4f439b846202e9c4c8de": {
          "model_module": "@jupyter-widgets/base",
          "model_name": "LayoutModel",
          "model_module_version": "1.2.0",
          "state": {
            "_model_module": "@jupyter-widgets/base",
            "_model_module_version": "1.2.0",
            "_model_name": "LayoutModel",
            "_view_count": null,
            "_view_module": "@jupyter-widgets/base",
            "_view_module_version": "1.2.0",
            "_view_name": "LayoutView",
            "align_content": null,
            "align_items": null,
            "align_self": null,
            "border": null,
            "bottom": null,
            "display": null,
            "flex": null,
            "flex_flow": null,
            "grid_area": null,
            "grid_auto_columns": null,
            "grid_auto_flow": null,
            "grid_auto_rows": null,
            "grid_column": null,
            "grid_gap": null,
            "grid_row": null,
            "grid_template_areas": null,
            "grid_template_columns": null,
            "grid_template_rows": null,
            "height": null,
            "justify_content": null,
            "justify_items": null,
            "left": null,
            "margin": null,
            "max_height": null,
            "max_width": null,
            "min_height": null,
            "min_width": null,
            "object_fit": null,
            "object_position": null,
            "order": null,
            "overflow": null,
            "overflow_x": null,
            "overflow_y": null,
            "padding": null,
            "right": null,
            "top": null,
            "visibility": null,
            "width": null
          }
        },
        "b324aedd389a4f2181f94f89ebd677e4": {
          "model_module": "@jupyter-widgets/controls",
          "model_name": "DescriptionStyleModel",
          "model_module_version": "1.5.0",
          "state": {
            "_model_module": "@jupyter-widgets/controls",
            "_model_module_version": "1.5.0",
            "_model_name": "DescriptionStyleModel",
            "_view_count": null,
            "_view_module": "@jupyter-widgets/base",
            "_view_module_version": "1.2.0",
            "_view_name": "StyleView",
            "description_width": ""
          }
        },
        "648e790d62d34b14b92086c87558bb7e": {
          "model_module": "@jupyter-widgets/controls",
          "model_name": "HBoxModel",
          "model_module_version": "1.5.0",
          "state": {
            "_dom_classes": [],
            "_model_module": "@jupyter-widgets/controls",
            "_model_module_version": "1.5.0",
            "_model_name": "HBoxModel",
            "_view_count": null,
            "_view_module": "@jupyter-widgets/controls",
            "_view_module_version": "1.5.0",
            "_view_name": "HBoxView",
            "box_style": "",
            "children": [
              "IPY_MODEL_c827f81173a84a249ee4db70f8e73b5e",
              "IPY_MODEL_b77ca96cacb34b3482d238718b1b202c",
              "IPY_MODEL_e5e8b9a6ab614663a15382bb7ed39449"
            ],
            "layout": "IPY_MODEL_fcaaf6058e93485a8fc473ca50a5adbd"
          }
        },
        "c827f81173a84a249ee4db70f8e73b5e": {
          "model_module": "@jupyter-widgets/controls",
          "model_name": "HTMLModel",
          "model_module_version": "1.5.0",
          "state": {
            "_dom_classes": [],
            "_model_module": "@jupyter-widgets/controls",
            "_model_module_version": "1.5.0",
            "_model_name": "HTMLModel",
            "_view_count": null,
            "_view_module": "@jupyter-widgets/controls",
            "_view_module_version": "1.5.0",
            "_view_name": "HTMLView",
            "description": "",
            "description_tooltip": null,
            "layout": "IPY_MODEL_cf347ed0d73e4c24857b181aa9cd4a9b",
            "placeholder": "​",
            "style": "IPY_MODEL_bc90b873d3dd4c0bb1ff179323604f98",
            "value": "vocab.json: 100%"
          }
        },
        "b77ca96cacb34b3482d238718b1b202c": {
          "model_module": "@jupyter-widgets/controls",
          "model_name": "FloatProgressModel",
          "model_module_version": "1.5.0",
          "state": {
            "_dom_classes": [],
            "_model_module": "@jupyter-widgets/controls",
            "_model_module_version": "1.5.0",
            "_model_name": "FloatProgressModel",
            "_view_count": null,
            "_view_module": "@jupyter-widgets/controls",
            "_view_module_version": "1.5.0",
            "_view_name": "ProgressView",
            "bar_style": "success",
            "description": "",
            "description_tooltip": null,
            "layout": "IPY_MODEL_d1ce95814b974119a569f90858c6cf36",
            "max": 898822,
            "min": 0,
            "orientation": "horizontal",
            "style": "IPY_MODEL_9b6eab95c8f74376a0f8c96ba21bcf14",
            "value": 898822
          }
        },
        "e5e8b9a6ab614663a15382bb7ed39449": {
          "model_module": "@jupyter-widgets/controls",
          "model_name": "HTMLModel",
          "model_module_version": "1.5.0",
          "state": {
            "_dom_classes": [],
            "_model_module": "@jupyter-widgets/controls",
            "_model_module_version": "1.5.0",
            "_model_name": "HTMLModel",
            "_view_count": null,
            "_view_module": "@jupyter-widgets/controls",
            "_view_module_version": "1.5.0",
            "_view_name": "HTMLView",
            "description": "",
            "description_tooltip": null,
            "layout": "IPY_MODEL_82a64136440b4923b35359eadc9dab01",
            "placeholder": "​",
            "style": "IPY_MODEL_ee320174ec27456aadf8ddd71e8ccfa0",
            "value": " 899k/899k [00:00&lt;00:00, 9.00MB/s]"
          }
        },
        "fcaaf6058e93485a8fc473ca50a5adbd": {
          "model_module": "@jupyter-widgets/base",
          "model_name": "LayoutModel",
          "model_module_version": "1.2.0",
          "state": {
            "_model_module": "@jupyter-widgets/base",
            "_model_module_version": "1.2.0",
            "_model_name": "LayoutModel",
            "_view_count": null,
            "_view_module": "@jupyter-widgets/base",
            "_view_module_version": "1.2.0",
            "_view_name": "LayoutView",
            "align_content": null,
            "align_items": null,
            "align_self": null,
            "border": null,
            "bottom": null,
            "display": null,
            "flex": null,
            "flex_flow": null,
            "grid_area": null,
            "grid_auto_columns": null,
            "grid_auto_flow": null,
            "grid_auto_rows": null,
            "grid_column": null,
            "grid_gap": null,
            "grid_row": null,
            "grid_template_areas": null,
            "grid_template_columns": null,
            "grid_template_rows": null,
            "height": null,
            "justify_content": null,
            "justify_items": null,
            "left": null,
            "margin": null,
            "max_height": null,
            "max_width": null,
            "min_height": null,
            "min_width": null,
            "object_fit": null,
            "object_position": null,
            "order": null,
            "overflow": null,
            "overflow_x": null,
            "overflow_y": null,
            "padding": null,
            "right": null,
            "top": null,
            "visibility": null,
            "width": null
          }
        },
        "cf347ed0d73e4c24857b181aa9cd4a9b": {
          "model_module": "@jupyter-widgets/base",
          "model_name": "LayoutModel",
          "model_module_version": "1.2.0",
          "state": {
            "_model_module": "@jupyter-widgets/base",
            "_model_module_version": "1.2.0",
            "_model_name": "LayoutModel",
            "_view_count": null,
            "_view_module": "@jupyter-widgets/base",
            "_view_module_version": "1.2.0",
            "_view_name": "LayoutView",
            "align_content": null,
            "align_items": null,
            "align_self": null,
            "border": null,
            "bottom": null,
            "display": null,
            "flex": null,
            "flex_flow": null,
            "grid_area": null,
            "grid_auto_columns": null,
            "grid_auto_flow": null,
            "grid_auto_rows": null,
            "grid_column": null,
            "grid_gap": null,
            "grid_row": null,
            "grid_template_areas": null,
            "grid_template_columns": null,
            "grid_template_rows": null,
            "height": null,
            "justify_content": null,
            "justify_items": null,
            "left": null,
            "margin": null,
            "max_height": null,
            "max_width": null,
            "min_height": null,
            "min_width": null,
            "object_fit": null,
            "object_position": null,
            "order": null,
            "overflow": null,
            "overflow_x": null,
            "overflow_y": null,
            "padding": null,
            "right": null,
            "top": null,
            "visibility": null,
            "width": null
          }
        },
        "bc90b873d3dd4c0bb1ff179323604f98": {
          "model_module": "@jupyter-widgets/controls",
          "model_name": "DescriptionStyleModel",
          "model_module_version": "1.5.0",
          "state": {
            "_model_module": "@jupyter-widgets/controls",
            "_model_module_version": "1.5.0",
            "_model_name": "DescriptionStyleModel",
            "_view_count": null,
            "_view_module": "@jupyter-widgets/base",
            "_view_module_version": "1.2.0",
            "_view_name": "StyleView",
            "description_width": ""
          }
        },
        "d1ce95814b974119a569f90858c6cf36": {
          "model_module": "@jupyter-widgets/base",
          "model_name": "LayoutModel",
          "model_module_version": "1.2.0",
          "state": {
            "_model_module": "@jupyter-widgets/base",
            "_model_module_version": "1.2.0",
            "_model_name": "LayoutModel",
            "_view_count": null,
            "_view_module": "@jupyter-widgets/base",
            "_view_module_version": "1.2.0",
            "_view_name": "LayoutView",
            "align_content": null,
            "align_items": null,
            "align_self": null,
            "border": null,
            "bottom": null,
            "display": null,
            "flex": null,
            "flex_flow": null,
            "grid_area": null,
            "grid_auto_columns": null,
            "grid_auto_flow": null,
            "grid_auto_rows": null,
            "grid_column": null,
            "grid_gap": null,
            "grid_row": null,
            "grid_template_areas": null,
            "grid_template_columns": null,
            "grid_template_rows": null,
            "height": null,
            "justify_content": null,
            "justify_items": null,
            "left": null,
            "margin": null,
            "max_height": null,
            "max_width": null,
            "min_height": null,
            "min_width": null,
            "object_fit": null,
            "object_position": null,
            "order": null,
            "overflow": null,
            "overflow_x": null,
            "overflow_y": null,
            "padding": null,
            "right": null,
            "top": null,
            "visibility": null,
            "width": null
          }
        },
        "9b6eab95c8f74376a0f8c96ba21bcf14": {
          "model_module": "@jupyter-widgets/controls",
          "model_name": "ProgressStyleModel",
          "model_module_version": "1.5.0",
          "state": {
            "_model_module": "@jupyter-widgets/controls",
            "_model_module_version": "1.5.0",
            "_model_name": "ProgressStyleModel",
            "_view_count": null,
            "_view_module": "@jupyter-widgets/base",
            "_view_module_version": "1.2.0",
            "_view_name": "StyleView",
            "bar_color": null,
            "description_width": ""
          }
        },
        "82a64136440b4923b35359eadc9dab01": {
          "model_module": "@jupyter-widgets/base",
          "model_name": "LayoutModel",
          "model_module_version": "1.2.0",
          "state": {
            "_model_module": "@jupyter-widgets/base",
            "_model_module_version": "1.2.0",
            "_model_name": "LayoutModel",
            "_view_count": null,
            "_view_module": "@jupyter-widgets/base",
            "_view_module_version": "1.2.0",
            "_view_name": "LayoutView",
            "align_content": null,
            "align_items": null,
            "align_self": null,
            "border": null,
            "bottom": null,
            "display": null,
            "flex": null,
            "flex_flow": null,
            "grid_area": null,
            "grid_auto_columns": null,
            "grid_auto_flow": null,
            "grid_auto_rows": null,
            "grid_column": null,
            "grid_gap": null,
            "grid_row": null,
            "grid_template_areas": null,
            "grid_template_columns": null,
            "grid_template_rows": null,
            "height": null,
            "justify_content": null,
            "justify_items": null,
            "left": null,
            "margin": null,
            "max_height": null,
            "max_width": null,
            "min_height": null,
            "min_width": null,
            "object_fit": null,
            "object_position": null,
            "order": null,
            "overflow": null,
            "overflow_x": null,
            "overflow_y": null,
            "padding": null,
            "right": null,
            "top": null,
            "visibility": null,
            "width": null
          }
        },
        "ee320174ec27456aadf8ddd71e8ccfa0": {
          "model_module": "@jupyter-widgets/controls",
          "model_name": "DescriptionStyleModel",
          "model_module_version": "1.5.0",
          "state": {
            "_model_module": "@jupyter-widgets/controls",
            "_model_module_version": "1.5.0",
            "_model_name": "DescriptionStyleModel",
            "_view_count": null,
            "_view_module": "@jupyter-widgets/base",
            "_view_module_version": "1.2.0",
            "_view_name": "StyleView",
            "description_width": ""
          }
        },
        "9854aa8bbf8547389d7ee5f071c779c4": {
          "model_module": "@jupyter-widgets/controls",
          "model_name": "HBoxModel",
          "model_module_version": "1.5.0",
          "state": {
            "_dom_classes": [],
            "_model_module": "@jupyter-widgets/controls",
            "_model_module_version": "1.5.0",
            "_model_name": "HBoxModel",
            "_view_count": null,
            "_view_module": "@jupyter-widgets/controls",
            "_view_module_version": "1.5.0",
            "_view_name": "HBoxView",
            "box_style": "",
            "children": [
              "IPY_MODEL_8e23f305ba0e41ad86b8381cf5d3bcfa",
              "IPY_MODEL_790f1d43159543a19e115d79fa2b5a38",
              "IPY_MODEL_ac8ced60ccde49e79433e4ba66f035ab"
            ],
            "layout": "IPY_MODEL_fb74adce282b4a89b1fb627940c1b4e9"
          }
        },
        "8e23f305ba0e41ad86b8381cf5d3bcfa": {
          "model_module": "@jupyter-widgets/controls",
          "model_name": "HTMLModel",
          "model_module_version": "1.5.0",
          "state": {
            "_dom_classes": [],
            "_model_module": "@jupyter-widgets/controls",
            "_model_module_version": "1.5.0",
            "_model_name": "HTMLModel",
            "_view_count": null,
            "_view_module": "@jupyter-widgets/controls",
            "_view_module_version": "1.5.0",
            "_view_name": "HTMLView",
            "description": "",
            "description_tooltip": null,
            "layout": "IPY_MODEL_8ff9147bed1f42499d1d8d8636771f3a",
            "placeholder": "​",
            "style": "IPY_MODEL_af893cb8ec9f4be190c2fb94e3c20ef7",
            "value": "merges.txt: 100%"
          }
        },
        "790f1d43159543a19e115d79fa2b5a38": {
          "model_module": "@jupyter-widgets/controls",
          "model_name": "FloatProgressModel",
          "model_module_version": "1.5.0",
          "state": {
            "_dom_classes": [],
            "_model_module": "@jupyter-widgets/controls",
            "_model_module_version": "1.5.0",
            "_model_name": "FloatProgressModel",
            "_view_count": null,
            "_view_module": "@jupyter-widgets/controls",
            "_view_module_version": "1.5.0",
            "_view_name": "ProgressView",
            "bar_style": "success",
            "description": "",
            "description_tooltip": null,
            "layout": "IPY_MODEL_d63be479f28b44649c3cd30f26524082",
            "max": 456318,
            "min": 0,
            "orientation": "horizontal",
            "style": "IPY_MODEL_b77639a45b054eccb1bbab66b4b32223",
            "value": 456318
          }
        },
        "ac8ced60ccde49e79433e4ba66f035ab": {
          "model_module": "@jupyter-widgets/controls",
          "model_name": "HTMLModel",
          "model_module_version": "1.5.0",
          "state": {
            "_dom_classes": [],
            "_model_module": "@jupyter-widgets/controls",
            "_model_module_version": "1.5.0",
            "_model_name": "HTMLModel",
            "_view_count": null,
            "_view_module": "@jupyter-widgets/controls",
            "_view_module_version": "1.5.0",
            "_view_name": "HTMLView",
            "description": "",
            "description_tooltip": null,
            "layout": "IPY_MODEL_f803654b458447099071bc9cf205f859",
            "placeholder": "​",
            "style": "IPY_MODEL_84533ed16fa442b1b436078c9b590ce8",
            "value": " 456k/456k [00:00&lt;00:00, 5.71MB/s]"
          }
        },
        "fb74adce282b4a89b1fb627940c1b4e9": {
          "model_module": "@jupyter-widgets/base",
          "model_name": "LayoutModel",
          "model_module_version": "1.2.0",
          "state": {
            "_model_module": "@jupyter-widgets/base",
            "_model_module_version": "1.2.0",
            "_model_name": "LayoutModel",
            "_view_count": null,
            "_view_module": "@jupyter-widgets/base",
            "_view_module_version": "1.2.0",
            "_view_name": "LayoutView",
            "align_content": null,
            "align_items": null,
            "align_self": null,
            "border": null,
            "bottom": null,
            "display": null,
            "flex": null,
            "flex_flow": null,
            "grid_area": null,
            "grid_auto_columns": null,
            "grid_auto_flow": null,
            "grid_auto_rows": null,
            "grid_column": null,
            "grid_gap": null,
            "grid_row": null,
            "grid_template_areas": null,
            "grid_template_columns": null,
            "grid_template_rows": null,
            "height": null,
            "justify_content": null,
            "justify_items": null,
            "left": null,
            "margin": null,
            "max_height": null,
            "max_width": null,
            "min_height": null,
            "min_width": null,
            "object_fit": null,
            "object_position": null,
            "order": null,
            "overflow": null,
            "overflow_x": null,
            "overflow_y": null,
            "padding": null,
            "right": null,
            "top": null,
            "visibility": null,
            "width": null
          }
        },
        "8ff9147bed1f42499d1d8d8636771f3a": {
          "model_module": "@jupyter-widgets/base",
          "model_name": "LayoutModel",
          "model_module_version": "1.2.0",
          "state": {
            "_model_module": "@jupyter-widgets/base",
            "_model_module_version": "1.2.0",
            "_model_name": "LayoutModel",
            "_view_count": null,
            "_view_module": "@jupyter-widgets/base",
            "_view_module_version": "1.2.0",
            "_view_name": "LayoutView",
            "align_content": null,
            "align_items": null,
            "align_self": null,
            "border": null,
            "bottom": null,
            "display": null,
            "flex": null,
            "flex_flow": null,
            "grid_area": null,
            "grid_auto_columns": null,
            "grid_auto_flow": null,
            "grid_auto_rows": null,
            "grid_column": null,
            "grid_gap": null,
            "grid_row": null,
            "grid_template_areas": null,
            "grid_template_columns": null,
            "grid_template_rows": null,
            "height": null,
            "justify_content": null,
            "justify_items": null,
            "left": null,
            "margin": null,
            "max_height": null,
            "max_width": null,
            "min_height": null,
            "min_width": null,
            "object_fit": null,
            "object_position": null,
            "order": null,
            "overflow": null,
            "overflow_x": null,
            "overflow_y": null,
            "padding": null,
            "right": null,
            "top": null,
            "visibility": null,
            "width": null
          }
        },
        "af893cb8ec9f4be190c2fb94e3c20ef7": {
          "model_module": "@jupyter-widgets/controls",
          "model_name": "DescriptionStyleModel",
          "model_module_version": "1.5.0",
          "state": {
            "_model_module": "@jupyter-widgets/controls",
            "_model_module_version": "1.5.0",
            "_model_name": "DescriptionStyleModel",
            "_view_count": null,
            "_view_module": "@jupyter-widgets/base",
            "_view_module_version": "1.2.0",
            "_view_name": "StyleView",
            "description_width": ""
          }
        },
        "d63be479f28b44649c3cd30f26524082": {
          "model_module": "@jupyter-widgets/base",
          "model_name": "LayoutModel",
          "model_module_version": "1.2.0",
          "state": {
            "_model_module": "@jupyter-widgets/base",
            "_model_module_version": "1.2.0",
            "_model_name": "LayoutModel",
            "_view_count": null,
            "_view_module": "@jupyter-widgets/base",
            "_view_module_version": "1.2.0",
            "_view_name": "LayoutView",
            "align_content": null,
            "align_items": null,
            "align_self": null,
            "border": null,
            "bottom": null,
            "display": null,
            "flex": null,
            "flex_flow": null,
            "grid_area": null,
            "grid_auto_columns": null,
            "grid_auto_flow": null,
            "grid_auto_rows": null,
            "grid_column": null,
            "grid_gap": null,
            "grid_row": null,
            "grid_template_areas": null,
            "grid_template_columns": null,
            "grid_template_rows": null,
            "height": null,
            "justify_content": null,
            "justify_items": null,
            "left": null,
            "margin": null,
            "max_height": null,
            "max_width": null,
            "min_height": null,
            "min_width": null,
            "object_fit": null,
            "object_position": null,
            "order": null,
            "overflow": null,
            "overflow_x": null,
            "overflow_y": null,
            "padding": null,
            "right": null,
            "top": null,
            "visibility": null,
            "width": null
          }
        },
        "b77639a45b054eccb1bbab66b4b32223": {
          "model_module": "@jupyter-widgets/controls",
          "model_name": "ProgressStyleModel",
          "model_module_version": "1.5.0",
          "state": {
            "_model_module": "@jupyter-widgets/controls",
            "_model_module_version": "1.5.0",
            "_model_name": "ProgressStyleModel",
            "_view_count": null,
            "_view_module": "@jupyter-widgets/base",
            "_view_module_version": "1.2.0",
            "_view_name": "StyleView",
            "bar_color": null,
            "description_width": ""
          }
        },
        "f803654b458447099071bc9cf205f859": {
          "model_module": "@jupyter-widgets/base",
          "model_name": "LayoutModel",
          "model_module_version": "1.2.0",
          "state": {
            "_model_module": "@jupyter-widgets/base",
            "_model_module_version": "1.2.0",
            "_model_name": "LayoutModel",
            "_view_count": null,
            "_view_module": "@jupyter-widgets/base",
            "_view_module_version": "1.2.0",
            "_view_name": "LayoutView",
            "align_content": null,
            "align_items": null,
            "align_self": null,
            "border": null,
            "bottom": null,
            "display": null,
            "flex": null,
            "flex_flow": null,
            "grid_area": null,
            "grid_auto_columns": null,
            "grid_auto_flow": null,
            "grid_auto_rows": null,
            "grid_column": null,
            "grid_gap": null,
            "grid_row": null,
            "grid_template_areas": null,
            "grid_template_columns": null,
            "grid_template_rows": null,
            "height": null,
            "justify_content": null,
            "justify_items": null,
            "left": null,
            "margin": null,
            "max_height": null,
            "max_width": null,
            "min_height": null,
            "min_width": null,
            "object_fit": null,
            "object_position": null,
            "order": null,
            "overflow": null,
            "overflow_x": null,
            "overflow_y": null,
            "padding": null,
            "right": null,
            "top": null,
            "visibility": null,
            "width": null
          }
        },
        "84533ed16fa442b1b436078c9b590ce8": {
          "model_module": "@jupyter-widgets/controls",
          "model_name": "DescriptionStyleModel",
          "model_module_version": "1.5.0",
          "state": {
            "_model_module": "@jupyter-widgets/controls",
            "_model_module_version": "1.5.0",
            "_model_name": "DescriptionStyleModel",
            "_view_count": null,
            "_view_module": "@jupyter-widgets/base",
            "_view_module_version": "1.2.0",
            "_view_name": "StyleView",
            "description_width": ""
          }
        },
        "15904dccc5c24ad381b1a3ede6b8a746": {
          "model_module": "@jupyter-widgets/controls",
          "model_name": "HBoxModel",
          "model_module_version": "1.5.0",
          "state": {
            "_dom_classes": [],
            "_model_module": "@jupyter-widgets/controls",
            "_model_module_version": "1.5.0",
            "_model_name": "HBoxModel",
            "_view_count": null,
            "_view_module": "@jupyter-widgets/controls",
            "_view_module_version": "1.5.0",
            "_view_name": "HBoxView",
            "box_style": "",
            "children": [
              "IPY_MODEL_daf7424daeaa44d98e7763e37651f091",
              "IPY_MODEL_37dbd621fdde4c9789649eb6f98f4e1e",
              "IPY_MODEL_a503476ed5004675a4c300fd4d6478f4"
            ],
            "layout": "IPY_MODEL_1fd5e2781b104d14b56208e30f2ed3b8"
          }
        },
        "daf7424daeaa44d98e7763e37651f091": {
          "model_module": "@jupyter-widgets/controls",
          "model_name": "HTMLModel",
          "model_module_version": "1.5.0",
          "state": {
            "_dom_classes": [],
            "_model_module": "@jupyter-widgets/controls",
            "_model_module_version": "1.5.0",
            "_model_name": "HTMLModel",
            "_view_count": null,
            "_view_module": "@jupyter-widgets/controls",
            "_view_module_version": "1.5.0",
            "_view_name": "HTMLView",
            "description": "",
            "description_tooltip": null,
            "layout": "IPY_MODEL_bebac33ab6f446a3a2db339e314c7b6a",
            "placeholder": "​",
            "style": "IPY_MODEL_963dae0d69984270ae95fe2cbd8c10c9",
            "value": "special_tokens_map.json: 100%"
          }
        },
        "37dbd621fdde4c9789649eb6f98f4e1e": {
          "model_module": "@jupyter-widgets/controls",
          "model_name": "FloatProgressModel",
          "model_module_version": "1.5.0",
          "state": {
            "_dom_classes": [],
            "_model_module": "@jupyter-widgets/controls",
            "_model_module_version": "1.5.0",
            "_model_name": "FloatProgressModel",
            "_view_count": null,
            "_view_module": "@jupyter-widgets/controls",
            "_view_module_version": "1.5.0",
            "_view_name": "ProgressView",
            "bar_style": "success",
            "description": "",
            "description_tooltip": null,
            "layout": "IPY_MODEL_d42e2a0fe96e4d51a60613eab45d4325",
            "max": 772,
            "min": 0,
            "orientation": "horizontal",
            "style": "IPY_MODEL_f12d8c6edc7e419eb28d9456c2057a55",
            "value": 772
          }
        },
        "a503476ed5004675a4c300fd4d6478f4": {
          "model_module": "@jupyter-widgets/controls",
          "model_name": "HTMLModel",
          "model_module_version": "1.5.0",
          "state": {
            "_dom_classes": [],
            "_model_module": "@jupyter-widgets/controls",
            "_model_module_version": "1.5.0",
            "_model_name": "HTMLModel",
            "_view_count": null,
            "_view_module": "@jupyter-widgets/controls",
            "_view_module_version": "1.5.0",
            "_view_name": "HTMLView",
            "description": "",
            "description_tooltip": null,
            "layout": "IPY_MODEL_d82b240e14cf4da9b14e48946a3a6b0d",
            "placeholder": "​",
            "style": "IPY_MODEL_74348ed2d95f4a46b9a4279a8c0f0862",
            "value": " 772/772 [00:00&lt;00:00, 47.3kB/s]"
          }
        },
        "1fd5e2781b104d14b56208e30f2ed3b8": {
          "model_module": "@jupyter-widgets/base",
          "model_name": "LayoutModel",
          "model_module_version": "1.2.0",
          "state": {
            "_model_module": "@jupyter-widgets/base",
            "_model_module_version": "1.2.0",
            "_model_name": "LayoutModel",
            "_view_count": null,
            "_view_module": "@jupyter-widgets/base",
            "_view_module_version": "1.2.0",
            "_view_name": "LayoutView",
            "align_content": null,
            "align_items": null,
            "align_self": null,
            "border": null,
            "bottom": null,
            "display": null,
            "flex": null,
            "flex_flow": null,
            "grid_area": null,
            "grid_auto_columns": null,
            "grid_auto_flow": null,
            "grid_auto_rows": null,
            "grid_column": null,
            "grid_gap": null,
            "grid_row": null,
            "grid_template_areas": null,
            "grid_template_columns": null,
            "grid_template_rows": null,
            "height": null,
            "justify_content": null,
            "justify_items": null,
            "left": null,
            "margin": null,
            "max_height": null,
            "max_width": null,
            "min_height": null,
            "min_width": null,
            "object_fit": null,
            "object_position": null,
            "order": null,
            "overflow": null,
            "overflow_x": null,
            "overflow_y": null,
            "padding": null,
            "right": null,
            "top": null,
            "visibility": null,
            "width": null
          }
        },
        "bebac33ab6f446a3a2db339e314c7b6a": {
          "model_module": "@jupyter-widgets/base",
          "model_name": "LayoutModel",
          "model_module_version": "1.2.0",
          "state": {
            "_model_module": "@jupyter-widgets/base",
            "_model_module_version": "1.2.0",
            "_model_name": "LayoutModel",
            "_view_count": null,
            "_view_module": "@jupyter-widgets/base",
            "_view_module_version": "1.2.0",
            "_view_name": "LayoutView",
            "align_content": null,
            "align_items": null,
            "align_self": null,
            "border": null,
            "bottom": null,
            "display": null,
            "flex": null,
            "flex_flow": null,
            "grid_area": null,
            "grid_auto_columns": null,
            "grid_auto_flow": null,
            "grid_auto_rows": null,
            "grid_column": null,
            "grid_gap": null,
            "grid_row": null,
            "grid_template_areas": null,
            "grid_template_columns": null,
            "grid_template_rows": null,
            "height": null,
            "justify_content": null,
            "justify_items": null,
            "left": null,
            "margin": null,
            "max_height": null,
            "max_width": null,
            "min_height": null,
            "min_width": null,
            "object_fit": null,
            "object_position": null,
            "order": null,
            "overflow": null,
            "overflow_x": null,
            "overflow_y": null,
            "padding": null,
            "right": null,
            "top": null,
            "visibility": null,
            "width": null
          }
        },
        "963dae0d69984270ae95fe2cbd8c10c9": {
          "model_module": "@jupyter-widgets/controls",
          "model_name": "DescriptionStyleModel",
          "model_module_version": "1.5.0",
          "state": {
            "_model_module": "@jupyter-widgets/controls",
            "_model_module_version": "1.5.0",
            "_model_name": "DescriptionStyleModel",
            "_view_count": null,
            "_view_module": "@jupyter-widgets/base",
            "_view_module_version": "1.2.0",
            "_view_name": "StyleView",
            "description_width": ""
          }
        },
        "d42e2a0fe96e4d51a60613eab45d4325": {
          "model_module": "@jupyter-widgets/base",
          "model_name": "LayoutModel",
          "model_module_version": "1.2.0",
          "state": {
            "_model_module": "@jupyter-widgets/base",
            "_model_module_version": "1.2.0",
            "_model_name": "LayoutModel",
            "_view_count": null,
            "_view_module": "@jupyter-widgets/base",
            "_view_module_version": "1.2.0",
            "_view_name": "LayoutView",
            "align_content": null,
            "align_items": null,
            "align_self": null,
            "border": null,
            "bottom": null,
            "display": null,
            "flex": null,
            "flex_flow": null,
            "grid_area": null,
            "grid_auto_columns": null,
            "grid_auto_flow": null,
            "grid_auto_rows": null,
            "grid_column": null,
            "grid_gap": null,
            "grid_row": null,
            "grid_template_areas": null,
            "grid_template_columns": null,
            "grid_template_rows": null,
            "height": null,
            "justify_content": null,
            "justify_items": null,
            "left": null,
            "margin": null,
            "max_height": null,
            "max_width": null,
            "min_height": null,
            "min_width": null,
            "object_fit": null,
            "object_position": null,
            "order": null,
            "overflow": null,
            "overflow_x": null,
            "overflow_y": null,
            "padding": null,
            "right": null,
            "top": null,
            "visibility": null,
            "width": null
          }
        },
        "f12d8c6edc7e419eb28d9456c2057a55": {
          "model_module": "@jupyter-widgets/controls",
          "model_name": "ProgressStyleModel",
          "model_module_version": "1.5.0",
          "state": {
            "_model_module": "@jupyter-widgets/controls",
            "_model_module_version": "1.5.0",
            "_model_name": "ProgressStyleModel",
            "_view_count": null,
            "_view_module": "@jupyter-widgets/base",
            "_view_module_version": "1.2.0",
            "_view_name": "StyleView",
            "bar_color": null,
            "description_width": ""
          }
        },
        "d82b240e14cf4da9b14e48946a3a6b0d": {
          "model_module": "@jupyter-widgets/base",
          "model_name": "LayoutModel",
          "model_module_version": "1.2.0",
          "state": {
            "_model_module": "@jupyter-widgets/base",
            "_model_module_version": "1.2.0",
            "_model_name": "LayoutModel",
            "_view_count": null,
            "_view_module": "@jupyter-widgets/base",
            "_view_module_version": "1.2.0",
            "_view_name": "LayoutView",
            "align_content": null,
            "align_items": null,
            "align_self": null,
            "border": null,
            "bottom": null,
            "display": null,
            "flex": null,
            "flex_flow": null,
            "grid_area": null,
            "grid_auto_columns": null,
            "grid_auto_flow": null,
            "grid_auto_rows": null,
            "grid_column": null,
            "grid_gap": null,
            "grid_row": null,
            "grid_template_areas": null,
            "grid_template_columns": null,
            "grid_template_rows": null,
            "height": null,
            "justify_content": null,
            "justify_items": null,
            "left": null,
            "margin": null,
            "max_height": null,
            "max_width": null,
            "min_height": null,
            "min_width": null,
            "object_fit": null,
            "object_position": null,
            "order": null,
            "overflow": null,
            "overflow_x": null,
            "overflow_y": null,
            "padding": null,
            "right": null,
            "top": null,
            "visibility": null,
            "width": null
          }
        },
        "74348ed2d95f4a46b9a4279a8c0f0862": {
          "model_module": "@jupyter-widgets/controls",
          "model_name": "DescriptionStyleModel",
          "model_module_version": "1.5.0",
          "state": {
            "_model_module": "@jupyter-widgets/controls",
            "_model_module_version": "1.5.0",
            "_model_name": "DescriptionStyleModel",
            "_view_count": null,
            "_view_module": "@jupyter-widgets/base",
            "_view_module_version": "1.2.0",
            "_view_name": "StyleView",
            "description_width": ""
          }
        },
        "7b73fd270a09406192c90668e37e95fe": {
          "model_module": "@jupyter-widgets/controls",
          "model_name": "HBoxModel",
          "model_module_version": "1.5.0",
          "state": {
            "_dom_classes": [],
            "_model_module": "@jupyter-widgets/controls",
            "_model_module_version": "1.5.0",
            "_model_name": "HBoxModel",
            "_view_count": null,
            "_view_module": "@jupyter-widgets/controls",
            "_view_module_version": "1.5.0",
            "_view_name": "HBoxView",
            "box_style": "",
            "children": [
              "IPY_MODEL_4f923af98bb04ffe84a80af6c69eb4c1",
              "IPY_MODEL_e3b4326dd7614cca891042c5c810997b",
              "IPY_MODEL_a6f8064c0af34c13a57ccd0401511865"
            ],
            "layout": "IPY_MODEL_8bdc1c1946a547948eb1868ae46094b7"
          }
        },
        "4f923af98bb04ffe84a80af6c69eb4c1": {
          "model_module": "@jupyter-widgets/controls",
          "model_name": "HTMLModel",
          "model_module_version": "1.5.0",
          "state": {
            "_dom_classes": [],
            "_model_module": "@jupyter-widgets/controls",
            "_model_module_version": "1.5.0",
            "_model_name": "HTMLModel",
            "_view_count": null,
            "_view_module": "@jupyter-widgets/controls",
            "_view_module_version": "1.5.0",
            "_view_name": "HTMLView",
            "description": "",
            "description_tooltip": null,
            "layout": "IPY_MODEL_2c1bb087638b4aedacc631dcb88bca3b",
            "placeholder": "​",
            "style": "IPY_MODEL_56429fcc8b6a4d87aa61d121043ddbba",
            "value": "Downloading builder script: "
          }
        },
        "e3b4326dd7614cca891042c5c810997b": {
          "model_module": "@jupyter-widgets/controls",
          "model_name": "FloatProgressModel",
          "model_module_version": "1.5.0",
          "state": {
            "_dom_classes": [],
            "_model_module": "@jupyter-widgets/controls",
            "_model_module_version": "1.5.0",
            "_model_name": "FloatProgressModel",
            "_view_count": null,
            "_view_module": "@jupyter-widgets/controls",
            "_view_module_version": "1.5.0",
            "_view_name": "ProgressView",
            "bar_style": "success",
            "description": "",
            "description_tooltip": null,
            "layout": "IPY_MODEL_218bc46ebf9d4ccf9600c9d7072a8748",
            "max": 2159,
            "min": 0,
            "orientation": "horizontal",
            "style": "IPY_MODEL_7c7203b570c8434da3c3588033d598b1",
            "value": 2159
          }
        },
        "a6f8064c0af34c13a57ccd0401511865": {
          "model_module": "@jupyter-widgets/controls",
          "model_name": "HTMLModel",
          "model_module_version": "1.5.0",
          "state": {
            "_dom_classes": [],
            "_model_module": "@jupyter-widgets/controls",
            "_model_module_version": "1.5.0",
            "_model_name": "HTMLModel",
            "_view_count": null,
            "_view_module": "@jupyter-widgets/controls",
            "_view_module_version": "1.5.0",
            "_view_name": "HTMLView",
            "description": "",
            "description_tooltip": null,
            "layout": "IPY_MODEL_fcfc1bc213c6449dac6bacb79eaac5b0",
            "placeholder": "​",
            "style": "IPY_MODEL_8ffb8639955a45339786a740f45852b6",
            "value": " 5.59k/? [00:00&lt;00:00, 333kB/s]"
          }
        },
        "8bdc1c1946a547948eb1868ae46094b7": {
          "model_module": "@jupyter-widgets/base",
          "model_name": "LayoutModel",
          "model_module_version": "1.2.0",
          "state": {
            "_model_module": "@jupyter-widgets/base",
            "_model_module_version": "1.2.0",
            "_model_name": "LayoutModel",
            "_view_count": null,
            "_view_module": "@jupyter-widgets/base",
            "_view_module_version": "1.2.0",
            "_view_name": "LayoutView",
            "align_content": null,
            "align_items": null,
            "align_self": null,
            "border": null,
            "bottom": null,
            "display": null,
            "flex": null,
            "flex_flow": null,
            "grid_area": null,
            "grid_auto_columns": null,
            "grid_auto_flow": null,
            "grid_auto_rows": null,
            "grid_column": null,
            "grid_gap": null,
            "grid_row": null,
            "grid_template_areas": null,
            "grid_template_columns": null,
            "grid_template_rows": null,
            "height": null,
            "justify_content": null,
            "justify_items": null,
            "left": null,
            "margin": null,
            "max_height": null,
            "max_width": null,
            "min_height": null,
            "min_width": null,
            "object_fit": null,
            "object_position": null,
            "order": null,
            "overflow": null,
            "overflow_x": null,
            "overflow_y": null,
            "padding": null,
            "right": null,
            "top": null,
            "visibility": null,
            "width": null
          }
        },
        "2c1bb087638b4aedacc631dcb88bca3b": {
          "model_module": "@jupyter-widgets/base",
          "model_name": "LayoutModel",
          "model_module_version": "1.2.0",
          "state": {
            "_model_module": "@jupyter-widgets/base",
            "_model_module_version": "1.2.0",
            "_model_name": "LayoutModel",
            "_view_count": null,
            "_view_module": "@jupyter-widgets/base",
            "_view_module_version": "1.2.0",
            "_view_name": "LayoutView",
            "align_content": null,
            "align_items": null,
            "align_self": null,
            "border": null,
            "bottom": null,
            "display": null,
            "flex": null,
            "flex_flow": null,
            "grid_area": null,
            "grid_auto_columns": null,
            "grid_auto_flow": null,
            "grid_auto_rows": null,
            "grid_column": null,
            "grid_gap": null,
            "grid_row": null,
            "grid_template_areas": null,
            "grid_template_columns": null,
            "grid_template_rows": null,
            "height": null,
            "justify_content": null,
            "justify_items": null,
            "left": null,
            "margin": null,
            "max_height": null,
            "max_width": null,
            "min_height": null,
            "min_width": null,
            "object_fit": null,
            "object_position": null,
            "order": null,
            "overflow": null,
            "overflow_x": null,
            "overflow_y": null,
            "padding": null,
            "right": null,
            "top": null,
            "visibility": null,
            "width": null
          }
        },
        "56429fcc8b6a4d87aa61d121043ddbba": {
          "model_module": "@jupyter-widgets/controls",
          "model_name": "DescriptionStyleModel",
          "model_module_version": "1.5.0",
          "state": {
            "_model_module": "@jupyter-widgets/controls",
            "_model_module_version": "1.5.0",
            "_model_name": "DescriptionStyleModel",
            "_view_count": null,
            "_view_module": "@jupyter-widgets/base",
            "_view_module_version": "1.2.0",
            "_view_name": "StyleView",
            "description_width": ""
          }
        },
        "218bc46ebf9d4ccf9600c9d7072a8748": {
          "model_module": "@jupyter-widgets/base",
          "model_name": "LayoutModel",
          "model_module_version": "1.2.0",
          "state": {
            "_model_module": "@jupyter-widgets/base",
            "_model_module_version": "1.2.0",
            "_model_name": "LayoutModel",
            "_view_count": null,
            "_view_module": "@jupyter-widgets/base",
            "_view_module_version": "1.2.0",
            "_view_name": "LayoutView",
            "align_content": null,
            "align_items": null,
            "align_self": null,
            "border": null,
            "bottom": null,
            "display": null,
            "flex": null,
            "flex_flow": null,
            "grid_area": null,
            "grid_auto_columns": null,
            "grid_auto_flow": null,
            "grid_auto_rows": null,
            "grid_column": null,
            "grid_gap": null,
            "grid_row": null,
            "grid_template_areas": null,
            "grid_template_columns": null,
            "grid_template_rows": null,
            "height": null,
            "justify_content": null,
            "justify_items": null,
            "left": null,
            "margin": null,
            "max_height": null,
            "max_width": null,
            "min_height": null,
            "min_width": null,
            "object_fit": null,
            "object_position": null,
            "order": null,
            "overflow": null,
            "overflow_x": null,
            "overflow_y": null,
            "padding": null,
            "right": null,
            "top": null,
            "visibility": null,
            "width": null
          }
        },
        "7c7203b570c8434da3c3588033d598b1": {
          "model_module": "@jupyter-widgets/controls",
          "model_name": "ProgressStyleModel",
          "model_module_version": "1.5.0",
          "state": {
            "_model_module": "@jupyter-widgets/controls",
            "_model_module_version": "1.5.0",
            "_model_name": "ProgressStyleModel",
            "_view_count": null,
            "_view_module": "@jupyter-widgets/base",
            "_view_module_version": "1.2.0",
            "_view_name": "StyleView",
            "bar_color": null,
            "description_width": ""
          }
        },
        "fcfc1bc213c6449dac6bacb79eaac5b0": {
          "model_module": "@jupyter-widgets/base",
          "model_name": "LayoutModel",
          "model_module_version": "1.2.0",
          "state": {
            "_model_module": "@jupyter-widgets/base",
            "_model_module_version": "1.2.0",
            "_model_name": "LayoutModel",
            "_view_count": null,
            "_view_module": "@jupyter-widgets/base",
            "_view_module_version": "1.2.0",
            "_view_name": "LayoutView",
            "align_content": null,
            "align_items": null,
            "align_self": null,
            "border": null,
            "bottom": null,
            "display": null,
            "flex": null,
            "flex_flow": null,
            "grid_area": null,
            "grid_auto_columns": null,
            "grid_auto_flow": null,
            "grid_auto_rows": null,
            "grid_column": null,
            "grid_gap": null,
            "grid_row": null,
            "grid_template_areas": null,
            "grid_template_columns": null,
            "grid_template_rows": null,
            "height": null,
            "justify_content": null,
            "justify_items": null,
            "left": null,
            "margin": null,
            "max_height": null,
            "max_width": null,
            "min_height": null,
            "min_width": null,
            "object_fit": null,
            "object_position": null,
            "order": null,
            "overflow": null,
            "overflow_x": null,
            "overflow_y": null,
            "padding": null,
            "right": null,
            "top": null,
            "visibility": null,
            "width": null
          }
        },
        "8ffb8639955a45339786a740f45852b6": {
          "model_module": "@jupyter-widgets/controls",
          "model_name": "DescriptionStyleModel",
          "model_module_version": "1.5.0",
          "state": {
            "_model_module": "@jupyter-widgets/controls",
            "_model_module_version": "1.5.0",
            "_model_name": "DescriptionStyleModel",
            "_view_count": null,
            "_view_module": "@jupyter-widgets/base",
            "_view_module_version": "1.2.0",
            "_view_name": "StyleView",
            "description_width": ""
          }
        },
        "bb2c3be83ce5450a86ba3ca953961e67": {
          "model_module": "@jupyter-widgets/controls",
          "model_name": "HBoxModel",
          "model_module_version": "1.5.0",
          "state": {
            "_dom_classes": [],
            "_model_module": "@jupyter-widgets/controls",
            "_model_module_version": "1.5.0",
            "_model_name": "HBoxModel",
            "_view_count": null,
            "_view_module": "@jupyter-widgets/controls",
            "_view_module_version": "1.5.0",
            "_view_name": "HBoxView",
            "box_style": "",
            "children": [
              "IPY_MODEL_87781a847f0d4e848fa7f5fb911dd9b8",
              "IPY_MODEL_ca0cf4f09d6b4ef6a5287fe2ef836c48",
              "IPY_MODEL_435fb7cdeebb4c389cc71fa544632a35"
            ],
            "layout": "IPY_MODEL_9f292e1d0ff44f3c90b9daad81a16356"
          }
        },
        "87781a847f0d4e848fa7f5fb911dd9b8": {
          "model_module": "@jupyter-widgets/controls",
          "model_name": "HTMLModel",
          "model_module_version": "1.5.0",
          "state": {
            "_dom_classes": [],
            "_model_module": "@jupyter-widgets/controls",
            "_model_module_version": "1.5.0",
            "_model_name": "HTMLModel",
            "_view_count": null,
            "_view_module": "@jupyter-widgets/controls",
            "_view_module_version": "1.5.0",
            "_view_name": "HTMLView",
            "description": "",
            "description_tooltip": null,
            "layout": "IPY_MODEL_83b66aa58b9b49f0a86b0b09e618f3b1",
            "placeholder": "​",
            "style": "IPY_MODEL_d56dda18efc145d9a241c9720e81c238",
            "value": "config.json: 100%"
          }
        },
        "ca0cf4f09d6b4ef6a5287fe2ef836c48": {
          "model_module": "@jupyter-widgets/controls",
          "model_name": "FloatProgressModel",
          "model_module_version": "1.5.0",
          "state": {
            "_dom_classes": [],
            "_model_module": "@jupyter-widgets/controls",
            "_model_module_version": "1.5.0",
            "_model_name": "FloatProgressModel",
            "_view_count": null,
            "_view_module": "@jupyter-widgets/controls",
            "_view_module_version": "1.5.0",
            "_view_name": "ProgressView",
            "bar_style": "success",
            "description": "",
            "description_tooltip": null,
            "layout": "IPY_MODEL_db0963e45a894ecfb7bd2797981204c0",
            "max": 4126,
            "min": 0,
            "orientation": "horizontal",
            "style": "IPY_MODEL_a5900259ba784a6a81a0ef3be1007b3b",
            "value": 4126
          }
        },
        "435fb7cdeebb4c389cc71fa544632a35": {
          "model_module": "@jupyter-widgets/controls",
          "model_name": "HTMLModel",
          "model_module_version": "1.5.0",
          "state": {
            "_dom_classes": [],
            "_model_module": "@jupyter-widgets/controls",
            "_model_module_version": "1.5.0",
            "_model_name": "HTMLModel",
            "_view_count": null,
            "_view_module": "@jupyter-widgets/controls",
            "_view_module_version": "1.5.0",
            "_view_name": "HTMLView",
            "description": "",
            "description_tooltip": null,
            "layout": "IPY_MODEL_8c3b475eb2ed45b3ac88f9318bce64ab",
            "placeholder": "​",
            "style": "IPY_MODEL_05d4e51df52040f9ba401e33e43570aa",
            "value": " 4.13k/4.13k [00:00&lt;00:00, 35.9kB/s]"
          }
        },
        "9f292e1d0ff44f3c90b9daad81a16356": {
          "model_module": "@jupyter-widgets/base",
          "model_name": "LayoutModel",
          "model_module_version": "1.2.0",
          "state": {
            "_model_module": "@jupyter-widgets/base",
            "_model_module_version": "1.2.0",
            "_model_name": "LayoutModel",
            "_view_count": null,
            "_view_module": "@jupyter-widgets/base",
            "_view_module_version": "1.2.0",
            "_view_name": "LayoutView",
            "align_content": null,
            "align_items": null,
            "align_self": null,
            "border": null,
            "bottom": null,
            "display": null,
            "flex": null,
            "flex_flow": null,
            "grid_area": null,
            "grid_auto_columns": null,
            "grid_auto_flow": null,
            "grid_auto_rows": null,
            "grid_column": null,
            "grid_gap": null,
            "grid_row": null,
            "grid_template_areas": null,
            "grid_template_columns": null,
            "grid_template_rows": null,
            "height": null,
            "justify_content": null,
            "justify_items": null,
            "left": null,
            "margin": null,
            "max_height": null,
            "max_width": null,
            "min_height": null,
            "min_width": null,
            "object_fit": null,
            "object_position": null,
            "order": null,
            "overflow": null,
            "overflow_x": null,
            "overflow_y": null,
            "padding": null,
            "right": null,
            "top": null,
            "visibility": null,
            "width": null
          }
        },
        "83b66aa58b9b49f0a86b0b09e618f3b1": {
          "model_module": "@jupyter-widgets/base",
          "model_name": "LayoutModel",
          "model_module_version": "1.2.0",
          "state": {
            "_model_module": "@jupyter-widgets/base",
            "_model_module_version": "1.2.0",
            "_model_name": "LayoutModel",
            "_view_count": null,
            "_view_module": "@jupyter-widgets/base",
            "_view_module_version": "1.2.0",
            "_view_name": "LayoutView",
            "align_content": null,
            "align_items": null,
            "align_self": null,
            "border": null,
            "bottom": null,
            "display": null,
            "flex": null,
            "flex_flow": null,
            "grid_area": null,
            "grid_auto_columns": null,
            "grid_auto_flow": null,
            "grid_auto_rows": null,
            "grid_column": null,
            "grid_gap": null,
            "grid_row": null,
            "grid_template_areas": null,
            "grid_template_columns": null,
            "grid_template_rows": null,
            "height": null,
            "justify_content": null,
            "justify_items": null,
            "left": null,
            "margin": null,
            "max_height": null,
            "max_width": null,
            "min_height": null,
            "min_width": null,
            "object_fit": null,
            "object_position": null,
            "order": null,
            "overflow": null,
            "overflow_x": null,
            "overflow_y": null,
            "padding": null,
            "right": null,
            "top": null,
            "visibility": null,
            "width": null
          }
        },
        "d56dda18efc145d9a241c9720e81c238": {
          "model_module": "@jupyter-widgets/controls",
          "model_name": "DescriptionStyleModel",
          "model_module_version": "1.5.0",
          "state": {
            "_model_module": "@jupyter-widgets/controls",
            "_model_module_version": "1.5.0",
            "_model_name": "DescriptionStyleModel",
            "_view_count": null,
            "_view_module": "@jupyter-widgets/base",
            "_view_module_version": "1.2.0",
            "_view_name": "StyleView",
            "description_width": ""
          }
        },
        "db0963e45a894ecfb7bd2797981204c0": {
          "model_module": "@jupyter-widgets/base",
          "model_name": "LayoutModel",
          "model_module_version": "1.2.0",
          "state": {
            "_model_module": "@jupyter-widgets/base",
            "_model_module_version": "1.2.0",
            "_model_name": "LayoutModel",
            "_view_count": null,
            "_view_module": "@jupyter-widgets/base",
            "_view_module_version": "1.2.0",
            "_view_name": "LayoutView",
            "align_content": null,
            "align_items": null,
            "align_self": null,
            "border": null,
            "bottom": null,
            "display": null,
            "flex": null,
            "flex_flow": null,
            "grid_area": null,
            "grid_auto_columns": null,
            "grid_auto_flow": null,
            "grid_auto_rows": null,
            "grid_column": null,
            "grid_gap": null,
            "grid_row": null,
            "grid_template_areas": null,
            "grid_template_columns": null,
            "grid_template_rows": null,
            "height": null,
            "justify_content": null,
            "justify_items": null,
            "left": null,
            "margin": null,
            "max_height": null,
            "max_width": null,
            "min_height": null,
            "min_width": null,
            "object_fit": null,
            "object_position": null,
            "order": null,
            "overflow": null,
            "overflow_x": null,
            "overflow_y": null,
            "padding": null,
            "right": null,
            "top": null,
            "visibility": null,
            "width": null
          }
        },
        "a5900259ba784a6a81a0ef3be1007b3b": {
          "model_module": "@jupyter-widgets/controls",
          "model_name": "ProgressStyleModel",
          "model_module_version": "1.5.0",
          "state": {
            "_model_module": "@jupyter-widgets/controls",
            "_model_module_version": "1.5.0",
            "_model_name": "ProgressStyleModel",
            "_view_count": null,
            "_view_module": "@jupyter-widgets/base",
            "_view_module_version": "1.2.0",
            "_view_name": "StyleView",
            "bar_color": null,
            "description_width": ""
          }
        },
        "8c3b475eb2ed45b3ac88f9318bce64ab": {
          "model_module": "@jupyter-widgets/base",
          "model_name": "LayoutModel",
          "model_module_version": "1.2.0",
          "state": {
            "_model_module": "@jupyter-widgets/base",
            "_model_module_version": "1.2.0",
            "_model_name": "LayoutModel",
            "_view_count": null,
            "_view_module": "@jupyter-widgets/base",
            "_view_module_version": "1.2.0",
            "_view_name": "LayoutView",
            "align_content": null,
            "align_items": null,
            "align_self": null,
            "border": null,
            "bottom": null,
            "display": null,
            "flex": null,
            "flex_flow": null,
            "grid_area": null,
            "grid_auto_columns": null,
            "grid_auto_flow": null,
            "grid_auto_rows": null,
            "grid_column": null,
            "grid_gap": null,
            "grid_row": null,
            "grid_template_areas": null,
            "grid_template_columns": null,
            "grid_template_rows": null,
            "height": null,
            "justify_content": null,
            "justify_items": null,
            "left": null,
            "margin": null,
            "max_height": null,
            "max_width": null,
            "min_height": null,
            "min_width": null,
            "object_fit": null,
            "object_position": null,
            "order": null,
            "overflow": null,
            "overflow_x": null,
            "overflow_y": null,
            "padding": null,
            "right": null,
            "top": null,
            "visibility": null,
            "width": null
          }
        },
        "05d4e51df52040f9ba401e33e43570aa": {
          "model_module": "@jupyter-widgets/controls",
          "model_name": "DescriptionStyleModel",
          "model_module_version": "1.5.0",
          "state": {
            "_model_module": "@jupyter-widgets/controls",
            "_model_module_version": "1.5.0",
            "_model_name": "DescriptionStyleModel",
            "_view_count": null,
            "_view_module": "@jupyter-widgets/base",
            "_view_module_version": "1.2.0",
            "_view_name": "StyleView",
            "description_width": ""
          }
        },
        "1233c11997de4232a73d86b0d5846685": {
          "model_module": "@jupyter-widgets/controls",
          "model_name": "HBoxModel",
          "model_module_version": "1.5.0",
          "state": {
            "_dom_classes": [],
            "_model_module": "@jupyter-widgets/controls",
            "_model_module_version": "1.5.0",
            "_model_name": "HBoxModel",
            "_view_count": null,
            "_view_module": "@jupyter-widgets/controls",
            "_view_module_version": "1.5.0",
            "_view_name": "HBoxView",
            "box_style": "",
            "children": [
              "IPY_MODEL_ef573f92c2384c98a279cc8ac9530b0f",
              "IPY_MODEL_d9d94d5ca79641b8ad9629c87a2c8a07",
              "IPY_MODEL_cfce25085a624bf891d669cf8597a814"
            ],
            "layout": "IPY_MODEL_efbd0b3a437b4f019a188f0e94999503"
          }
        },
        "ef573f92c2384c98a279cc8ac9530b0f": {
          "model_module": "@jupyter-widgets/controls",
          "model_name": "HTMLModel",
          "model_module_version": "1.5.0",
          "state": {
            "_dom_classes": [],
            "_model_module": "@jupyter-widgets/controls",
            "_model_module_version": "1.5.0",
            "_model_name": "HTMLModel",
            "_view_count": null,
            "_view_module": "@jupyter-widgets/controls",
            "_view_module_version": "1.5.0",
            "_view_name": "HTMLView",
            "description": "",
            "description_tooltip": null,
            "layout": "IPY_MODEL_8ccecd0a10e74747b931833a410812a6",
            "placeholder": "​",
            "style": "IPY_MODEL_23ddaf1c60ec4db28d38639db537befe",
            "value": "pytorch_model.bin: 100%"
          }
        },
        "d9d94d5ca79641b8ad9629c87a2c8a07": {
          "model_module": "@jupyter-widgets/controls",
          "model_name": "FloatProgressModel",
          "model_module_version": "1.5.0",
          "state": {
            "_dom_classes": [],
            "_model_module": "@jupyter-widgets/controls",
            "_model_module_version": "1.5.0",
            "_model_name": "FloatProgressModel",
            "_view_count": null,
            "_view_module": "@jupyter-widgets/controls",
            "_view_module_version": "1.5.0",
            "_view_name": "ProgressView",
            "bar_style": "success",
            "description": "",
            "description_tooltip": null,
            "layout": "IPY_MODEL_46189bfc3f054b87a542f9c356a90c5e",
            "max": 1333508485,
            "min": 0,
            "orientation": "horizontal",
            "style": "IPY_MODEL_b649ca4304e4435596920b8b9a7d7c73",
            "value": 1333508485
          }
        },
        "cfce25085a624bf891d669cf8597a814": {
          "model_module": "@jupyter-widgets/controls",
          "model_name": "HTMLModel",
          "model_module_version": "1.5.0",
          "state": {
            "_dom_classes": [],
            "_model_module": "@jupyter-widgets/controls",
            "_model_module_version": "1.5.0",
            "_model_name": "HTMLModel",
            "_view_count": null,
            "_view_module": "@jupyter-widgets/controls",
            "_view_module_version": "1.5.0",
            "_view_name": "HTMLView",
            "description": "",
            "description_tooltip": null,
            "layout": "IPY_MODEL_b0a65df984874a149b11dafcf2f6abcd",
            "placeholder": "​",
            "style": "IPY_MODEL_b9d13a15ffa0468aaee1af6357f5284a",
            "value": " 1.33G/1.33G [00:21&lt;00:00, 70.5MB/s]"
          }
        },
        "efbd0b3a437b4f019a188f0e94999503": {
          "model_module": "@jupyter-widgets/base",
          "model_name": "LayoutModel",
          "model_module_version": "1.2.0",
          "state": {
            "_model_module": "@jupyter-widgets/base",
            "_model_module_version": "1.2.0",
            "_model_name": "LayoutModel",
            "_view_count": null,
            "_view_module": "@jupyter-widgets/base",
            "_view_module_version": "1.2.0",
            "_view_name": "LayoutView",
            "align_content": null,
            "align_items": null,
            "align_self": null,
            "border": null,
            "bottom": null,
            "display": null,
            "flex": null,
            "flex_flow": null,
            "grid_area": null,
            "grid_auto_columns": null,
            "grid_auto_flow": null,
            "grid_auto_rows": null,
            "grid_column": null,
            "grid_gap": null,
            "grid_row": null,
            "grid_template_areas": null,
            "grid_template_columns": null,
            "grid_template_rows": null,
            "height": null,
            "justify_content": null,
            "justify_items": null,
            "left": null,
            "margin": null,
            "max_height": null,
            "max_width": null,
            "min_height": null,
            "min_width": null,
            "object_fit": null,
            "object_position": null,
            "order": null,
            "overflow": null,
            "overflow_x": null,
            "overflow_y": null,
            "padding": null,
            "right": null,
            "top": null,
            "visibility": null,
            "width": null
          }
        },
        "8ccecd0a10e74747b931833a410812a6": {
          "model_module": "@jupyter-widgets/base",
          "model_name": "LayoutModel",
          "model_module_version": "1.2.0",
          "state": {
            "_model_module": "@jupyter-widgets/base",
            "_model_module_version": "1.2.0",
            "_model_name": "LayoutModel",
            "_view_count": null,
            "_view_module": "@jupyter-widgets/base",
            "_view_module_version": "1.2.0",
            "_view_name": "LayoutView",
            "align_content": null,
            "align_items": null,
            "align_self": null,
            "border": null,
            "bottom": null,
            "display": null,
            "flex": null,
            "flex_flow": null,
            "grid_area": null,
            "grid_auto_columns": null,
            "grid_auto_flow": null,
            "grid_auto_rows": null,
            "grid_column": null,
            "grid_gap": null,
            "grid_row": null,
            "grid_template_areas": null,
            "grid_template_columns": null,
            "grid_template_rows": null,
            "height": null,
            "justify_content": null,
            "justify_items": null,
            "left": null,
            "margin": null,
            "max_height": null,
            "max_width": null,
            "min_height": null,
            "min_width": null,
            "object_fit": null,
            "object_position": null,
            "order": null,
            "overflow": null,
            "overflow_x": null,
            "overflow_y": null,
            "padding": null,
            "right": null,
            "top": null,
            "visibility": null,
            "width": null
          }
        },
        "23ddaf1c60ec4db28d38639db537befe": {
          "model_module": "@jupyter-widgets/controls",
          "model_name": "DescriptionStyleModel",
          "model_module_version": "1.5.0",
          "state": {
            "_model_module": "@jupyter-widgets/controls",
            "_model_module_version": "1.5.0",
            "_model_name": "DescriptionStyleModel",
            "_view_count": null,
            "_view_module": "@jupyter-widgets/base",
            "_view_module_version": "1.2.0",
            "_view_name": "StyleView",
            "description_width": ""
          }
        },
        "46189bfc3f054b87a542f9c356a90c5e": {
          "model_module": "@jupyter-widgets/base",
          "model_name": "LayoutModel",
          "model_module_version": "1.2.0",
          "state": {
            "_model_module": "@jupyter-widgets/base",
            "_model_module_version": "1.2.0",
            "_model_name": "LayoutModel",
            "_view_count": null,
            "_view_module": "@jupyter-widgets/base",
            "_view_module_version": "1.2.0",
            "_view_name": "LayoutView",
            "align_content": null,
            "align_items": null,
            "align_self": null,
            "border": null,
            "bottom": null,
            "display": null,
            "flex": null,
            "flex_flow": null,
            "grid_area": null,
            "grid_auto_columns": null,
            "grid_auto_flow": null,
            "grid_auto_rows": null,
            "grid_column": null,
            "grid_gap": null,
            "grid_row": null,
            "grid_template_areas": null,
            "grid_template_columns": null,
            "grid_template_rows": null,
            "height": null,
            "justify_content": null,
            "justify_items": null,
            "left": null,
            "margin": null,
            "max_height": null,
            "max_width": null,
            "min_height": null,
            "min_width": null,
            "object_fit": null,
            "object_position": null,
            "order": null,
            "overflow": null,
            "overflow_x": null,
            "overflow_y": null,
            "padding": null,
            "right": null,
            "top": null,
            "visibility": null,
            "width": null
          }
        },
        "b649ca4304e4435596920b8b9a7d7c73": {
          "model_module": "@jupyter-widgets/controls",
          "model_name": "ProgressStyleModel",
          "model_module_version": "1.5.0",
          "state": {
            "_model_module": "@jupyter-widgets/controls",
            "_model_module_version": "1.5.0",
            "_model_name": "ProgressStyleModel",
            "_view_count": null,
            "_view_module": "@jupyter-widgets/base",
            "_view_module_version": "1.2.0",
            "_view_name": "StyleView",
            "bar_color": null,
            "description_width": ""
          }
        },
        "b0a65df984874a149b11dafcf2f6abcd": {
          "model_module": "@jupyter-widgets/base",
          "model_name": "LayoutModel",
          "model_module_version": "1.2.0",
          "state": {
            "_model_module": "@jupyter-widgets/base",
            "_model_module_version": "1.2.0",
            "_model_name": "LayoutModel",
            "_view_count": null,
            "_view_module": "@jupyter-widgets/base",
            "_view_module_version": "1.2.0",
            "_view_name": "LayoutView",
            "align_content": null,
            "align_items": null,
            "align_self": null,
            "border": null,
            "bottom": null,
            "display": null,
            "flex": null,
            "flex_flow": null,
            "grid_area": null,
            "grid_auto_columns": null,
            "grid_auto_flow": null,
            "grid_auto_rows": null,
            "grid_column": null,
            "grid_gap": null,
            "grid_row": null,
            "grid_template_areas": null,
            "grid_template_columns": null,
            "grid_template_rows": null,
            "height": null,
            "justify_content": null,
            "justify_items": null,
            "left": null,
            "margin": null,
            "max_height": null,
            "max_width": null,
            "min_height": null,
            "min_width": null,
            "object_fit": null,
            "object_position": null,
            "order": null,
            "overflow": null,
            "overflow_x": null,
            "overflow_y": null,
            "padding": null,
            "right": null,
            "top": null,
            "visibility": null,
            "width": null
          }
        },
        "b9d13a15ffa0468aaee1af6357f5284a": {
          "model_module": "@jupyter-widgets/controls",
          "model_name": "DescriptionStyleModel",
          "model_module_version": "1.5.0",
          "state": {
            "_model_module": "@jupyter-widgets/controls",
            "_model_module_version": "1.5.0",
            "_model_name": "DescriptionStyleModel",
            "_view_count": null,
            "_view_module": "@jupyter-widgets/base",
            "_view_module_version": "1.2.0",
            "_view_name": "StyleView",
            "description_width": ""
          }
        },
        "676f0758ad8846b298b6d9e8c69cb3aa": {
          "model_module": "@jupyter-widgets/controls",
          "model_name": "HBoxModel",
          "model_module_version": "1.5.0",
          "state": {
            "_dom_classes": [],
            "_model_module": "@jupyter-widgets/controls",
            "_model_module_version": "1.5.0",
            "_model_name": "HBoxModel",
            "_view_count": null,
            "_view_module": "@jupyter-widgets/controls",
            "_view_module_version": "1.5.0",
            "_view_name": "HBoxView",
            "box_style": "",
            "children": [
              "IPY_MODEL_6baab95ea7264fea8c0573a4b8b54f7c",
              "IPY_MODEL_55636a20d2544665b68e64acf1a2dfa8",
              "IPY_MODEL_fa02d8c364ca4272921406deb638dcc4"
            ],
            "layout": "IPY_MODEL_f71b8e52dbb8433f9e160fb6729430ae"
          }
        },
        "6baab95ea7264fea8c0573a4b8b54f7c": {
          "model_module": "@jupyter-widgets/controls",
          "model_name": "HTMLModel",
          "model_module_version": "1.5.0",
          "state": {
            "_dom_classes": [],
            "_model_module": "@jupyter-widgets/controls",
            "_model_module_version": "1.5.0",
            "_model_name": "HTMLModel",
            "_view_count": null,
            "_view_module": "@jupyter-widgets/controls",
            "_view_module_version": "1.5.0",
            "_view_name": "HTMLView",
            "description": "",
            "description_tooltip": null,
            "layout": "IPY_MODEL_7be492d092d3400b9eeaa47ad2ef7f83",
            "placeholder": "​",
            "style": "IPY_MODEL_668ea988844d47aeab7f8e2af52190f0",
            "value": "generation_config.json: 100%"
          }
        },
        "55636a20d2544665b68e64acf1a2dfa8": {
          "model_module": "@jupyter-widgets/controls",
          "model_name": "FloatProgressModel",
          "model_module_version": "1.5.0",
          "state": {
            "_dom_classes": [],
            "_model_module": "@jupyter-widgets/controls",
            "_model_module_version": "1.5.0",
            "_model_name": "FloatProgressModel",
            "_view_count": null,
            "_view_module": "@jupyter-widgets/controls",
            "_view_module_version": "1.5.0",
            "_view_name": "ProgressView",
            "bar_style": "success",
            "description": "",
            "description_tooltip": null,
            "layout": "IPY_MODEL_6d02844b2970439e8c738635de4802be",
            "max": 190,
            "min": 0,
            "orientation": "horizontal",
            "style": "IPY_MODEL_ea352bbc0a014d40ab796e4bc39285ed",
            "value": 190
          }
        },
        "fa02d8c364ca4272921406deb638dcc4": {
          "model_module": "@jupyter-widgets/controls",
          "model_name": "HTMLModel",
          "model_module_version": "1.5.0",
          "state": {
            "_dom_classes": [],
            "_model_module": "@jupyter-widgets/controls",
            "_model_module_version": "1.5.0",
            "_model_name": "HTMLModel",
            "_view_count": null,
            "_view_module": "@jupyter-widgets/controls",
            "_view_module_version": "1.5.0",
            "_view_name": "HTMLView",
            "description": "",
            "description_tooltip": null,
            "layout": "IPY_MODEL_249e642f82d341ff923331ccd0f28d9c",
            "placeholder": "​",
            "style": "IPY_MODEL_f87bb3ba2dcb458a9ba6641ed9c00347",
            "value": " 190/190 [00:00&lt;00:00, 9.09kB/s]"
          }
        },
        "f71b8e52dbb8433f9e160fb6729430ae": {
          "model_module": "@jupyter-widgets/base",
          "model_name": "LayoutModel",
          "model_module_version": "1.2.0",
          "state": {
            "_model_module": "@jupyter-widgets/base",
            "_model_module_version": "1.2.0",
            "_model_name": "LayoutModel",
            "_view_count": null,
            "_view_module": "@jupyter-widgets/base",
            "_view_module_version": "1.2.0",
            "_view_name": "LayoutView",
            "align_content": null,
            "align_items": null,
            "align_self": null,
            "border": null,
            "bottom": null,
            "display": null,
            "flex": null,
            "flex_flow": null,
            "grid_area": null,
            "grid_auto_columns": null,
            "grid_auto_flow": null,
            "grid_auto_rows": null,
            "grid_column": null,
            "grid_gap": null,
            "grid_row": null,
            "grid_template_areas": null,
            "grid_template_columns": null,
            "grid_template_rows": null,
            "height": null,
            "justify_content": null,
            "justify_items": null,
            "left": null,
            "margin": null,
            "max_height": null,
            "max_width": null,
            "min_height": null,
            "min_width": null,
            "object_fit": null,
            "object_position": null,
            "order": null,
            "overflow": null,
            "overflow_x": null,
            "overflow_y": null,
            "padding": null,
            "right": null,
            "top": null,
            "visibility": null,
            "width": null
          }
        },
        "7be492d092d3400b9eeaa47ad2ef7f83": {
          "model_module": "@jupyter-widgets/base",
          "model_name": "LayoutModel",
          "model_module_version": "1.2.0",
          "state": {
            "_model_module": "@jupyter-widgets/base",
            "_model_module_version": "1.2.0",
            "_model_name": "LayoutModel",
            "_view_count": null,
            "_view_module": "@jupyter-widgets/base",
            "_view_module_version": "1.2.0",
            "_view_name": "LayoutView",
            "align_content": null,
            "align_items": null,
            "align_self": null,
            "border": null,
            "bottom": null,
            "display": null,
            "flex": null,
            "flex_flow": null,
            "grid_area": null,
            "grid_auto_columns": null,
            "grid_auto_flow": null,
            "grid_auto_rows": null,
            "grid_column": null,
            "grid_gap": null,
            "grid_row": null,
            "grid_template_areas": null,
            "grid_template_columns": null,
            "grid_template_rows": null,
            "height": null,
            "justify_content": null,
            "justify_items": null,
            "left": null,
            "margin": null,
            "max_height": null,
            "max_width": null,
            "min_height": null,
            "min_width": null,
            "object_fit": null,
            "object_position": null,
            "order": null,
            "overflow": null,
            "overflow_x": null,
            "overflow_y": null,
            "padding": null,
            "right": null,
            "top": null,
            "visibility": null,
            "width": null
          }
        },
        "668ea988844d47aeab7f8e2af52190f0": {
          "model_module": "@jupyter-widgets/controls",
          "model_name": "DescriptionStyleModel",
          "model_module_version": "1.5.0",
          "state": {
            "_model_module": "@jupyter-widgets/controls",
            "_model_module_version": "1.5.0",
            "_model_name": "DescriptionStyleModel",
            "_view_count": null,
            "_view_module": "@jupyter-widgets/base",
            "_view_module_version": "1.2.0",
            "_view_name": "StyleView",
            "description_width": ""
          }
        },
        "6d02844b2970439e8c738635de4802be": {
          "model_module": "@jupyter-widgets/base",
          "model_name": "LayoutModel",
          "model_module_version": "1.2.0",
          "state": {
            "_model_module": "@jupyter-widgets/base",
            "_model_module_version": "1.2.0",
            "_model_name": "LayoutModel",
            "_view_count": null,
            "_view_module": "@jupyter-widgets/base",
            "_view_module_version": "1.2.0",
            "_view_name": "LayoutView",
            "align_content": null,
            "align_items": null,
            "align_self": null,
            "border": null,
            "bottom": null,
            "display": null,
            "flex": null,
            "flex_flow": null,
            "grid_area": null,
            "grid_auto_columns": null,
            "grid_auto_flow": null,
            "grid_auto_rows": null,
            "grid_column": null,
            "grid_gap": null,
            "grid_row": null,
            "grid_template_areas": null,
            "grid_template_columns": null,
            "grid_template_rows": null,
            "height": null,
            "justify_content": null,
            "justify_items": null,
            "left": null,
            "margin": null,
            "max_height": null,
            "max_width": null,
            "min_height": null,
            "min_width": null,
            "object_fit": null,
            "object_position": null,
            "order": null,
            "overflow": null,
            "overflow_x": null,
            "overflow_y": null,
            "padding": null,
            "right": null,
            "top": null,
            "visibility": null,
            "width": null
          }
        },
        "ea352bbc0a014d40ab796e4bc39285ed": {
          "model_module": "@jupyter-widgets/controls",
          "model_name": "ProgressStyleModel",
          "model_module_version": "1.5.0",
          "state": {
            "_model_module": "@jupyter-widgets/controls",
            "_model_module_version": "1.5.0",
            "_model_name": "ProgressStyleModel",
            "_view_count": null,
            "_view_module": "@jupyter-widgets/base",
            "_view_module_version": "1.2.0",
            "_view_name": "StyleView",
            "bar_color": null,
            "description_width": ""
          }
        },
        "249e642f82d341ff923331ccd0f28d9c": {
          "model_module": "@jupyter-widgets/base",
          "model_name": "LayoutModel",
          "model_module_version": "1.2.0",
          "state": {
            "_model_module": "@jupyter-widgets/base",
            "_model_module_version": "1.2.0",
            "_model_name": "LayoutModel",
            "_view_count": null,
            "_view_module": "@jupyter-widgets/base",
            "_view_module_version": "1.2.0",
            "_view_name": "LayoutView",
            "align_content": null,
            "align_items": null,
            "align_self": null,
            "border": null,
            "bottom": null,
            "display": null,
            "flex": null,
            "flex_flow": null,
            "grid_area": null,
            "grid_auto_columns": null,
            "grid_auto_flow": null,
            "grid_auto_rows": null,
            "grid_column": null,
            "grid_gap": null,
            "grid_row": null,
            "grid_template_areas": null,
            "grid_template_columns": null,
            "grid_template_rows": null,
            "height": null,
            "justify_content": null,
            "justify_items": null,
            "left": null,
            "margin": null,
            "max_height": null,
            "max_width": null,
            "min_height": null,
            "min_width": null,
            "object_fit": null,
            "object_position": null,
            "order": null,
            "overflow": null,
            "overflow_x": null,
            "overflow_y": null,
            "padding": null,
            "right": null,
            "top": null,
            "visibility": null,
            "width": null
          }
        },
        "f87bb3ba2dcb458a9ba6641ed9c00347": {
          "model_module": "@jupyter-widgets/controls",
          "model_name": "DescriptionStyleModel",
          "model_module_version": "1.5.0",
          "state": {
            "_model_module": "@jupyter-widgets/controls",
            "_model_module_version": "1.5.0",
            "_model_name": "DescriptionStyleModel",
            "_view_count": null,
            "_view_module": "@jupyter-widgets/base",
            "_view_module_version": "1.2.0",
            "_view_name": "StyleView",
            "description_width": ""
          }
        },
        "e5f1e2cda51c4d9e9077a03c64390857": {
          "model_module": "@jupyter-widgets/controls",
          "model_name": "HBoxModel",
          "model_module_version": "1.5.0",
          "state": {
            "_dom_classes": [],
            "_model_module": "@jupyter-widgets/controls",
            "_model_module_version": "1.5.0",
            "_model_name": "HBoxModel",
            "_view_count": null,
            "_view_module": "@jupyter-widgets/controls",
            "_view_module_version": "1.5.0",
            "_view_name": "HBoxView",
            "box_style": "",
            "children": [
              "IPY_MODEL_bc27a81a4f5443f6990618be7536d66a",
              "IPY_MODEL_1d15657472ff4ad9836e9ac20aa1a097",
              "IPY_MODEL_17c9d5c567284e67badeb0c982ebff94"
            ],
            "layout": "IPY_MODEL_758d1ba27d594e048b4c32761be186d4"
          }
        },
        "bc27a81a4f5443f6990618be7536d66a": {
          "model_module": "@jupyter-widgets/controls",
          "model_name": "HTMLModel",
          "model_module_version": "1.5.0",
          "state": {
            "_dom_classes": [],
            "_model_module": "@jupyter-widgets/controls",
            "_model_module_version": "1.5.0",
            "_model_name": "HTMLModel",
            "_view_count": null,
            "_view_module": "@jupyter-widgets/controls",
            "_view_module_version": "1.5.0",
            "_view_name": "HTMLView",
            "description": "",
            "description_tooltip": null,
            "layout": "IPY_MODEL_650c250ed1bc4782962752b2723b7b69",
            "placeholder": "​",
            "style": "IPY_MODEL_9b5c4fc0a2cf4e08a7a57b61234ff2e6",
            "value": "preprocessor_config.json: 100%"
          }
        },
        "1d15657472ff4ad9836e9ac20aa1a097": {
          "model_module": "@jupyter-widgets/controls",
          "model_name": "FloatProgressModel",
          "model_module_version": "1.5.0",
          "state": {
            "_dom_classes": [],
            "_model_module": "@jupyter-widgets/controls",
            "_model_module_version": "1.5.0",
            "_model_name": "FloatProgressModel",
            "_view_count": null,
            "_view_module": "@jupyter-widgets/controls",
            "_view_module_version": "1.5.0",
            "_view_name": "ProgressView",
            "bar_style": "success",
            "description": "",
            "description_tooltip": null,
            "layout": "IPY_MODEL_0c126ef140734a3db6ef38b786f6520e",
            "max": 228,
            "min": 0,
            "orientation": "horizontal",
            "style": "IPY_MODEL_ca812b09209f4c94bd3410a78462d080",
            "value": 228
          }
        },
        "17c9d5c567284e67badeb0c982ebff94": {
          "model_module": "@jupyter-widgets/controls",
          "model_name": "HTMLModel",
          "model_module_version": "1.5.0",
          "state": {
            "_dom_classes": [],
            "_model_module": "@jupyter-widgets/controls",
            "_model_module_version": "1.5.0",
            "_model_name": "HTMLModel",
            "_view_count": null,
            "_view_module": "@jupyter-widgets/controls",
            "_view_module_version": "1.5.0",
            "_view_name": "HTMLView",
            "description": "",
            "description_tooltip": null,
            "layout": "IPY_MODEL_d0aa3b610cd94180be9f01675e343933",
            "placeholder": "​",
            "style": "IPY_MODEL_d14c18251fdb46aeb7af234849c3f290",
            "value": " 228/228 [00:00&lt;00:00, 2.96kB/s]"
          }
        },
        "758d1ba27d594e048b4c32761be186d4": {
          "model_module": "@jupyter-widgets/base",
          "model_name": "LayoutModel",
          "model_module_version": "1.2.0",
          "state": {
            "_model_module": "@jupyter-widgets/base",
            "_model_module_version": "1.2.0",
            "_model_name": "LayoutModel",
            "_view_count": null,
            "_view_module": "@jupyter-widgets/base",
            "_view_module_version": "1.2.0",
            "_view_name": "LayoutView",
            "align_content": null,
            "align_items": null,
            "align_self": null,
            "border": null,
            "bottom": null,
            "display": null,
            "flex": null,
            "flex_flow": null,
            "grid_area": null,
            "grid_auto_columns": null,
            "grid_auto_flow": null,
            "grid_auto_rows": null,
            "grid_column": null,
            "grid_gap": null,
            "grid_row": null,
            "grid_template_areas": null,
            "grid_template_columns": null,
            "grid_template_rows": null,
            "height": null,
            "justify_content": null,
            "justify_items": null,
            "left": null,
            "margin": null,
            "max_height": null,
            "max_width": null,
            "min_height": null,
            "min_width": null,
            "object_fit": null,
            "object_position": null,
            "order": null,
            "overflow": null,
            "overflow_x": null,
            "overflow_y": null,
            "padding": null,
            "right": null,
            "top": null,
            "visibility": null,
            "width": null
          }
        },
        "650c250ed1bc4782962752b2723b7b69": {
          "model_module": "@jupyter-widgets/base",
          "model_name": "LayoutModel",
          "model_module_version": "1.2.0",
          "state": {
            "_model_module": "@jupyter-widgets/base",
            "_model_module_version": "1.2.0",
            "_model_name": "LayoutModel",
            "_view_count": null,
            "_view_module": "@jupyter-widgets/base",
            "_view_module_version": "1.2.0",
            "_view_name": "LayoutView",
            "align_content": null,
            "align_items": null,
            "align_self": null,
            "border": null,
            "bottom": null,
            "display": null,
            "flex": null,
            "flex_flow": null,
            "grid_area": null,
            "grid_auto_columns": null,
            "grid_auto_flow": null,
            "grid_auto_rows": null,
            "grid_column": null,
            "grid_gap": null,
            "grid_row": null,
            "grid_template_areas": null,
            "grid_template_columns": null,
            "grid_template_rows": null,
            "height": null,
            "justify_content": null,
            "justify_items": null,
            "left": null,
            "margin": null,
            "max_height": null,
            "max_width": null,
            "min_height": null,
            "min_width": null,
            "object_fit": null,
            "object_position": null,
            "order": null,
            "overflow": null,
            "overflow_x": null,
            "overflow_y": null,
            "padding": null,
            "right": null,
            "top": null,
            "visibility": null,
            "width": null
          }
        },
        "9b5c4fc0a2cf4e08a7a57b61234ff2e6": {
          "model_module": "@jupyter-widgets/controls",
          "model_name": "DescriptionStyleModel",
          "model_module_version": "1.5.0",
          "state": {
            "_model_module": "@jupyter-widgets/controls",
            "_model_module_version": "1.5.0",
            "_model_name": "DescriptionStyleModel",
            "_view_count": null,
            "_view_module": "@jupyter-widgets/base",
            "_view_module_version": "1.2.0",
            "_view_name": "StyleView",
            "description_width": ""
          }
        },
        "0c126ef140734a3db6ef38b786f6520e": {
          "model_module": "@jupyter-widgets/base",
          "model_name": "LayoutModel",
          "model_module_version": "1.2.0",
          "state": {
            "_model_module": "@jupyter-widgets/base",
            "_model_module_version": "1.2.0",
            "_model_name": "LayoutModel",
            "_view_count": null,
            "_view_module": "@jupyter-widgets/base",
            "_view_module_version": "1.2.0",
            "_view_name": "LayoutView",
            "align_content": null,
            "align_items": null,
            "align_self": null,
            "border": null,
            "bottom": null,
            "display": null,
            "flex": null,
            "flex_flow": null,
            "grid_area": null,
            "grid_auto_columns": null,
            "grid_auto_flow": null,
            "grid_auto_rows": null,
            "grid_column": null,
            "grid_gap": null,
            "grid_row": null,
            "grid_template_areas": null,
            "grid_template_columns": null,
            "grid_template_rows": null,
            "height": null,
            "justify_content": null,
            "justify_items": null,
            "left": null,
            "margin": null,
            "max_height": null,
            "max_width": null,
            "min_height": null,
            "min_width": null,
            "object_fit": null,
            "object_position": null,
            "order": null,
            "overflow": null,
            "overflow_x": null,
            "overflow_y": null,
            "padding": null,
            "right": null,
            "top": null,
            "visibility": null,
            "width": null
          }
        },
        "ca812b09209f4c94bd3410a78462d080": {
          "model_module": "@jupyter-widgets/controls",
          "model_name": "ProgressStyleModel",
          "model_module_version": "1.5.0",
          "state": {
            "_model_module": "@jupyter-widgets/controls",
            "_model_module_version": "1.5.0",
            "_model_name": "ProgressStyleModel",
            "_view_count": null,
            "_view_module": "@jupyter-widgets/base",
            "_view_module_version": "1.2.0",
            "_view_name": "StyleView",
            "bar_color": null,
            "description_width": ""
          }
        },
        "d0aa3b610cd94180be9f01675e343933": {
          "model_module": "@jupyter-widgets/base",
          "model_name": "LayoutModel",
          "model_module_version": "1.2.0",
          "state": {
            "_model_module": "@jupyter-widgets/base",
            "_model_module_version": "1.2.0",
            "_model_name": "LayoutModel",
            "_view_count": null,
            "_view_module": "@jupyter-widgets/base",
            "_view_module_version": "1.2.0",
            "_view_name": "LayoutView",
            "align_content": null,
            "align_items": null,
            "align_self": null,
            "border": null,
            "bottom": null,
            "display": null,
            "flex": null,
            "flex_flow": null,
            "grid_area": null,
            "grid_auto_columns": null,
            "grid_auto_flow": null,
            "grid_auto_rows": null,
            "grid_column": null,
            "grid_gap": null,
            "grid_row": null,
            "grid_template_areas": null,
            "grid_template_columns": null,
            "grid_template_rows": null,
            "height": null,
            "justify_content": null,
            "justify_items": null,
            "left": null,
            "margin": null,
            "max_height": null,
            "max_width": null,
            "min_height": null,
            "min_width": null,
            "object_fit": null,
            "object_position": null,
            "order": null,
            "overflow": null,
            "overflow_x": null,
            "overflow_y": null,
            "padding": null,
            "right": null,
            "top": null,
            "visibility": null,
            "width": null
          }
        },
        "d14c18251fdb46aeb7af234849c3f290": {
          "model_module": "@jupyter-widgets/controls",
          "model_name": "DescriptionStyleModel",
          "model_module_version": "1.5.0",
          "state": {
            "_model_module": "@jupyter-widgets/controls",
            "_model_module_version": "1.5.0",
            "_model_name": "DescriptionStyleModel",
            "_view_count": null,
            "_view_module": "@jupyter-widgets/base",
            "_view_module_version": "1.2.0",
            "_view_name": "StyleView",
            "description_width": ""
          }
        },
        "9e92bdf3ca534d3da2cac976a897eea3": {
          "model_module": "@jupyter-widgets/controls",
          "model_name": "HBoxModel",
          "model_module_version": "1.5.0",
          "state": {
            "_dom_classes": [],
            "_model_module": "@jupyter-widgets/controls",
            "_model_module_version": "1.5.0",
            "_model_name": "HBoxModel",
            "_view_count": null,
            "_view_module": "@jupyter-widgets/controls",
            "_view_module_version": "1.5.0",
            "_view_name": "HBoxView",
            "box_style": "",
            "children": [
              "IPY_MODEL_7a5296c2a7bd4c6e984e0cea4c10a952",
              "IPY_MODEL_f3eb04016cd24a2c9eaf086bf5ae43e5",
              "IPY_MODEL_ecbb093d2569400bb573fa273e4fb7cf"
            ],
            "layout": "IPY_MODEL_082f76d9c56945f081782a28d1394a8c"
          }
        },
        "7a5296c2a7bd4c6e984e0cea4c10a952": {
          "model_module": "@jupyter-widgets/controls",
          "model_name": "HTMLModel",
          "model_module_version": "1.5.0",
          "state": {
            "_dom_classes": [],
            "_model_module": "@jupyter-widgets/controls",
            "_model_module_version": "1.5.0",
            "_model_name": "HTMLModel",
            "_view_count": null,
            "_view_module": "@jupyter-widgets/controls",
            "_view_module_version": "1.5.0",
            "_view_name": "HTMLView",
            "description": "",
            "description_tooltip": null,
            "layout": "IPY_MODEL_4c74d72b1720486e8d9d508ad117bc84",
            "placeholder": "​",
            "style": "IPY_MODEL_6e501583d1e74423883be5476b25b4da",
            "value": "tokenizer_config.json: 100%"
          }
        },
        "f3eb04016cd24a2c9eaf086bf5ae43e5": {
          "model_module": "@jupyter-widgets/controls",
          "model_name": "FloatProgressModel",
          "model_module_version": "1.5.0",
          "state": {
            "_dom_classes": [],
            "_model_module": "@jupyter-widgets/controls",
            "_model_module_version": "1.5.0",
            "_model_name": "FloatProgressModel",
            "_view_count": null,
            "_view_module": "@jupyter-widgets/controls",
            "_view_module_version": "1.5.0",
            "_view_name": "ProgressView",
            "bar_style": "success",
            "description": "",
            "description_tooltip": null,
            "layout": "IPY_MODEL_789d05aec1284ded809fbca1d66cffeb",
            "max": 1118,
            "min": 0,
            "orientation": "horizontal",
            "style": "IPY_MODEL_7a247a9a5f814d738303608b65d0f2f0",
            "value": 1118
          }
        },
        "ecbb093d2569400bb573fa273e4fb7cf": {
          "model_module": "@jupyter-widgets/controls",
          "model_name": "HTMLModel",
          "model_module_version": "1.5.0",
          "state": {
            "_dom_classes": [],
            "_model_module": "@jupyter-widgets/controls",
            "_model_module_version": "1.5.0",
            "_model_name": "HTMLModel",
            "_view_count": null,
            "_view_module": "@jupyter-widgets/controls",
            "_view_module_version": "1.5.0",
            "_view_name": "HTMLView",
            "description": "",
            "description_tooltip": null,
            "layout": "IPY_MODEL_a7959f545f4e4617b0541f4167f9dce8",
            "placeholder": "​",
            "style": "IPY_MODEL_b6a30876efe948488fafbc7bf7c7b8e2",
            "value": " 1.12k/1.12k [00:00&lt;00:00, 15.5kB/s]"
          }
        },
        "082f76d9c56945f081782a28d1394a8c": {
          "model_module": "@jupyter-widgets/base",
          "model_name": "LayoutModel",
          "model_module_version": "1.2.0",
          "state": {
            "_model_module": "@jupyter-widgets/base",
            "_model_module_version": "1.2.0",
            "_model_name": "LayoutModel",
            "_view_count": null,
            "_view_module": "@jupyter-widgets/base",
            "_view_module_version": "1.2.0",
            "_view_name": "LayoutView",
            "align_content": null,
            "align_items": null,
            "align_self": null,
            "border": null,
            "bottom": null,
            "display": null,
            "flex": null,
            "flex_flow": null,
            "grid_area": null,
            "grid_auto_columns": null,
            "grid_auto_flow": null,
            "grid_auto_rows": null,
            "grid_column": null,
            "grid_gap": null,
            "grid_row": null,
            "grid_template_areas": null,
            "grid_template_columns": null,
            "grid_template_rows": null,
            "height": null,
            "justify_content": null,
            "justify_items": null,
            "left": null,
            "margin": null,
            "max_height": null,
            "max_width": null,
            "min_height": null,
            "min_width": null,
            "object_fit": null,
            "object_position": null,
            "order": null,
            "overflow": null,
            "overflow_x": null,
            "overflow_y": null,
            "padding": null,
            "right": null,
            "top": null,
            "visibility": null,
            "width": null
          }
        },
        "4c74d72b1720486e8d9d508ad117bc84": {
          "model_module": "@jupyter-widgets/base",
          "model_name": "LayoutModel",
          "model_module_version": "1.2.0",
          "state": {
            "_model_module": "@jupyter-widgets/base",
            "_model_module_version": "1.2.0",
            "_model_name": "LayoutModel",
            "_view_count": null,
            "_view_module": "@jupyter-widgets/base",
            "_view_module_version": "1.2.0",
            "_view_name": "LayoutView",
            "align_content": null,
            "align_items": null,
            "align_self": null,
            "border": null,
            "bottom": null,
            "display": null,
            "flex": null,
            "flex_flow": null,
            "grid_area": null,
            "grid_auto_columns": null,
            "grid_auto_flow": null,
            "grid_auto_rows": null,
            "grid_column": null,
            "grid_gap": null,
            "grid_row": null,
            "grid_template_areas": null,
            "grid_template_columns": null,
            "grid_template_rows": null,
            "height": null,
            "justify_content": null,
            "justify_items": null,
            "left": null,
            "margin": null,
            "max_height": null,
            "max_width": null,
            "min_height": null,
            "min_width": null,
            "object_fit": null,
            "object_position": null,
            "order": null,
            "overflow": null,
            "overflow_x": null,
            "overflow_y": null,
            "padding": null,
            "right": null,
            "top": null,
            "visibility": null,
            "width": null
          }
        },
        "6e501583d1e74423883be5476b25b4da": {
          "model_module": "@jupyter-widgets/controls",
          "model_name": "DescriptionStyleModel",
          "model_module_version": "1.5.0",
          "state": {
            "_model_module": "@jupyter-widgets/controls",
            "_model_module_version": "1.5.0",
            "_model_name": "DescriptionStyleModel",
            "_view_count": null,
            "_view_module": "@jupyter-widgets/base",
            "_view_module_version": "1.2.0",
            "_view_name": "StyleView",
            "description_width": ""
          }
        },
        "789d05aec1284ded809fbca1d66cffeb": {
          "model_module": "@jupyter-widgets/base",
          "model_name": "LayoutModel",
          "model_module_version": "1.2.0",
          "state": {
            "_model_module": "@jupyter-widgets/base",
            "_model_module_version": "1.2.0",
            "_model_name": "LayoutModel",
            "_view_count": null,
            "_view_module": "@jupyter-widgets/base",
            "_view_module_version": "1.2.0",
            "_view_name": "LayoutView",
            "align_content": null,
            "align_items": null,
            "align_self": null,
            "border": null,
            "bottom": null,
            "display": null,
            "flex": null,
            "flex_flow": null,
            "grid_area": null,
            "grid_auto_columns": null,
            "grid_auto_flow": null,
            "grid_auto_rows": null,
            "grid_column": null,
            "grid_gap": null,
            "grid_row": null,
            "grid_template_areas": null,
            "grid_template_columns": null,
            "grid_template_rows": null,
            "height": null,
            "justify_content": null,
            "justify_items": null,
            "left": null,
            "margin": null,
            "max_height": null,
            "max_width": null,
            "min_height": null,
            "min_width": null,
            "object_fit": null,
            "object_position": null,
            "order": null,
            "overflow": null,
            "overflow_x": null,
            "overflow_y": null,
            "padding": null,
            "right": null,
            "top": null,
            "visibility": null,
            "width": null
          }
        },
        "7a247a9a5f814d738303608b65d0f2f0": {
          "model_module": "@jupyter-widgets/controls",
          "model_name": "ProgressStyleModel",
          "model_module_version": "1.5.0",
          "state": {
            "_model_module": "@jupyter-widgets/controls",
            "_model_module_version": "1.5.0",
            "_model_name": "ProgressStyleModel",
            "_view_count": null,
            "_view_module": "@jupyter-widgets/base",
            "_view_module_version": "1.2.0",
            "_view_name": "StyleView",
            "bar_color": null,
            "description_width": ""
          }
        },
        "a7959f545f4e4617b0541f4167f9dce8": {
          "model_module": "@jupyter-widgets/base",
          "model_name": "LayoutModel",
          "model_module_version": "1.2.0",
          "state": {
            "_model_module": "@jupyter-widgets/base",
            "_model_module_version": "1.2.0",
            "_model_name": "LayoutModel",
            "_view_count": null,
            "_view_module": "@jupyter-widgets/base",
            "_view_module_version": "1.2.0",
            "_view_name": "LayoutView",
            "align_content": null,
            "align_items": null,
            "align_self": null,
            "border": null,
            "bottom": null,
            "display": null,
            "flex": null,
            "flex_flow": null,
            "grid_area": null,
            "grid_auto_columns": null,
            "grid_auto_flow": null,
            "grid_auto_rows": null,
            "grid_column": null,
            "grid_gap": null,
            "grid_row": null,
            "grid_template_areas": null,
            "grid_template_columns": null,
            "grid_template_rows": null,
            "height": null,
            "justify_content": null,
            "justify_items": null,
            "left": null,
            "margin": null,
            "max_height": null,
            "max_width": null,
            "min_height": null,
            "min_width": null,
            "object_fit": null,
            "object_position": null,
            "order": null,
            "overflow": null,
            "overflow_x": null,
            "overflow_y": null,
            "padding": null,
            "right": null,
            "top": null,
            "visibility": null,
            "width": null
          }
        },
        "b6a30876efe948488fafbc7bf7c7b8e2": {
          "model_module": "@jupyter-widgets/controls",
          "model_name": "DescriptionStyleModel",
          "model_module_version": "1.5.0",
          "state": {
            "_model_module": "@jupyter-widgets/controls",
            "_model_module_version": "1.5.0",
            "_model_name": "DescriptionStyleModel",
            "_view_count": null,
            "_view_module": "@jupyter-widgets/base",
            "_view_module_version": "1.2.0",
            "_view_name": "StyleView",
            "description_width": ""
          }
        },
        "28f136f4f37c457a84b0b8f06318bca7": {
          "model_module": "@jupyter-widgets/controls",
          "model_name": "HBoxModel",
          "model_module_version": "1.5.0",
          "state": {
            "_dom_classes": [],
            "_model_module": "@jupyter-widgets/controls",
            "_model_module_version": "1.5.0",
            "_model_name": "HBoxModel",
            "_view_count": null,
            "_view_module": "@jupyter-widgets/controls",
            "_view_module_version": "1.5.0",
            "_view_name": "HBoxView",
            "box_style": "",
            "children": [
              "IPY_MODEL_c6d09dae00d842f882a57cf9c443223b",
              "IPY_MODEL_677cd50c260145869a03356b7f63130d",
              "IPY_MODEL_7204e4f22c3b445f86c9c11c5000c645"
            ],
            "layout": "IPY_MODEL_3914653d3aec42788bb69f19910e8280"
          }
        },
        "c6d09dae00d842f882a57cf9c443223b": {
          "model_module": "@jupyter-widgets/controls",
          "model_name": "HTMLModel",
          "model_module_version": "1.5.0",
          "state": {
            "_dom_classes": [],
            "_model_module": "@jupyter-widgets/controls",
            "_model_module_version": "1.5.0",
            "_model_name": "HTMLModel",
            "_view_count": null,
            "_view_module": "@jupyter-widgets/controls",
            "_view_module_version": "1.5.0",
            "_view_name": "HTMLView",
            "description": "",
            "description_tooltip": null,
            "layout": "IPY_MODEL_87cb504102de4216bbb46cb2dd91160d",
            "placeholder": "​",
            "style": "IPY_MODEL_1c6d7ac682c04f88910df64c0048e98c",
            "value": "vocab.json: 100%"
          }
        },
        "677cd50c260145869a03356b7f63130d": {
          "model_module": "@jupyter-widgets/controls",
          "model_name": "FloatProgressModel",
          "model_module_version": "1.5.0",
          "state": {
            "_dom_classes": [],
            "_model_module": "@jupyter-widgets/controls",
            "_model_module_version": "1.5.0",
            "_model_name": "FloatProgressModel",
            "_view_count": null,
            "_view_module": "@jupyter-widgets/controls",
            "_view_module_version": "1.5.0",
            "_view_name": "ProgressView",
            "bar_style": "success",
            "description": "",
            "description_tooltip": null,
            "layout": "IPY_MODEL_4cf0ea63f8b840d59490e8ef8698ffcb",
            "max": 898822,
            "min": 0,
            "orientation": "horizontal",
            "style": "IPY_MODEL_19b69fba15a24bc8a9dc09a928b778c0",
            "value": 898822
          }
        },
        "7204e4f22c3b445f86c9c11c5000c645": {
          "model_module": "@jupyter-widgets/controls",
          "model_name": "HTMLModel",
          "model_module_version": "1.5.0",
          "state": {
            "_dom_classes": [],
            "_model_module": "@jupyter-widgets/controls",
            "_model_module_version": "1.5.0",
            "_model_name": "HTMLModel",
            "_view_count": null,
            "_view_module": "@jupyter-widgets/controls",
            "_view_module_version": "1.5.0",
            "_view_name": "HTMLView",
            "description": "",
            "description_tooltip": null,
            "layout": "IPY_MODEL_29c29958cd1940acbf5a906b7a33670c",
            "placeholder": "​",
            "style": "IPY_MODEL_0c770300da5245cc92e233797880bc86",
            "value": " 899k/899k [00:00&lt;00:00, 3.43MB/s]"
          }
        },
        "3914653d3aec42788bb69f19910e8280": {
          "model_module": "@jupyter-widgets/base",
          "model_name": "LayoutModel",
          "model_module_version": "1.2.0",
          "state": {
            "_model_module": "@jupyter-widgets/base",
            "_model_module_version": "1.2.0",
            "_model_name": "LayoutModel",
            "_view_count": null,
            "_view_module": "@jupyter-widgets/base",
            "_view_module_version": "1.2.0",
            "_view_name": "LayoutView",
            "align_content": null,
            "align_items": null,
            "align_self": null,
            "border": null,
            "bottom": null,
            "display": null,
            "flex": null,
            "flex_flow": null,
            "grid_area": null,
            "grid_auto_columns": null,
            "grid_auto_flow": null,
            "grid_auto_rows": null,
            "grid_column": null,
            "grid_gap": null,
            "grid_row": null,
            "grid_template_areas": null,
            "grid_template_columns": null,
            "grid_template_rows": null,
            "height": null,
            "justify_content": null,
            "justify_items": null,
            "left": null,
            "margin": null,
            "max_height": null,
            "max_width": null,
            "min_height": null,
            "min_width": null,
            "object_fit": null,
            "object_position": null,
            "order": null,
            "overflow": null,
            "overflow_x": null,
            "overflow_y": null,
            "padding": null,
            "right": null,
            "top": null,
            "visibility": null,
            "width": null
          }
        },
        "87cb504102de4216bbb46cb2dd91160d": {
          "model_module": "@jupyter-widgets/base",
          "model_name": "LayoutModel",
          "model_module_version": "1.2.0",
          "state": {
            "_model_module": "@jupyter-widgets/base",
            "_model_module_version": "1.2.0",
            "_model_name": "LayoutModel",
            "_view_count": null,
            "_view_module": "@jupyter-widgets/base",
            "_view_module_version": "1.2.0",
            "_view_name": "LayoutView",
            "align_content": null,
            "align_items": null,
            "align_self": null,
            "border": null,
            "bottom": null,
            "display": null,
            "flex": null,
            "flex_flow": null,
            "grid_area": null,
            "grid_auto_columns": null,
            "grid_auto_flow": null,
            "grid_auto_rows": null,
            "grid_column": null,
            "grid_gap": null,
            "grid_row": null,
            "grid_template_areas": null,
            "grid_template_columns": null,
            "grid_template_rows": null,
            "height": null,
            "justify_content": null,
            "justify_items": null,
            "left": null,
            "margin": null,
            "max_height": null,
            "max_width": null,
            "min_height": null,
            "min_width": null,
            "object_fit": null,
            "object_position": null,
            "order": null,
            "overflow": null,
            "overflow_x": null,
            "overflow_y": null,
            "padding": null,
            "right": null,
            "top": null,
            "visibility": null,
            "width": null
          }
        },
        "1c6d7ac682c04f88910df64c0048e98c": {
          "model_module": "@jupyter-widgets/controls",
          "model_name": "DescriptionStyleModel",
          "model_module_version": "1.5.0",
          "state": {
            "_model_module": "@jupyter-widgets/controls",
            "_model_module_version": "1.5.0",
            "_model_name": "DescriptionStyleModel",
            "_view_count": null,
            "_view_module": "@jupyter-widgets/base",
            "_view_module_version": "1.2.0",
            "_view_name": "StyleView",
            "description_width": ""
          }
        },
        "4cf0ea63f8b840d59490e8ef8698ffcb": {
          "model_module": "@jupyter-widgets/base",
          "model_name": "LayoutModel",
          "model_module_version": "1.2.0",
          "state": {
            "_model_module": "@jupyter-widgets/base",
            "_model_module_version": "1.2.0",
            "_model_name": "LayoutModel",
            "_view_count": null,
            "_view_module": "@jupyter-widgets/base",
            "_view_module_version": "1.2.0",
            "_view_name": "LayoutView",
            "align_content": null,
            "align_items": null,
            "align_self": null,
            "border": null,
            "bottom": null,
            "display": null,
            "flex": null,
            "flex_flow": null,
            "grid_area": null,
            "grid_auto_columns": null,
            "grid_auto_flow": null,
            "grid_auto_rows": null,
            "grid_column": null,
            "grid_gap": null,
            "grid_row": null,
            "grid_template_areas": null,
            "grid_template_columns": null,
            "grid_template_rows": null,
            "height": null,
            "justify_content": null,
            "justify_items": null,
            "left": null,
            "margin": null,
            "max_height": null,
            "max_width": null,
            "min_height": null,
            "min_width": null,
            "object_fit": null,
            "object_position": null,
            "order": null,
            "overflow": null,
            "overflow_x": null,
            "overflow_y": null,
            "padding": null,
            "right": null,
            "top": null,
            "visibility": null,
            "width": null
          }
        },
        "19b69fba15a24bc8a9dc09a928b778c0": {
          "model_module": "@jupyter-widgets/controls",
          "model_name": "ProgressStyleModel",
          "model_module_version": "1.5.0",
          "state": {
            "_model_module": "@jupyter-widgets/controls",
            "_model_module_version": "1.5.0",
            "_model_name": "ProgressStyleModel",
            "_view_count": null,
            "_view_module": "@jupyter-widgets/base",
            "_view_module_version": "1.2.0",
            "_view_name": "StyleView",
            "bar_color": null,
            "description_width": ""
          }
        },
        "29c29958cd1940acbf5a906b7a33670c": {
          "model_module": "@jupyter-widgets/base",
          "model_name": "LayoutModel",
          "model_module_version": "1.2.0",
          "state": {
            "_model_module": "@jupyter-widgets/base",
            "_model_module_version": "1.2.0",
            "_model_name": "LayoutModel",
            "_view_count": null,
            "_view_module": "@jupyter-widgets/base",
            "_view_module_version": "1.2.0",
            "_view_name": "LayoutView",
            "align_content": null,
            "align_items": null,
            "align_self": null,
            "border": null,
            "bottom": null,
            "display": null,
            "flex": null,
            "flex_flow": null,
            "grid_area": null,
            "grid_auto_columns": null,
            "grid_auto_flow": null,
            "grid_auto_rows": null,
            "grid_column": null,
            "grid_gap": null,
            "grid_row": null,
            "grid_template_areas": null,
            "grid_template_columns": null,
            "grid_template_rows": null,
            "height": null,
            "justify_content": null,
            "justify_items": null,
            "left": null,
            "margin": null,
            "max_height": null,
            "max_width": null,
            "min_height": null,
            "min_width": null,
            "object_fit": null,
            "object_position": null,
            "order": null,
            "overflow": null,
            "overflow_x": null,
            "overflow_y": null,
            "padding": null,
            "right": null,
            "top": null,
            "visibility": null,
            "width": null
          }
        },
        "0c770300da5245cc92e233797880bc86": {
          "model_module": "@jupyter-widgets/controls",
          "model_name": "DescriptionStyleModel",
          "model_module_version": "1.5.0",
          "state": {
            "_model_module": "@jupyter-widgets/controls",
            "_model_module_version": "1.5.0",
            "_model_name": "DescriptionStyleModel",
            "_view_count": null,
            "_view_module": "@jupyter-widgets/base",
            "_view_module_version": "1.2.0",
            "_view_name": "StyleView",
            "description_width": ""
          }
        },
        "baded2c1426042338483f21d43023101": {
          "model_module": "@jupyter-widgets/controls",
          "model_name": "HBoxModel",
          "model_module_version": "1.5.0",
          "state": {
            "_dom_classes": [],
            "_model_module": "@jupyter-widgets/controls",
            "_model_module_version": "1.5.0",
            "_model_name": "HBoxModel",
            "_view_count": null,
            "_view_module": "@jupyter-widgets/controls",
            "_view_module_version": "1.5.0",
            "_view_name": "HBoxView",
            "box_style": "",
            "children": [
              "IPY_MODEL_d7213d27a6264dc6817a89c17fef49f5",
              "IPY_MODEL_3440771787c44d06adfa2c160adb42cf",
              "IPY_MODEL_045e3d60995a45559f4b59d44d850ea4"
            ],
            "layout": "IPY_MODEL_5ee2d65fce0846f7aff8cb1f29f4b17f"
          }
        },
        "d7213d27a6264dc6817a89c17fef49f5": {
          "model_module": "@jupyter-widgets/controls",
          "model_name": "HTMLModel",
          "model_module_version": "1.5.0",
          "state": {
            "_dom_classes": [],
            "_model_module": "@jupyter-widgets/controls",
            "_model_module_version": "1.5.0",
            "_model_name": "HTMLModel",
            "_view_count": null,
            "_view_module": "@jupyter-widgets/controls",
            "_view_module_version": "1.5.0",
            "_view_name": "HTMLView",
            "description": "",
            "description_tooltip": null,
            "layout": "IPY_MODEL_f5ef5355d51342d9b8d7db3c0d40d741",
            "placeholder": "​",
            "style": "IPY_MODEL_bb7c65282cec4ba8ada16640065c5115",
            "value": "merges.txt: 100%"
          }
        },
        "3440771787c44d06adfa2c160adb42cf": {
          "model_module": "@jupyter-widgets/controls",
          "model_name": "FloatProgressModel",
          "model_module_version": "1.5.0",
          "state": {
            "_dom_classes": [],
            "_model_module": "@jupyter-widgets/controls",
            "_model_module_version": "1.5.0",
            "_model_name": "FloatProgressModel",
            "_view_count": null,
            "_view_module": "@jupyter-widgets/controls",
            "_view_module_version": "1.5.0",
            "_view_name": "ProgressView",
            "bar_style": "success",
            "description": "",
            "description_tooltip": null,
            "layout": "IPY_MODEL_a785e77b00f04cb2a0777de93701de09",
            "max": 456318,
            "min": 0,
            "orientation": "horizontal",
            "style": "IPY_MODEL_45e1eed511154877afaede715c5727d9",
            "value": 456318
          }
        },
        "045e3d60995a45559f4b59d44d850ea4": {
          "model_module": "@jupyter-widgets/controls",
          "model_name": "HTMLModel",
          "model_module_version": "1.5.0",
          "state": {
            "_dom_classes": [],
            "_model_module": "@jupyter-widgets/controls",
            "_model_module_version": "1.5.0",
            "_model_name": "HTMLModel",
            "_view_count": null,
            "_view_module": "@jupyter-widgets/controls",
            "_view_module_version": "1.5.0",
            "_view_name": "HTMLView",
            "description": "",
            "description_tooltip": null,
            "layout": "IPY_MODEL_e4a360b4347a4020b34e1b6fdb56c4d0",
            "placeholder": "​",
            "style": "IPY_MODEL_37f38a46cafd4b97aa6279f3b5fdb40a",
            "value": " 456k/456k [00:00&lt;00:00, 3.57MB/s]"
          }
        },
        "5ee2d65fce0846f7aff8cb1f29f4b17f": {
          "model_module": "@jupyter-widgets/base",
          "model_name": "LayoutModel",
          "model_module_version": "1.2.0",
          "state": {
            "_model_module": "@jupyter-widgets/base",
            "_model_module_version": "1.2.0",
            "_model_name": "LayoutModel",
            "_view_count": null,
            "_view_module": "@jupyter-widgets/base",
            "_view_module_version": "1.2.0",
            "_view_name": "LayoutView",
            "align_content": null,
            "align_items": null,
            "align_self": null,
            "border": null,
            "bottom": null,
            "display": null,
            "flex": null,
            "flex_flow": null,
            "grid_area": null,
            "grid_auto_columns": null,
            "grid_auto_flow": null,
            "grid_auto_rows": null,
            "grid_column": null,
            "grid_gap": null,
            "grid_row": null,
            "grid_template_areas": null,
            "grid_template_columns": null,
            "grid_template_rows": null,
            "height": null,
            "justify_content": null,
            "justify_items": null,
            "left": null,
            "margin": null,
            "max_height": null,
            "max_width": null,
            "min_height": null,
            "min_width": null,
            "object_fit": null,
            "object_position": null,
            "order": null,
            "overflow": null,
            "overflow_x": null,
            "overflow_y": null,
            "padding": null,
            "right": null,
            "top": null,
            "visibility": null,
            "width": null
          }
        },
        "f5ef5355d51342d9b8d7db3c0d40d741": {
          "model_module": "@jupyter-widgets/base",
          "model_name": "LayoutModel",
          "model_module_version": "1.2.0",
          "state": {
            "_model_module": "@jupyter-widgets/base",
            "_model_module_version": "1.2.0",
            "_model_name": "LayoutModel",
            "_view_count": null,
            "_view_module": "@jupyter-widgets/base",
            "_view_module_version": "1.2.0",
            "_view_name": "LayoutView",
            "align_content": null,
            "align_items": null,
            "align_self": null,
            "border": null,
            "bottom": null,
            "display": null,
            "flex": null,
            "flex_flow": null,
            "grid_area": null,
            "grid_auto_columns": null,
            "grid_auto_flow": null,
            "grid_auto_rows": null,
            "grid_column": null,
            "grid_gap": null,
            "grid_row": null,
            "grid_template_areas": null,
            "grid_template_columns": null,
            "grid_template_rows": null,
            "height": null,
            "justify_content": null,
            "justify_items": null,
            "left": null,
            "margin": null,
            "max_height": null,
            "max_width": null,
            "min_height": null,
            "min_width": null,
            "object_fit": null,
            "object_position": null,
            "order": null,
            "overflow": null,
            "overflow_x": null,
            "overflow_y": null,
            "padding": null,
            "right": null,
            "top": null,
            "visibility": null,
            "width": null
          }
        },
        "bb7c65282cec4ba8ada16640065c5115": {
          "model_module": "@jupyter-widgets/controls",
          "model_name": "DescriptionStyleModel",
          "model_module_version": "1.5.0",
          "state": {
            "_model_module": "@jupyter-widgets/controls",
            "_model_module_version": "1.5.0",
            "_model_name": "DescriptionStyleModel",
            "_view_count": null,
            "_view_module": "@jupyter-widgets/base",
            "_view_module_version": "1.2.0",
            "_view_name": "StyleView",
            "description_width": ""
          }
        },
        "a785e77b00f04cb2a0777de93701de09": {
          "model_module": "@jupyter-widgets/base",
          "model_name": "LayoutModel",
          "model_module_version": "1.2.0",
          "state": {
            "_model_module": "@jupyter-widgets/base",
            "_model_module_version": "1.2.0",
            "_model_name": "LayoutModel",
            "_view_count": null,
            "_view_module": "@jupyter-widgets/base",
            "_view_module_version": "1.2.0",
            "_view_name": "LayoutView",
            "align_content": null,
            "align_items": null,
            "align_self": null,
            "border": null,
            "bottom": null,
            "display": null,
            "flex": null,
            "flex_flow": null,
            "grid_area": null,
            "grid_auto_columns": null,
            "grid_auto_flow": null,
            "grid_auto_rows": null,
            "grid_column": null,
            "grid_gap": null,
            "grid_row": null,
            "grid_template_areas": null,
            "grid_template_columns": null,
            "grid_template_rows": null,
            "height": null,
            "justify_content": null,
            "justify_items": null,
            "left": null,
            "margin": null,
            "max_height": null,
            "max_width": null,
            "min_height": null,
            "min_width": null,
            "object_fit": null,
            "object_position": null,
            "order": null,
            "overflow": null,
            "overflow_x": null,
            "overflow_y": null,
            "padding": null,
            "right": null,
            "top": null,
            "visibility": null,
            "width": null
          }
        },
        "45e1eed511154877afaede715c5727d9": {
          "model_module": "@jupyter-widgets/controls",
          "model_name": "ProgressStyleModel",
          "model_module_version": "1.5.0",
          "state": {
            "_model_module": "@jupyter-widgets/controls",
            "_model_module_version": "1.5.0",
            "_model_name": "ProgressStyleModel",
            "_view_count": null,
            "_view_module": "@jupyter-widgets/base",
            "_view_module_version": "1.2.0",
            "_view_name": "StyleView",
            "bar_color": null,
            "description_width": ""
          }
        },
        "e4a360b4347a4020b34e1b6fdb56c4d0": {
          "model_module": "@jupyter-widgets/base",
          "model_name": "LayoutModel",
          "model_module_version": "1.2.0",
          "state": {
            "_model_module": "@jupyter-widgets/base",
            "_model_module_version": "1.2.0",
            "_model_name": "LayoutModel",
            "_view_count": null,
            "_view_module": "@jupyter-widgets/base",
            "_view_module_version": "1.2.0",
            "_view_name": "LayoutView",
            "align_content": null,
            "align_items": null,
            "align_self": null,
            "border": null,
            "bottom": null,
            "display": null,
            "flex": null,
            "flex_flow": null,
            "grid_area": null,
            "grid_auto_columns": null,
            "grid_auto_flow": null,
            "grid_auto_rows": null,
            "grid_column": null,
            "grid_gap": null,
            "grid_row": null,
            "grid_template_areas": null,
            "grid_template_columns": null,
            "grid_template_rows": null,
            "height": null,
            "justify_content": null,
            "justify_items": null,
            "left": null,
            "margin": null,
            "max_height": null,
            "max_width": null,
            "min_height": null,
            "min_width": null,
            "object_fit": null,
            "object_position": null,
            "order": null,
            "overflow": null,
            "overflow_x": null,
            "overflow_y": null,
            "padding": null,
            "right": null,
            "top": null,
            "visibility": null,
            "width": null
          }
        },
        "37f38a46cafd4b97aa6279f3b5fdb40a": {
          "model_module": "@jupyter-widgets/controls",
          "model_name": "DescriptionStyleModel",
          "model_module_version": "1.5.0",
          "state": {
            "_model_module": "@jupyter-widgets/controls",
            "_model_module_version": "1.5.0",
            "_model_name": "DescriptionStyleModel",
            "_view_count": null,
            "_view_module": "@jupyter-widgets/base",
            "_view_module_version": "1.2.0",
            "_view_name": "StyleView",
            "description_width": ""
          }
        },
        "5da73443e1aa4fabb0508d497cf6dfc3": {
          "model_module": "@jupyter-widgets/controls",
          "model_name": "HBoxModel",
          "model_module_version": "1.5.0",
          "state": {
            "_dom_classes": [],
            "_model_module": "@jupyter-widgets/controls",
            "_model_module_version": "1.5.0",
            "_model_name": "HBoxModel",
            "_view_count": null,
            "_view_module": "@jupyter-widgets/controls",
            "_view_module_version": "1.5.0",
            "_view_name": "HBoxView",
            "box_style": "",
            "children": [
              "IPY_MODEL_d698edd77a584a37b98ca7c9f01bee61",
              "IPY_MODEL_d758a90a2d3d45f9941c3d69e7483b54",
              "IPY_MODEL_989ae05c71b348819491fa8161002110"
            ],
            "layout": "IPY_MODEL_56cde528fb654c9c9a5f8621cae50b3e"
          }
        },
        "d698edd77a584a37b98ca7c9f01bee61": {
          "model_module": "@jupyter-widgets/controls",
          "model_name": "HTMLModel",
          "model_module_version": "1.5.0",
          "state": {
            "_dom_classes": [],
            "_model_module": "@jupyter-widgets/controls",
            "_model_module_version": "1.5.0",
            "_model_name": "HTMLModel",
            "_view_count": null,
            "_view_module": "@jupyter-widgets/controls",
            "_view_module_version": "1.5.0",
            "_view_name": "HTMLView",
            "description": "",
            "description_tooltip": null,
            "layout": "IPY_MODEL_67e7cc27280f4263a84cdebbd302cbb2",
            "placeholder": "​",
            "style": "IPY_MODEL_e794f7c2426a4f4e9eb95bb3291673b6",
            "value": "special_tokens_map.json: 100%"
          }
        },
        "d758a90a2d3d45f9941c3d69e7483b54": {
          "model_module": "@jupyter-widgets/controls",
          "model_name": "FloatProgressModel",
          "model_module_version": "1.5.0",
          "state": {
            "_dom_classes": [],
            "_model_module": "@jupyter-widgets/controls",
            "_model_module_version": "1.5.0",
            "_model_name": "FloatProgressModel",
            "_view_count": null,
            "_view_module": "@jupyter-widgets/controls",
            "_view_module_version": "1.5.0",
            "_view_name": "ProgressView",
            "bar_style": "success",
            "description": "",
            "description_tooltip": null,
            "layout": "IPY_MODEL_2b7aabc6540d47e794469e5128a866a7",
            "max": 772,
            "min": 0,
            "orientation": "horizontal",
            "style": "IPY_MODEL_11a8c20c1b1f4172a6821c0d2a90e843",
            "value": 772
          }
        },
        "989ae05c71b348819491fa8161002110": {
          "model_module": "@jupyter-widgets/controls",
          "model_name": "HTMLModel",
          "model_module_version": "1.5.0",
          "state": {
            "_dom_classes": [],
            "_model_module": "@jupyter-widgets/controls",
            "_model_module_version": "1.5.0",
            "_model_name": "HTMLModel",
            "_view_count": null,
            "_view_module": "@jupyter-widgets/controls",
            "_view_module_version": "1.5.0",
            "_view_name": "HTMLView",
            "description": "",
            "description_tooltip": null,
            "layout": "IPY_MODEL_6cf24926ef6744ac908e15be76aaa60d",
            "placeholder": "​",
            "style": "IPY_MODEL_0bcac27f7ffc4a149d8ee83bbebd8806",
            "value": " 772/772 [00:00&lt;00:00, 10.4kB/s]"
          }
        },
        "56cde528fb654c9c9a5f8621cae50b3e": {
          "model_module": "@jupyter-widgets/base",
          "model_name": "LayoutModel",
          "model_module_version": "1.2.0",
          "state": {
            "_model_module": "@jupyter-widgets/base",
            "_model_module_version": "1.2.0",
            "_model_name": "LayoutModel",
            "_view_count": null,
            "_view_module": "@jupyter-widgets/base",
            "_view_module_version": "1.2.0",
            "_view_name": "LayoutView",
            "align_content": null,
            "align_items": null,
            "align_self": null,
            "border": null,
            "bottom": null,
            "display": null,
            "flex": null,
            "flex_flow": null,
            "grid_area": null,
            "grid_auto_columns": null,
            "grid_auto_flow": null,
            "grid_auto_rows": null,
            "grid_column": null,
            "grid_gap": null,
            "grid_row": null,
            "grid_template_areas": null,
            "grid_template_columns": null,
            "grid_template_rows": null,
            "height": null,
            "justify_content": null,
            "justify_items": null,
            "left": null,
            "margin": null,
            "max_height": null,
            "max_width": null,
            "min_height": null,
            "min_width": null,
            "object_fit": null,
            "object_position": null,
            "order": null,
            "overflow": null,
            "overflow_x": null,
            "overflow_y": null,
            "padding": null,
            "right": null,
            "top": null,
            "visibility": null,
            "width": null
          }
        },
        "67e7cc27280f4263a84cdebbd302cbb2": {
          "model_module": "@jupyter-widgets/base",
          "model_name": "LayoutModel",
          "model_module_version": "1.2.0",
          "state": {
            "_model_module": "@jupyter-widgets/base",
            "_model_module_version": "1.2.0",
            "_model_name": "LayoutModel",
            "_view_count": null,
            "_view_module": "@jupyter-widgets/base",
            "_view_module_version": "1.2.0",
            "_view_name": "LayoutView",
            "align_content": null,
            "align_items": null,
            "align_self": null,
            "border": null,
            "bottom": null,
            "display": null,
            "flex": null,
            "flex_flow": null,
            "grid_area": null,
            "grid_auto_columns": null,
            "grid_auto_flow": null,
            "grid_auto_rows": null,
            "grid_column": null,
            "grid_gap": null,
            "grid_row": null,
            "grid_template_areas": null,
            "grid_template_columns": null,
            "grid_template_rows": null,
            "height": null,
            "justify_content": null,
            "justify_items": null,
            "left": null,
            "margin": null,
            "max_height": null,
            "max_width": null,
            "min_height": null,
            "min_width": null,
            "object_fit": null,
            "object_position": null,
            "order": null,
            "overflow": null,
            "overflow_x": null,
            "overflow_y": null,
            "padding": null,
            "right": null,
            "top": null,
            "visibility": null,
            "width": null
          }
        },
        "e794f7c2426a4f4e9eb95bb3291673b6": {
          "model_module": "@jupyter-widgets/controls",
          "model_name": "DescriptionStyleModel",
          "model_module_version": "1.5.0",
          "state": {
            "_model_module": "@jupyter-widgets/controls",
            "_model_module_version": "1.5.0",
            "_model_name": "DescriptionStyleModel",
            "_view_count": null,
            "_view_module": "@jupyter-widgets/base",
            "_view_module_version": "1.2.0",
            "_view_name": "StyleView",
            "description_width": ""
          }
        },
        "2b7aabc6540d47e794469e5128a866a7": {
          "model_module": "@jupyter-widgets/base",
          "model_name": "LayoutModel",
          "model_module_version": "1.2.0",
          "state": {
            "_model_module": "@jupyter-widgets/base",
            "_model_module_version": "1.2.0",
            "_model_name": "LayoutModel",
            "_view_count": null,
            "_view_module": "@jupyter-widgets/base",
            "_view_module_version": "1.2.0",
            "_view_name": "LayoutView",
            "align_content": null,
            "align_items": null,
            "align_self": null,
            "border": null,
            "bottom": null,
            "display": null,
            "flex": null,
            "flex_flow": null,
            "grid_area": null,
            "grid_auto_columns": null,
            "grid_auto_flow": null,
            "grid_auto_rows": null,
            "grid_column": null,
            "grid_gap": null,
            "grid_row": null,
            "grid_template_areas": null,
            "grid_template_columns": null,
            "grid_template_rows": null,
            "height": null,
            "justify_content": null,
            "justify_items": null,
            "left": null,
            "margin": null,
            "max_height": null,
            "max_width": null,
            "min_height": null,
            "min_width": null,
            "object_fit": null,
            "object_position": null,
            "order": null,
            "overflow": null,
            "overflow_x": null,
            "overflow_y": null,
            "padding": null,
            "right": null,
            "top": null,
            "visibility": null,
            "width": null
          }
        },
        "11a8c20c1b1f4172a6821c0d2a90e843": {
          "model_module": "@jupyter-widgets/controls",
          "model_name": "ProgressStyleModel",
          "model_module_version": "1.5.0",
          "state": {
            "_model_module": "@jupyter-widgets/controls",
            "_model_module_version": "1.5.0",
            "_model_name": "ProgressStyleModel",
            "_view_count": null,
            "_view_module": "@jupyter-widgets/base",
            "_view_module_version": "1.2.0",
            "_view_name": "StyleView",
            "bar_color": null,
            "description_width": ""
          }
        },
        "6cf24926ef6744ac908e15be76aaa60d": {
          "model_module": "@jupyter-widgets/base",
          "model_name": "LayoutModel",
          "model_module_version": "1.2.0",
          "state": {
            "_model_module": "@jupyter-widgets/base",
            "_model_module_version": "1.2.0",
            "_model_name": "LayoutModel",
            "_view_count": null,
            "_view_module": "@jupyter-widgets/base",
            "_view_module_version": "1.2.0",
            "_view_name": "LayoutView",
            "align_content": null,
            "align_items": null,
            "align_self": null,
            "border": null,
            "bottom": null,
            "display": null,
            "flex": null,
            "flex_flow": null,
            "grid_area": null,
            "grid_auto_columns": null,
            "grid_auto_flow": null,
            "grid_auto_rows": null,
            "grid_column": null,
            "grid_gap": null,
            "grid_row": null,
            "grid_template_areas": null,
            "grid_template_columns": null,
            "grid_template_rows": null,
            "height": null,
            "justify_content": null,
            "justify_items": null,
            "left": null,
            "margin": null,
            "max_height": null,
            "max_width": null,
            "min_height": null,
            "min_width": null,
            "object_fit": null,
            "object_position": null,
            "order": null,
            "overflow": null,
            "overflow_x": null,
            "overflow_y": null,
            "padding": null,
            "right": null,
            "top": null,
            "visibility": null,
            "width": null
          }
        },
        "0bcac27f7ffc4a149d8ee83bbebd8806": {
          "model_module": "@jupyter-widgets/controls",
          "model_name": "DescriptionStyleModel",
          "model_module_version": "1.5.0",
          "state": {
            "_model_module": "@jupyter-widgets/controls",
            "_model_module_version": "1.5.0",
            "_model_name": "DescriptionStyleModel",
            "_view_count": null,
            "_view_module": "@jupyter-widgets/base",
            "_view_module_version": "1.2.0",
            "_view_name": "StyleView",
            "description_width": ""
          }
        }
      }
    }
  },
  "nbformat": 4,
  "nbformat_minor": 0
}